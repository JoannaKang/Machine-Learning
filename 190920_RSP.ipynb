{
 "cells": [
  {
   "cell_type": "code",
   "execution_count": 71,
   "metadata": {},
   "outputs": [
    {
     "data": {
      "text/plain": [
       "'2.2.4'"
      ]
     },
     "execution_count": 71,
     "metadata": {},
     "output_type": "execute_result"
    }
   ],
   "source": [
    "import numpy as np\n",
    "import os\n",
    "import cv2\n",
    "from sklearn.preprocessing import LabelEncoder\n",
    "from sklearn.preprocessing import OneHotEncoder\n",
    "import keras\n",
    "from keras.layers import Dense, Conv2D, MaxPooling2D, Flatten\n",
    "from keras.models import Sequential\n",
    "from keras import optimizers\n",
    "import matplotlib.pyplot as plt\n",
    "%matplotlib inline\n",
    "keras.__version__"
   ]
  },
  {
   "cell_type": "code",
   "execution_count": 72,
   "metadata": {
    "collapsed": true
   },
   "outputs": [],
   "source": [
    "width = 28\n",
    "height = 28"
   ]
  },
  {
   "cell_type": "code",
   "execution_count": 73,
   "metadata": {
    "collapsed": true
   },
   "outputs": [],
   "source": [
    "train_dir = \"/Users/joannakang/Desktop/190920/RSP/train\"\n",
    "test_dir = \"/Users/joannakang/Desktop/190920/RSP/test\""
   ]
  },
  {
   "cell_type": "code",
   "execution_count": 74,
   "metadata": {},
   "outputs": [
    {
     "name": "stdout",
     "output_type": "stream",
     "text": [
      "['paper', 'rock', 'scissors']\n"
     ]
    }
   ],
   "source": [
    "class_name = os.listdir(train_dir)\n",
    "print (class_name)"
   ]
  },
  {
   "cell_type": "code",
   "execution_count": 75,
   "metadata": {
    "collapsed": true
   },
   "outputs": [],
   "source": [
    "train_input = []\n",
    "train_label = []"
   ]
  },
  {
   "cell_type": "code",
   "execution_count": 76,
   "metadata": {
    "collapsed": true
   },
   "outputs": [],
   "source": [
    "test_input = []\n",
    "test_label = []"
   ]
  },
  {
   "cell_type": "code",
   "execution_count": 77,
   "metadata": {},
   "outputs": [
    {
     "name": "stdout",
     "output_type": "stream",
     "text": [
      "[[1. 0. 0.]\n",
      " [0. 1. 0.]\n",
      " [0. 0. 1.]]\n"
     ]
    }
   ],
   "source": [
    "label_encoder = LabelEncoder()\n",
    "integer_encoded = label_encoder.fit_transform(class_name)\n",
    "onehot_encoder = OneHotEncoder(sparse=False)\n",
    "integer_encoded = integer_encoded.reshape(len(integer_encoded), 1)\n",
    "onehot_encoded = onehot_encoder.fit_transform(integer_encoded)\n",
    "\n",
    "print(onehot_encoded)"
   ]
  },
  {
   "cell_type": "code",
   "execution_count": 78,
   "metadata": {
    "collapsed": true
   },
   "outputs": [],
   "source": [
    "for i in range(len(class_name)):\n",
    "    path = os.path.join(train_dir, class_name[i])\n",
    "    img_list = os.listdir(path)\n",
    "    for j in img_list:\n",
    "        img = os.path.join(path, j)\n",
    "        img = cv2.imread(img, cv2.IMREAD_GRAYSCALE)\n",
    "        img = cv2.resize(img, (width, height), interpolation = cv2.INTER_CUBIC)\n",
    "        img = img.reshape((width, height, 1))\n",
    "        train_input.append(img)\n",
    "        train_label.append(onehot_encoded[i])"
   ]
  },
  {
   "cell_type": "code",
   "execution_count": 79,
   "metadata": {
    "collapsed": true
   },
   "outputs": [],
   "source": [
    "for i in range(len(class_name)):\n",
    "    path = os.path.join(test_dir, class_name[i])\n",
    "    img_list = os.listdir(path)\n",
    "    for j in img_list:\n",
    "        img = os.path.join(path, j)\n",
    "        img = cv2.imread(img, cv2.IMREAD_GRAYSCALE)\n",
    "        img = cv2.resize(img, (width, height), interpolation = cv2.INTER_CUBIC)\n",
    "        img = img.reshape((width, height, 1))\n",
    "        test_input.append(img)\n",
    "        test_label.append(onehot_encoded[i])"
   ]
  },
  {
   "cell_type": "code",
   "execution_count": 80,
   "metadata": {},
   "outputs": [
    {
     "name": "stdout",
     "output_type": "stream",
     "text": [
      "['IMG_20190913_192935.jpg', 'KakaoTalk_Photo_2019-09-13-19-47-31.jpeg', 'IMG_20190913_192927.jpg', 'IMG_20190913_192933.jpg', 'IMG_20190913_192932.jpg', 'IMG_20190913_192919.jpg', 'IMG_20190913_192925.jpg', 'IMG_20190913_192931.jpg', 'KakaoTalk_Photo_2019-09-13-19-47-40.jpeg', 'KakaoTalk_Photo_2019-09-13-19-49-25.jpeg', 'IMG_9727.jpg', 'IMG_9726.jpg', 'IMG_9730.jpg', 'IMG_9728.jpg', 'IMG_9729.jpg', 'KakaoTalk_Photo_2019-09-13-19-46-23.jpeg', '4.jpg', 'KakaoTalk_Photo_2019-09-13-19-45-02.jpeg', 'IMG_20190913_192929.jpg', '5.jpg', '7.jpg', '6.jpg', '2.jpg', 'KakaoTalk_Photo_2019-09-13-19-46-33.jpeg', 'KakaoTalk_Photo_2019-09-13-19-48-40.jpeg', '3.jpg', '1.jpg', 'KakaoTalk_Photo_2019-09-13-19-44-38.jpeg', 'KakaoTalk_Photo_2019-09-13-19-45-15.jpeg']\n"
     ]
    }
   ],
   "source": [
    "path = os.path.join(train_dir, class_name[0])\n",
    "img_list = os.listdir(path)\n",
    "print (img_list)"
   ]
  },
  {
   "cell_type": "code",
   "execution_count": 81,
   "metadata": {},
   "outputs": [
    {
     "name": "stdout",
     "output_type": "stream",
     "text": [
      "85\n",
      "85\n",
      "15\n",
      "15\n"
     ]
    }
   ],
   "source": [
    "print(len((train_input)))\n",
    "print(len(train_label))\n",
    "print(len((test_input)))\n",
    "print(len((test_label)))"
   ]
  },
  {
   "cell_type": "code",
   "execution_count": 82,
   "metadata": {},
   "outputs": [
    {
     "name": "stdout",
     "output_type": "stream",
     "text": [
      "(15, 28, 28, 1)\n",
      "(15, 28, 28, 1)\n"
     ]
    }
   ],
   "source": [
    "train_input = np.array(train_input)\n",
    "train_label = np.array(train_label)\n",
    "test_input = np.array(test_input)\n",
    "test_label = np.array(test_label)\n",
    "print(test_input.shape)\n",
    "print(test_input.shape)"
   ]
  },
  {
   "cell_type": "code",
   "execution_count": 83,
   "metadata": {
    "collapsed": true
   },
   "outputs": [],
   "source": [
    "a = train_input[1].reshape(28, 28)"
   ]
  },
  {
   "cell_type": "code",
   "execution_count": 84,
   "metadata": {},
   "outputs": [
    {
     "data": {
      "text/plain": [
       "<matplotlib.image.AxesImage at 0x1a21666eb8>"
      ]
     },
     "execution_count": 84,
     "metadata": {},
     "output_type": "execute_result"
    },
    {
     "data": {
      "image/png": "[encoded data removed]",
      "text/plain": [
       "<matplotlib.figure.Figure at 0x1a2164a6a0>"
      ]
     },
     "metadata": {},
     "output_type": "display_data"
    }
   ],
   "source": [
    "plt.imshow(a, cmap = 'Greys')"
   ]
  },
  {
   "cell_type": "code",
   "execution_count": 85,
   "metadata": {},
   "outputs": [
    {
     "name": "stdout",
     "output_type": "stream",
     "text": [
      "(85, 28, 28, 1)\n",
      "(85, 3)\n"
     ]
    }
   ],
   "source": [
    "print(train_input.shape)\n",
    "print(train_label.shape)"
   ]
  },
  {
   "cell_type": "code",
   "execution_count": 86,
   "metadata": {
    "collapsed": true
   },
   "outputs": [],
   "source": [
    "model = Sequential()\n",
    "\n",
    "model.add(Conv2D(32, (3, 3), activation = 'relu', input_shape = (width, height, train_input.shape[3])))\n",
    "model.add(MaxPooling2D((2, 2)))\n",
    "model.add(Conv2D(32, (3, 3), activation = 'relu'))\n",
    "model.add(MaxPooling2D((2, 2)))\n",
    "model.add(Conv2D(32, (3, 3), activation = 'relu'))\n",
    "model.add(MaxPooling2D((2, 2)))\n",
    "\n",
    "model.add(Flatten())\n",
    "model.add(Dense(16, activation = 'relu'))\n",
    "model.add(Dense(train_label.shape[1], activation = 'sigmoid'))"
   ]
  },
  {
   "cell_type": "code",
   "execution_count": 87,
   "metadata": {},
   "outputs": [
    {
     "name": "stdout",
     "output_type": "stream",
     "text": [
      "_________________________________________________________________\n",
      "Layer (type)                 Output Shape              Param #   \n",
      "=================================================================\n",
      "conv2d_7 (Conv2D)            (None, 26, 26, 32)        320       \n",
      "_________________________________________________________________\n",
      "max_pooling2d_7 (MaxPooling2 (None, 13, 13, 32)        0         \n",
      "_________________________________________________________________\n",
      "conv2d_8 (Conv2D)            (None, 11, 11, 32)        9248      \n",
      "_________________________________________________________________\n",
      "max_pooling2d_8 (MaxPooling2 (None, 5, 5, 32)          0         \n",
      "_________________________________________________________________\n",
      "conv2d_9 (Conv2D)            (None, 3, 3, 32)          9248      \n",
      "_________________________________________________________________\n",
      "max_pooling2d_9 (MaxPooling2 (None, 1, 1, 32)          0         \n",
      "_________________________________________________________________\n",
      "flatten_3 (Flatten)          (None, 32)                0         \n",
      "_________________________________________________________________\n",
      "dense_5 (Dense)              (None, 16)                528       \n",
      "_________________________________________________________________\n",
      "dense_6 (Dense)              (None, 3)                 51        \n",
      "=================================================================\n",
      "Total params: 19,395\n",
      "Trainable params: 19,395\n",
      "Non-trainable params: 0\n",
      "_________________________________________________________________\n"
     ]
    }
   ],
   "source": [
    "model.summary()"
   ]
  },
  {
   "cell_type": "code",
   "execution_count": 100,
   "metadata": {
    "collapsed": true
   },
   "outputs": [],
   "source": [
    "model.compile(optimizer='Adam',\n",
    "              loss='categorical_crossentropy',\n",
    "              metrics=['accuracy'])"
   ]
  },
  {
   "cell_type": "code",
   "execution_count": 106,
   "metadata": {
    "collapsed": true
   },
   "outputs": [],
   "source": [
    "loss_type = 'mean_squared_error', 'binary_crossentropy', 'categorical_crossentropy'"
   ]
  },
  {
   "cell_type": "code",
   "execution_count": 107,
   "metadata": {},
   "outputs": [
    {
     "name": "stdout",
     "output_type": "stream",
     "text": [
      "Epoch 1/100\n",
      "85/85 [==============================] - 0s 2ms/step - loss: 1.1921e-07 - acc: 1.0000\n",
      "Epoch 2/100\n",
      "85/85 [==============================] - 0s 1ms/step - loss: 1.1921e-07 - acc: 1.0000\n",
      "Epoch 3/100\n",
      "85/85 [==============================] - 0s 1ms/step - loss: 1.1921e-07 - acc: 1.0000\n",
      "Epoch 4/100\n",
      "85/85 [==============================] - 0s 1ms/step - loss: 1.1921e-07 - acc: 1.0000\n",
      "Epoch 5/100\n",
      "85/85 [==============================] - 0s 965us/step - loss: 1.1921e-07 - acc: 1.0000\n",
      "Epoch 6/100\n",
      "85/85 [==============================] - 0s 976us/step - loss: 1.1921e-07 - acc: 1.0000\n",
      "Epoch 7/100\n",
      "85/85 [==============================] - 0s 998us/step - loss: 1.1921e-07 - acc: 1.0000\n",
      "Epoch 8/100\n",
      "85/85 [==============================] - 0s 991us/step - loss: 1.1921e-07 - acc: 1.0000\n",
      "Epoch 9/100\n",
      "85/85 [==============================] - 0s 996us/step - loss: 1.1921e-07 - acc: 1.0000\n",
      "Epoch 10/100\n",
      "85/85 [==============================] - 0s 992us/step - loss: 1.1921e-07 - acc: 1.0000\n",
      "Epoch 11/100\n",
      "85/85 [==============================] - 0s 978us/step - loss: 1.1921e-07 - acc: 1.0000\n",
      "Epoch 12/100\n",
      "85/85 [==============================] - 0s 1ms/step - loss: 1.1921e-07 - acc: 1.0000\n",
      "Epoch 13/100\n",
      "85/85 [==============================] - 0s 1ms/step - loss: 1.1921e-07 - acc: 1.0000\n",
      "Epoch 14/100\n",
      "85/85 [==============================] - 0s 1ms/step - loss: 1.1921e-07 - acc: 1.0000\n",
      "Epoch 15/100\n",
      "85/85 [==============================] - 0s 997us/step - loss: 1.1921e-07 - acc: 1.0000\n",
      "Epoch 16/100\n",
      "85/85 [==============================] - 0s 994us/step - loss: 1.1921e-07 - acc: 1.0000\n",
      "Epoch 17/100\n",
      "85/85 [==============================] - 0s 1ms/step - loss: 1.1921e-07 - acc: 1.0000\n",
      "Epoch 18/100\n",
      "85/85 [==============================] - 0s 1ms/step - loss: 1.1921e-07 - acc: 1.0000\n",
      "Epoch 19/100\n",
      "85/85 [==============================] - 0s 1000us/step - loss: 1.1921e-07 - acc: 1.0000\n",
      "Epoch 20/100\n",
      "85/85 [==============================] - 0s 963us/step - loss: 1.1921e-07 - acc: 1.0000\n",
      "Epoch 21/100\n",
      "85/85 [==============================] - 0s 969us/step - loss: 1.1921e-07 - acc: 1.0000\n",
      "Epoch 22/100\n",
      "85/85 [==============================] - 0s 1ms/step - loss: 1.1921e-07 - acc: 1.0000\n",
      "Epoch 23/100\n",
      "85/85 [==============================] - 0s 1ms/step - loss: 1.1921e-07 - acc: 1.0000\n",
      "Epoch 24/100\n",
      "85/85 [==============================] - 0s 1ms/step - loss: 1.1921e-07 - acc: 1.0000\n",
      "Epoch 25/100\n",
      "85/85 [==============================] - 0s 1ms/step - loss: 1.1921e-07 - acc: 1.0000\n",
      "Epoch 26/100\n",
      "85/85 [==============================] - 0s 1ms/step - loss: 1.1921e-07 - acc: 1.0000\n",
      "Epoch 27/100\n",
      "85/85 [==============================] - 0s 1ms/step - loss: 1.1921e-07 - acc: 1.0000\n",
      "Epoch 28/100\n",
      "85/85 [==============================] - 0s 1ms/step - loss: 1.1921e-07 - acc: 1.0000\n",
      "Epoch 29/100\n",
      "85/85 [==============================] - 0s 1ms/step - loss: 1.1921e-07 - acc: 1.0000\n",
      "Epoch 30/100\n",
      "85/85 [==============================] - 0s 1ms/step - loss: 1.1921e-07 - acc: 1.0000\n",
      "Epoch 31/100\n",
      "85/85 [==============================] - 0s 1ms/step - loss: 1.1921e-07 - acc: 1.0000\n",
      "Epoch 32/100\n",
      "85/85 [==============================] - 0s 1ms/step - loss: 1.1921e-07 - acc: 1.0000\n",
      "Epoch 33/100\n",
      "85/85 [==============================] - 0s 1ms/step - loss: 1.1921e-07 - acc: 1.0000\n",
      "Epoch 34/100\n",
      "85/85 [==============================] - 0s 1ms/step - loss: 1.1921e-07 - acc: 1.0000\n",
      "Epoch 35/100\n",
      "85/85 [==============================] - 0s 1ms/step - loss: 1.1921e-07 - acc: 1.0000\n",
      "Epoch 36/100\n",
      "85/85 [==============================] - 0s 1ms/step - loss: 1.1921e-07 - acc: 1.0000\n",
      "Epoch 37/100\n",
      "85/85 [==============================] - 0s 998us/step - loss: 1.1921e-07 - acc: 1.0000\n",
      "Epoch 38/100\n",
      "85/85 [==============================] - 0s 1ms/step - loss: 1.1921e-07 - acc: 1.0000\n",
      "Epoch 39/100\n",
      "85/85 [==============================] - 0s 1ms/step - loss: 1.1921e-07 - acc: 1.0000\n",
      "Epoch 40/100\n",
      "85/85 [==============================] - 0s 1ms/step - loss: 1.1921e-07 - acc: 1.0000\n",
      "Epoch 41/100\n",
      "85/85 [==============================] - 0s 1ms/step - loss: 1.1921e-07 - acc: 1.0000\n",
      "Epoch 42/100\n",
      "85/85 [==============================] - 0s 1ms/step - loss: 1.1921e-07 - acc: 1.0000\n",
      "Epoch 43/100\n",
      "85/85 [==============================] - 0s 1ms/step - loss: 1.1921e-07 - acc: 1.0000\n",
      "Epoch 44/100\n",
      "85/85 [==============================] - 0s 1ms/step - loss: 1.1921e-07 - acc: 1.0000\n",
      "Epoch 45/100\n",
      "85/85 [==============================] - 0s 1ms/step - loss: 1.1921e-07 - acc: 1.0000\n",
      "Epoch 46/100\n",
      "85/85 [==============================] - 0s 1ms/step - loss: 1.1921e-07 - acc: 1.0000\n",
      "Epoch 47/100\n",
      "85/85 [==============================] - 0s 1ms/step - loss: 1.1921e-07 - acc: 1.0000\n",
      "Epoch 48/100\n",
      "85/85 [==============================] - 0s 1ms/step - loss: 1.1921e-07 - acc: 1.0000\n",
      "Epoch 49/100\n",
      "85/85 [==============================] - 0s 1ms/step - loss: 1.1921e-07 - acc: 1.0000\n",
      "Epoch 50/100\n",
      "85/85 [==============================] - 0s 1ms/step - loss: 1.1921e-07 - acc: 1.0000\n",
      "Epoch 51/100\n",
      "85/85 [==============================] - 0s 1ms/step - loss: 1.1921e-07 - acc: 1.0000\n",
      "Epoch 52/100\n",
      "85/85 [==============================] - 0s 1ms/step - loss: 1.1921e-07 - acc: 1.0000\n",
      "Epoch 53/100\n",
      "85/85 [==============================] - 0s 1ms/step - loss: 1.1921e-07 - acc: 1.0000\n",
      "Epoch 54/100\n",
      "85/85 [==============================] - 0s 981us/step - loss: 1.1921e-07 - acc: 1.0000\n",
      "Epoch 55/100\n",
      "85/85 [==============================] - 0s 991us/step - loss: 1.1921e-07 - acc: 1.0000\n",
      "Epoch 56/100\n",
      "85/85 [==============================] - 0s 955us/step - loss: 1.1921e-07 - acc: 1.0000\n",
      "Epoch 57/100\n",
      "85/85 [==============================] - 0s 940us/step - loss: 1.1921e-07 - acc: 1.0000\n",
      "Epoch 58/100\n",
      "85/85 [==============================] - 0s 911us/step - loss: 1.1921e-07 - acc: 1.0000\n",
      "Epoch 59/100\n",
      "85/85 [==============================] - 0s 921us/step - loss: 1.1921e-07 - acc: 1.0000\n",
      "Epoch 60/100\n",
      "85/85 [==============================] - 0s 933us/step - loss: 1.1921e-07 - acc: 1.0000\n",
      "Epoch 61/100\n",
      "85/85 [==============================] - 0s 927us/step - loss: 1.1921e-07 - acc: 1.0000\n",
      "Epoch 62/100\n",
      "85/85 [==============================] - 0s 951us/step - loss: 1.1921e-07 - acc: 1.0000\n",
      "Epoch 63/100\n",
      "85/85 [==============================] - 0s 921us/step - loss: 1.1921e-07 - acc: 1.0000\n",
      "Epoch 64/100\n",
      "85/85 [==============================] - 0s 1ms/step - loss: 1.1921e-07 - acc: 1.0000\n",
      "Epoch 65/100\n",
      "85/85 [==============================] - 0s 1ms/step - loss: 1.1921e-07 - acc: 1.0000\n",
      "Epoch 66/100\n",
      "85/85 [==============================] - 0s 1ms/step - loss: 1.1921e-07 - acc: 1.0000\n",
      "Epoch 67/100\n",
      "85/85 [==============================] - 0s 1ms/step - loss: 1.1921e-07 - acc: 1.0000\n",
      "Epoch 68/100\n",
      "85/85 [==============================] - 0s 1ms/step - loss: 1.1921e-07 - acc: 1.0000\n",
      "Epoch 69/100\n",
      "85/85 [==============================] - 0s 1ms/step - loss: 1.1921e-07 - acc: 1.0000\n",
      "Epoch 70/100\n",
      "85/85 [==============================] - 0s 1ms/step - loss: 1.1921e-07 - acc: 1.0000\n",
      "Epoch 71/100\n",
      "85/85 [==============================] - 0s 1ms/step - loss: 1.1921e-07 - acc: 1.0000\n",
      "Epoch 72/100\n",
      "85/85 [==============================] - 0s 1000us/step - loss: 1.1921e-07 - acc: 1.0000\n",
      "Epoch 73/100\n",
      "85/85 [==============================] - 0s 1ms/step - loss: 1.1921e-07 - acc: 1.0000\n",
      "Epoch 74/100\n",
      "85/85 [==============================] - 0s 1ms/step - loss: 1.1921e-07 - acc: 1.0000\n",
      "Epoch 75/100\n",
      "85/85 [==============================] - 0s 1ms/step - loss: 1.1921e-07 - acc: 1.0000\n",
      "Epoch 76/100\n",
      "85/85 [==============================] - 0s 1ms/step - loss: 1.1921e-07 - acc: 1.0000\n",
      "Epoch 77/100\n",
      "85/85 [==============================] - 0s 1ms/step - loss: 1.1921e-07 - acc: 1.0000\n",
      "Epoch 78/100\n",
      "85/85 [==============================] - 0s 1ms/step - loss: 1.1921e-07 - acc: 1.0000\n",
      "Epoch 79/100\n",
      "85/85 [==============================] - 0s 1ms/step - loss: 1.1921e-07 - acc: 1.0000\n",
      "Epoch 80/100\n",
      "85/85 [==============================] - 0s 2ms/step - loss: 1.1921e-07 - acc: 1.0000\n",
      "Epoch 81/100\n",
      "85/85 [==============================] - 0s 1ms/step - loss: 1.1921e-07 - acc: 1.0000\n",
      "Epoch 82/100\n",
      "85/85 [==============================] - 0s 1ms/step - loss: 1.1921e-07 - acc: 1.0000\n",
      "Epoch 83/100\n",
      "85/85 [==============================] - 0s 1ms/step - loss: 1.1921e-07 - acc: 1.0000\n",
      "Epoch 84/100\n",
      "85/85 [==============================] - 0s 1ms/step - loss: 1.1921e-07 - acc: 1.0000\n",
      "Epoch 85/100\n",
      "85/85 [==============================] - 0s 933us/step - loss: 1.1921e-07 - acc: 1.0000\n",
      "Epoch 86/100\n",
      "85/85 [==============================] - 0s 998us/step - loss: 1.1921e-07 - acc: 1.0000\n",
      "Epoch 87/100\n",
      "85/85 [==============================] - 0s 1ms/step - loss: 1.1921e-07 - acc: 1.0000\n",
      "Epoch 88/100\n",
      "85/85 [==============================] - 0s 1ms/step - loss: 1.1921e-07 - acc: 1.0000\n",
      "Epoch 89/100\n",
      "85/85 [==============================] - 0s 1ms/step - loss: 1.1921e-07 - acc: 1.0000\n",
      "Epoch 90/100\n",
      "85/85 [==============================] - 0s 1ms/step - loss: 1.1921e-07 - acc: 1.0000\n",
      "Epoch 91/100\n",
      "85/85 [==============================] - 0s 958us/step - loss: 1.1921e-07 - acc: 1.0000\n",
      "Epoch 92/100\n",
      "85/85 [==============================] - 0s 984us/step - loss: 1.1921e-07 - acc: 1.0000\n",
      "Epoch 93/100\n",
      "85/85 [==============================] - 0s 979us/step - loss: 1.1921e-07 - acc: 1.0000\n",
      "Epoch 94/100\n",
      "85/85 [==============================] - 0s 963us/step - loss: 1.1921e-07 - acc: 1.0000\n",
      "Epoch 95/100\n",
      "85/85 [==============================] - 0s 1ms/step - loss: 1.1921e-07 - acc: 1.0000\n",
      "Epoch 96/100\n",
      "85/85 [==============================] - 0s 1ms/step - loss: 1.1921e-07 - acc: 1.0000\n",
      "Epoch 97/100\n",
      "85/85 [==============================] - 0s 1ms/step - loss: 1.1921e-07 - acc: 1.0000\n",
      "Epoch 98/100\n",
      "85/85 [==============================] - 0s 1ms/step - loss: 1.1921e-07 - acc: 1.0000\n",
      "Epoch 99/100\n",
      "85/85 [==============================] - 0s 1ms/step - loss: 1.1921e-07 - acc: 1.0000\n",
      "Epoch 100/100\n",
      "85/85 [==============================] - 0s 969us/step - loss: 1.1921e-07 - acc: 1.0000\n"
     ]
    },
    {
     "data": {
      "text/plain": [
       "<keras.callbacks.History at 0x1a24980c18>"
      ]
     },
     "execution_count": 107,
     "metadata": {},
     "output_type": "execute_result"
    }
   ],
   "source": [
    "model.fit(x = train_input, y = train_label, batch_size = 5, epochs = 100)"
   ]
  },
  {
   "cell_type": "code",
   "execution_count": 108,
   "metadata": {},
   "outputs": [
    {
     "name": "stdout",
     "output_type": "stream",
     "text": [
      "\r",
      "15/15 [==============================] - 0s 474us/step\n"
     ]
    },
    {
     "data": {
      "text/plain": [
       "[7.855595111846924, 0.3333333432674408]"
      ]
     },
     "execution_count": 108,
     "metadata": {},
     "output_type": "execute_result"
    }
   ],
   "source": [
    "model.evaluate(x = test_input, y = test_label)"
   ]
  },
  {
   "cell_type": "code",
   "execution_count": 109,
   "metadata": {
    "collapsed": true
   },
   "outputs": [],
   "source": [
    "result = model.predict(x = test_input)"
   ]
  },
  {
   "cell_type": "code",
   "execution_count": 110,
   "metadata": {},
   "outputs": [
    {
     "data": {
      "text/plain": [
       "0"
      ]
     },
     "execution_count": 110,
     "metadata": {},
     "output_type": "execute_result"
    }
   ],
   "source": [
    "np.argmax(result[0])"
   ]
  },
  {
   "cell_type": "code",
   "execution_count": 111,
   "metadata": {},
   "outputs": [
    {
     "data": {
      "image/png": "[encoded data removed]",
      "text/plain": [
       "<matplotlib.figure.Figure at 0x1a2498a0b8>"
      ]
     },
     "metadata": {},
     "output_type": "display_data"
    }
   ],
   "source": [
    "for i in range(len(class_name)):\n",
    "    plt.imshow(test_input[i].reshape(width, height))"
   ]
  },
  {
   "cell_type": "code",
   "execution_count": null,
   "metadata": {
    "collapsed": true
   },
   "outputs": [],
   "source": []
  }
 ],
 "metadata": {
  "kernelspec": {
   "display_name": "Python 3",
   "language": "python",
   "name": "python3"
  },
  "language_info": {
   "codemirror_mode": {
    "name": "ipython",
    "version": 3
   },
   "file_extension": ".py",
   "mimetype": "text/x-python",
   "name": "python",
   "nbconvert_exporter": "python",
   "pygments_lexer": "ipython3",
   "version": "3.7.3"
  }
 },
 "nbformat": 4,
 "nbformat_minor": 2
}
