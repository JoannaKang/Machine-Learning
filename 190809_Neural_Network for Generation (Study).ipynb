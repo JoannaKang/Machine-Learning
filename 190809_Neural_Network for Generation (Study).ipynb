{
 "cells": [
  {
   "cell_type": "code",
   "execution_count": 65,
   "metadata": {},
   "outputs": [
    {
     "data": {
      "text/plain": [
       "'2.2.4'"
      ]
     },
     "execution_count": 65,
     "metadata": {},
     "output_type": "execute_result"
    }
   ],
   "source": [
    "import numpy as np\n",
    "import os\n",
    "import cv2\n",
    "from sklearn.preprocessing import LabelEncoder\n",
    "from sklearn.preprocessing import OneHotEncoder\n",
    "import keras\n",
    "from keras.layers import Dense, Conv2D, MaxPooling2D, Flatten\n",
    "from keras.models import Sequential\n",
    "from keras import optimizers\n",
    "import matplotlib.pyplot as plt\n",
    "%matplotlib inline\n",
    "keras.__version__"
   ]
  },
  {
   "cell_type": "code",
   "execution_count": 106,
   "metadata": {
    "collapsed": true
   },
   "outputs": [],
   "source": [
    "#사이즈맞추기\n",
    "width = 28\n",
    "height = 28"
   ]
  },
  {
   "cell_type": "code",
   "execution_count": 107,
   "metadata": {
    "collapsed": true
   },
   "outputs": [],
   "source": [
    "#학습,출력,테스트 데이터 빈리스트만들기\n",
    "train_image = []\n",
    "output_image = []\n",
    "test_image = []"
   ]
  },
  {
   "cell_type": "code",
   "execution_count": 108,
   "metadata": {
    "collapsed": true
   },
   "outputs": [],
   "source": [
    "#불러올 이미지 디렉토리 지정\n",
    "image_dir = '/Users/joannakang/Documents/Python_study/train_output'\n",
    "test_dir = '/Users/joannakang/Documents/Python_study/test_input'"
   ]
  },
  {
   "cell_type": "code",
   "execution_count": 109,
   "metadata": {
    "collapsed": true
   },
   "outputs": [],
   "source": [
    "#디렉토리의 파일명을 리스트화\n",
    "image_list = os.listdir(image_dir)\n",
    "test_list = os.listdir(test_dir)"
   ]
  },
  {
   "cell_type": "code",
   "execution_count": 110,
   "metadata": {},
   "outputs": [
    {
     "name": "stdout",
     "output_type": "stream",
     "text": [
      "['63.jpg', '77.jpg', '76.jpg', '62.jpg', '74.jpg', '60.jpg', '48.jpg', '49.jpg', '61.jpg', '75.jpg', '59.jpg', '71.jpg', '65.jpg', '64.jpg', '70.jpg', '58.jpg', '8.jpg', '66.jpg', '72.jpg', '73.jpg', '67.jpg', '9.jpg', '14.jpg', '28.jpg', '29.jpg', '15.jpg', '17.jpg', '16.jpg', '12.jpg', '13.jpg', '39.jpg', '11.jpg', '10.jpg', '38.jpg', '21.jpg', '35.jpg', '34.jpg', '20.jpg', '36.jpg', '22.jpg', '23.jpg', '37.jpg', '33.jpg', '27.jpg', '26.jpg', '32.jpg', '18.jpg', '24.jpg', '30.jpg', '31.jpg', '25.jpg', '19.jpg', '42.jpg', '4.jpg', '56.jpg', '5.jpg', '57.jpg', '43.jpg', '55.jpg', '7.jpg', '41.jpg', '69.jpg', '68.jpg', '40.jpg', '54.jpg', '6.jpg', '78.jpg', '2.jpg', '50.jpg', '44.jpg', '45.jpg', '3.jpg', '51.jpg', '47.jpg', '53.jpg', '1.jpg', '52.jpg', '46.jpg']\n",
      "['hello8.png', 'hello9.png', 'hello10.png', 'hello2.png', 'hello3.png', 'hello1.png', 'hello4.png', 'hello5.png', 'hello7.png', 'hello6.png']\n"
     ]
    }
   ],
   "source": [
    "#제대로 불러온건지 확인하기\n",
    "print (image_list)\n",
    "print (test_list)"
   ]
  },
  {
   "cell_type": "code",
   "execution_count": 111,
   "metadata": {},
   "outputs": [],
   "source": [
    "#아웃풋 데이터 경로 지정해서 불러오기 : 컬러로\n",
    "for i in image_list:\n",
    "    img = os.path.join(image_dir, i)\n",
    "    img = cv2.imread(img, cv2.IMREAD_COLOR)\n",
    "    img = cv2.resize(img, (28, 28), interpolation = cv2.INTER_CUBIC)\n",
    "    img = img.reshape((28, 28, 3))\n",
    "    img = np.array(img)\n",
    "    output_image.append(img)"
   ]
  },
  {
   "cell_type": "code",
   "execution_count": 112,
   "metadata": {},
   "outputs": [],
   "source": [
    "#인풋 데이터 경로 지정해서 불러오기 : 흑백으로\n",
    "for i in image_list:\n",
    "    img = os.path.join(image_dir, i)\n",
    "    img = cv2.imread(img, cv2.IMREAD_GRAYSCALE)\n",
    "    img = cv2.resize(img, (28, 28), interpolation = cv2.INTER_CUBIC)\n",
    "    img = img.reshape((28, 28, 1))\n",
    "    img = np.array(img)\n",
    "    train_image.append(img)"
   ]
  },
  {
   "cell_type": "code",
   "execution_count": 113,
   "metadata": {
    "collapsed": true
   },
   "outputs": [],
   "source": [
    "#테스트 데이터 경로 지정해서 불러오기 : 흑백으로\n",
    "for i in test_list:\n",
    "    img = os.path.join(test_dir, i)\n",
    "    img = cv2.imread(img, cv2.IMREAD_GRAYSCALE)\n",
    "    img = cv2.resize(img, (28, 28), interpolation = cv2.INTER_CUBIC)\n",
    "    img = img.reshape((28, 28, 1))\n",
    "    img = np.array(img)\n",
    "    test_image.append(img)"
   ]
  },
  {
   "cell_type": "code",
   "execution_count": 114,
   "metadata": {
    "collapsed": true
   },
   "outputs": [],
   "source": [
    "#불러온 데이터를 행렬로 변환\n",
    "train_image = np.array(train_image)\n",
    "output_image = np.array(output_image)\n",
    "test_image = np.array(test_image)"
   ]
  },
  {
   "cell_type": "code",
   "execution_count": 115,
   "metadata": {},
   "outputs": [
    {
     "name": "stdout",
     "output_type": "stream",
     "text": [
      "(78, 28, 28, 1)\n",
      "(78, 28, 28, 3)\n",
      "(10, 28, 28, 1)\n"
     ]
    }
   ],
   "source": [
    "#데이터 형태 확인하기 1=흑백, 3=컬러\n",
    "print(train_image.shape)\n",
    "print(output_image.shape)\n",
    "print(test_image.shape)"
   ]
  },
  {
   "cell_type": "code",
   "execution_count": 123,
   "metadata": {},
   "outputs": [],
   "source": [
    "#흑백일때 reshape(28,28)\n",
    "#컬러일때 reshape(28,28,3)\n",
    "a = test_image[1].reshape(28,28)"
   ]
  },
  {
   "cell_type": "code",
   "execution_count": 124,
   "metadata": {},
   "outputs": [
    {
     "data": {
      "text/plain": [
       "<matplotlib.image.AxesImage at 0x1a27991ef0>"
      ]
     },
     "execution_count": 124,
     "metadata": {},
     "output_type": "execute_result"
    },
    {
     "data": {
      "image/png": "[encoded data removed]",
      "text/plain": [
       "<matplotlib.figure.Figure at 0x1a278edb70>"
      ]
     },
     "metadata": {},
     "output_type": "display_data"
    }
   ],
   "source": [
    "#이미지 출력해보기\n",
    "plt.imshow(a, cmap = 'Greys')"
   ]
  },
  {
   "cell_type": "code",
   "execution_count": 82,
   "metadata": {
    "collapsed": true
   },
   "outputs": [],
   "source": [
    "train_image = train_image.reshape((len(train_image), width, height, 1))\n",
    "output_image = output_image.reshape(len(output_image), 3 * 784)"
   ]
  },
  {
   "cell_type": "code",
   "execution_count": 83,
   "metadata": {},
   "outputs": [
    {
     "name": "stdout",
     "output_type": "stream",
     "text": [
      "(78, 28, 28, 1)\n",
      "(78, 2352)\n"
     ]
    }
   ],
   "source": [
    "#학습시킬 데이터 형태 확인해보기\n",
    "print(train_image.shape)\n",
    "print(output_image.shape)"
   ]
  },
  {
   "cell_type": "code",
   "execution_count": 85,
   "metadata": {},
   "outputs": [],
   "source": [
    "model = Sequential()\n",
    "\n",
    "model.add(Conv2D(32, (3, 3), activation = 'relu', input_shape = (width, height, train_image.shape[3])))\n",
    "model.add(MaxPooling2D((2, 2)))\n",
    "model.add(Conv2D(32, (3, 3), activation = 'relu'))\n",
    "model.add(MaxPooling2D((2, 2)))\n",
    "model.add(Conv2D(32, (3, 3), activation = 'relu'))\n",
    "model.add(MaxPooling2D((2, 2)))\n",
    "\n",
    "model.add(Flatten())\n",
    "model.add(Dense(16, activation = 'relu'))\n",
    "model.add(Dense((3 * 784), activation = 'sigmoid'))"
   ]
  },
  {
   "cell_type": "code",
   "execution_count": 86,
   "metadata": {
    "collapsed": true
   },
   "outputs": [],
   "source": [
    "model.compile(optimizer='rmsprop',\n",
    "              loss='binary_crossentropy',\n",
    "              metrics=['accuracy'])"
   ]
  },
  {
   "cell_type": "code",
   "execution_count": 88,
   "metadata": {},
   "outputs": [
    {
     "name": "stdout",
     "output_type": "stream",
     "text": [
      "Epoch 1/10\n",
      "78/78 [==============================] - 0s 6ms/step - loss: -2557.5116 - acc: 0.0012\n",
      "Epoch 2/10\n",
      "78/78 [==============================] - 0s 1ms/step - loss: -3224.9424 - acc: 9.8116e-04\n",
      "Epoch 3/10\n",
      "78/78 [==============================] - 0s 1ms/step - loss: -3224.9540 - acc: 9.8116e-04\n",
      "Epoch 4/10\n",
      "78/78 [==============================] - 0s 1ms/step - loss: -3224.9540 - acc: 9.8116e-04\n",
      "Epoch 5/10\n",
      "78/78 [==============================] - 0s 1ms/step - loss: -3224.9541 - acc: 9.8116e-04\n",
      "Epoch 6/10\n",
      "78/78 [==============================] - 0s 1ms/step - loss: -3224.0282 - acc: 9.8116e-04\n",
      "Epoch 7/10\n",
      "78/78 [==============================] - 0s 1ms/step - loss: -3224.9540 - acc: 9.8116e-04\n",
      "Epoch 8/10\n",
      "78/78 [==============================] - 0s 1ms/step - loss: -3224.9540 - acc: 9.8116e-04\n",
      "Epoch 9/10\n",
      "78/78 [==============================] - 0s 1ms/step - loss: -3224.9539 - acc: 9.8116e-04\n",
      "Epoch 10/10\n",
      "78/78 [==============================] - 0s 1ms/step - loss: -3224.9540 - acc: 9.8116e-04\n"
     ]
    },
    {
     "data": {
      "text/plain": [
       "<keras.callbacks.History at 0x1a27342b00>"
      ]
     },
     "execution_count": 88,
     "metadata": {},
     "output_type": "execute_result"
    }
   ],
   "source": [
    "model.fit(x = train_image, y = output_image, batch_size = 5, epochs = 10)"
   ]
  },
  {
   "cell_type": "code",
   "execution_count": 120,
   "metadata": {
    "collapsed": true
   },
   "outputs": [],
   "source": [
    "result = model.predict(x = test_image)"
   ]
  },
  {
   "cell_type": "code",
   "execution_count": 121,
   "metadata": {},
   "outputs": [
    {
     "name": "stdout",
     "output_type": "stream",
     "text": [
      "[[1. 1. 1. ... 1. 1. 1.]\n",
      " [1. 1. 1. ... 1. 1. 1.]\n",
      " [1. 1. 1. ... 1. 1. 1.]\n",
      " ...\n",
      " [1. 1. 1. ... 1. 1. 1.]\n",
      " [1. 1. 1. ... 1. 1. 1.]\n",
      " [1. 1. 1. ... 1. 1. 1.]]\n"
     ]
    }
   ],
   "source": [
    "print(result)"
   ]
  },
  {
   "cell_type": "code",
   "execution_count": 122,
   "metadata": {},
   "outputs": [
    {
     "data": {
      "text/plain": [
       "<matplotlib.image.AxesImage at 0x1a278dc208>"
      ]
     },
     "execution_count": 122,
     "metadata": {},
     "output_type": "execute_result"
    },
    {
     "data": {
      "image/png": "[encoded data removed]",
      "text/plain": [
       "<matplotlib.figure.Figure at 0x1a2786f5f8>"
      ]
     },
     "metadata": {},
     "output_type": "display_data"
    }
   ],
   "source": [
    "plt.imshow(result[2].reshape(width, height, 3))"
   ]
  }
 ],
 "metadata": {
  "kernelspec": {
   "display_name": "Python 3",
   "language": "python",
   "name": "python3"
  },
  "language_info": {
   "codemirror_mode": {
    "name": "ipython",
    "version": 3
   },
   "file_extension": ".py",
   "mimetype": "text/x-python",
   "name": "python",
   "nbconvert_exporter": "python",
   "pygments_lexer": "ipython3",
   "version": "3.6.3"
  }
 },
 "nbformat": 4,
 "nbformat_minor": 2
}
