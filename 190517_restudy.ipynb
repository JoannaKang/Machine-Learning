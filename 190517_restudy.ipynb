{
 "cells": [
  {
   "cell_type": "code",
   "execution_count": 1,
   "metadata": {
    "collapsed": true
   },
   "outputs": [],
   "source": [
    "import os\n",
    "import cv2\n",
    "import numpy as np\n",
    "from sklearn.preprocessing import LabelEncoder\n",
    "from sklearn.preprocessing import OneHotEncoder"
   ]
  },
  {
   "cell_type": "code",
   "execution_count": 2,
   "metadata": {
    "collapsed": true
   },
   "outputs": [],
   "source": [
    "train_dir = \"/Users/joannakang/Documents/Python_study/train_data\"\n",
    "train_folder_list = os.listdir(train_dir)\n",
    "#os.listdir 디렉토리 내 모든 파일 리스트를 가져온다"
   ]
  },
  {
   "cell_type": "code",
   "execution_count": 3,
   "metadata": {},
   "outputs": [
    {
     "name": "stdout",
     "output_type": "stream",
     "text": [
      "['dogs', 'cats']\n"
     ]
    }
   ],
   "source": [
    "print(train_folder_list)"
   ]
  },
  {
   "cell_type": "code",
   "execution_count": 4,
   "metadata": {
    "collapsed": true
   },
   "outputs": [],
   "source": [
    "train_input = []\n",
    "train_label = []"
   ]
  },
  {
   "cell_type": "code",
   "execution_count": 5,
   "metadata": {
    "collapsed": true
   },
   "outputs": [],
   "source": [
    "cats = os.listdir(os.path.join(train_dir,train_folder_list[0]))\n",
    "#os.path.join 경로를 병합하여 새 경로 생성"
   ]
  },
  {
   "cell_type": "code",
   "execution_count": 7,
   "metadata": {},
   "outputs": [
    {
     "name": "stdout",
     "output_type": "stream",
     "text": [
      "dogs\n"
     ]
    }
   ],
   "source": [
    "print(train_folder_list[0])"
   ]
  },
  {
   "cell_type": "code",
   "execution_count": 8,
   "metadata": {
    "collapsed": true
   },
   "outputs": [],
   "source": [
    "for i in range(len(train_folder_list)):\n",
    "#디렉토리 내 모든 폴더의 갯수만큼 for문을 반복한다\n",
    "    path = os.path.join(train_dir, train_folder_list[i])\n",
    "    #이미지데이터가 들어있는 디렉토리와 폴더명을 결합하여 path명을 생성\n",
    "    img_list = os.listdir(path)\n",
    "    #결합된 path명을 img_list라는 변수로 지정한다\n",
    "    for img in img_list:\n",
    "        #img_list내의 리스트를 하나씩 꺼내어 img에 대입\n",
    "        img_path = os.path.join(path,img)\n",
    "        #path와 img_list를 결합하여 이미지를 불러올 경로를 생성\n",
    "        img = cv2.imread(img_path, cv2.IMREAD_GRAYSCALE)\n",
    "        #for문으로 생성되는 경로에서 이미지를 흑백으로 불러옴\n",
    "        img = cv2.resize(img,(128,128), interpolation = cv2.INTER_CUBIC)\n",
    "        #이미지를 128*128사이즈로 리사이징\n",
    "        train_input.append(img)\n",
    "        #빈 리스트로 생성된 train_input에 요소를 추가"
   ]
  },
  {
   "cell_type": "code",
   "execution_count": null,
   "metadata": {
    "collapsed": true
   },
   "outputs": [],
   "source": [
    "cv2.imshow('image',train_input[4])\n",
    "#이미지를 사이즈에 맞게 보여줌\n",
    "cv2.waitKey(0)\n",
    "#keyboard입력을 대기하는 함수로 0이면 key입력까지 무한대기이며 특정 시간동안 대기하려면 milisecond값을 넣어주면 됩니다\n",
    "cv2.destroyAllWindows()\n",
    "#화면에 나타난 윈도우를 종료"
   ]
  },
  {
   "cell_type": "code",
   "execution_count": null,
   "metadata": {
    "collapsed": true
   },
   "outputs": [],
   "source": []
  }
 ],
 "metadata": {
  "kernelspec": {
   "display_name": "Python 3",
   "language": "python",
   "name": "python3"
  },
  "language_info": {
   "codemirror_mode": {
    "name": "ipython",
    "version": 3
   },
   "file_extension": ".py",
   "mimetype": "text/x-python",
   "name": "python",
   "nbconvert_exporter": "python",
   "pygments_lexer": "ipython3",
   "version": "3.6.3"
  }
 },
 "nbformat": 4,
 "nbformat_minor": 2
}
