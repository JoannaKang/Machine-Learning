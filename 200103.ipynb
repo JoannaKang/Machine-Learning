{
 "cells": [
  {
   "cell_type": "code",
   "execution_count": 3,
   "metadata": {},
   "outputs": [
    {
     "name": "stderr",
     "output_type": "stream",
     "text": [
      "Using TensorFlow backend.\n"
     ]
    },
    {
     "data": {
      "text/plain": [
       "'2.3.1'"
      ]
     },
     "execution_count": 3,
     "metadata": {},
     "output_type": "execute_result"
    }
   ],
   "source": [
    "import numpy as np\n",
    "import os\n",
    "import cv2\n",
    "from sklearn.preprocessing import LabelEncoder\n",
    "from sklearn.preprocessing import OneHotEncoder\n",
    "import keras\n",
    "from keras.layers import Dense, Conv2D, MaxPooling2D, Flatten\n",
    "from keras.models import Sequential\n",
    "from keras import optimizers\n",
    "import matplotlib.pyplot as plt\n",
    "%matplotlib inline\n",
    "keras.__version__"
   ]
  },
  {
   "cell_type": "code",
   "execution_count": 109,
   "metadata": {},
   "outputs": [],
   "source": [
    "width = 28\n",
    "height = 28"
   ]
  },
  {
   "cell_type": "code",
   "execution_count": 110,
   "metadata": {},
   "outputs": [],
   "source": [
    "base_dir = '/Users/joannakang/Desktop/study/RSP'"
   ]
  },
  {
   "cell_type": "code",
   "execution_count": 111,
   "metadata": {},
   "outputs": [],
   "source": [
    "train_dir = os.path.join(base_dir, \"train\")\n",
    "test_dir = os.path.join(base_dir, \"test\")"
   ]
  },
  {
   "cell_type": "code",
   "execution_count": 112,
   "metadata": {},
   "outputs": [
    {
     "name": "stdout",
     "output_type": "stream",
     "text": [
      "['paper', '.DS_Store', 'rock', 'scissors']\n"
     ]
    }
   ],
   "source": [
    "#분류하고자하는 대상 = class\n",
    "class_name = os.listdir(train_dir)\n",
    "print (class_name)"
   ]
  },
  {
   "cell_type": "code",
   "execution_count": 113,
   "metadata": {},
   "outputs": [],
   "source": [
    "class_name.remove('.DS_Store')"
   ]
  },
  {
   "cell_type": "code",
   "execution_count": 114,
   "metadata": {},
   "outputs": [
    {
     "name": "stdout",
     "output_type": "stream",
     "text": [
      "['paper', 'rock', 'scissors']\n"
     ]
    }
   ],
   "source": [
    "print(class_name)"
   ]
  },
  {
   "cell_type": "code",
   "execution_count": 115,
   "metadata": {},
   "outputs": [],
   "source": [
    "train_image = []\n",
    "train_label = []\n",
    "test_image = []\n",
    "test_label = []"
   ]
  },
  {
   "cell_type": "code",
   "execution_count": 116,
   "metadata": {},
   "outputs": [
    {
     "name": "stdout",
     "output_type": "stream",
     "text": [
      "[[1. 0. 0.]\n",
      " [0. 1. 0.]\n",
      " [0. 0. 1.]]\n"
     ]
    },
    {
     "name": "stderr",
     "output_type": "stream",
     "text": [
      "/Users/joannakang/anaconda3/lib/python3.7/site-packages/sklearn/preprocessing/_encoders.py:415: FutureWarning: The handling of integer data will change in version 0.22. Currently, the categories are determined based on the range [0, max(values)], while in the future they will be determined based on the unique values.\n",
      "If you want the future behaviour and silence this warning, you can specify \"categories='auto'\".\n",
      "In case you used a LabelEncoder before this OneHotEncoder to convert the categories to integers, then you can now use the OneHotEncoder directly.\n",
      "  warnings.warn(msg, FutureWarning)\n"
     ]
    }
   ],
   "source": [
    "label_encoder = LabelEncoder()\n",
    "integer_encoded = label_encoder.fit_transform(class_name)\n",
    "onehot_encoder = OneHotEncoder(sparse=False)\n",
    "integer_encoded = integer_encoded.reshape(len(integer_encoded), 1)\n",
    "onehot_encoded = onehot_encoder.fit_transform(integer_encoded)\n",
    "\n",
    "print(onehot_encoded)"
   ]
  },
  {
   "cell_type": "code",
   "execution_count": 117,
   "metadata": {},
   "outputs": [],
   "source": [
    "for i in range(len(class_name)):\n",
    "    path = os.path.join(train_dir, class_name[i]) #폴더까지의 경로\n",
    "    img_list = os.listdir(path)\n",
    "    for j in img_list:\n",
    "        img = os.path.join(path, j) #파일까지의 경로\n",
    "        img = cv2.imread(img, cv2.IMREAD_GRAYSCALE) #파일을 읽어온다\n",
    "        img = cv2.resize(img, (width, height), interpolation = cv2.INTER_CUBIC)\n",
    "        img = img.reshape((width, height, 1))\n",
    "        train_image.append(img)\n",
    "        train_label.append(onehot_encoded[i])"
   ]
  },
  {
   "cell_type": "code",
   "execution_count": 118,
   "metadata": {},
   "outputs": [],
   "source": [
    "for i in range(len(class_name)):\n",
    "    path = os.path.join(test_dir, class_name[i])\n",
    "    img_list = os.listdir(path)\n",
    "    for j in img_list:\n",
    "        img = os.path.join(path, j)\n",
    "        img = cv2.imread(img, cv2.IMREAD_GRAYSCALE)\n",
    "        img = cv2.resize(img, (width, height), interpolation = cv2.INTER_CUBIC)\n",
    "        img = img.reshape((width, height, 1))\n",
    "        test_image.append(img)\n",
    "        test_label.append(onehot_encoded[i])"
   ]
  },
  {
   "cell_type": "code",
   "execution_count": 119,
   "metadata": {},
   "outputs": [
    {
     "name": "stdout",
     "output_type": "stream",
     "text": [
      "85\n",
      "85\n",
      "15\n",
      "15\n"
     ]
    }
   ],
   "source": [
    "print(len(train_input))\n",
    "print(len(train_label))\n",
    "print(len(test_input))\n",
    "print(len(test_label))"
   ]
  },
  {
   "cell_type": "code",
   "execution_count": 120,
   "metadata": {},
   "outputs": [
    {
     "name": "stdout",
     "output_type": "stream",
     "text": [
      "(85, 28, 28, 1)\n",
      "(15, 28, 28, 1)\n"
     ]
    }
   ],
   "source": [
    "train_image = np.array(train_input)\n",
    "train_label = np.array(train_label)\n",
    "test_image = np.array(test_input)\n",
    "test_label = np.array(test_label)\n",
    "print(train_input.shape)\n",
    "print(test_input.shape)"
   ]
  },
  {
   "cell_type": "code",
   "execution_count": 121,
   "metadata": {},
   "outputs": [],
   "source": [
    "a = train_input[1].reshape(28, 28)"
   ]
  },
  {
   "cell_type": "code",
   "execution_count": 122,
   "metadata": {},
   "outputs": [
    {
     "data": {
      "text/plain": [
       "<matplotlib.image.AxesImage at 0x1a4350d128>"
      ]
     },
     "execution_count": 122,
     "metadata": {},
     "output_type": "execute_result"
    },
    {
     "data": {
      "image/png": "[encoded data removed]",
      "text/plain": [
       "<Figure size 432x288 with 1 Axes>"
      ]
     },
     "metadata": {
      "needs_background": "light"
     },
     "output_type": "display_data"
    }
   ],
   "source": [
    "plt.imshow(a, cmap = 'Greys')"
   ]
  },
  {
   "cell_type": "code",
   "execution_count": 123,
   "metadata": {},
   "outputs": [
    {
     "name": "stdout",
     "output_type": "stream",
     "text": [
      "(85, 28, 28, 1)\n",
      "(85, 3)\n"
     ]
    }
   ],
   "source": [
    "print(train_input.shape)\n",
    "print(train_label.shape)"
   ]
  },
  {
   "cell_type": "code",
   "execution_count": 124,
   "metadata": {},
   "outputs": [],
   "source": [
    "model = Sequential()\n",
    "\n",
    "model.add(Conv2D(32, (3, 3), activation = 'relu', input_shape = (width, height, train_input.shape[3])))\n",
    "model.add(MaxPooling2D((2, 2)))\n",
    "model.add(Conv2D(32, (3, 3), activation = 'relu'))\n",
    "model.add(MaxPooling2D((2, 2)))\n",
    "model.add(Conv2D(32, (3, 3), activation = 'relu'))\n",
    "model.add(MaxPooling2D((2, 2)))\n",
    "\n",
    "model.add(Flatten())\n",
    "model.add(Dense(16, activation = 'relu'))\n",
    "model.add(Dense(train_label.shape[1], activation = 'softmax'))"
   ]
  },
  {
   "cell_type": "code",
   "execution_count": 125,
   "metadata": {},
   "outputs": [
    {
     "name": "stdout",
     "output_type": "stream",
     "text": [
      "Model: \"sequential_5\"\n",
      "_________________________________________________________________\n",
      "Layer (type)                 Output Shape              Param #   \n",
      "=================================================================\n",
      "conv2d_13 (Conv2D)           (None, 26, 26, 32)        320       \n",
      "_________________________________________________________________\n",
      "max_pooling2d_13 (MaxPooling (None, 13, 13, 32)        0         \n",
      "_________________________________________________________________\n",
      "conv2d_14 (Conv2D)           (None, 11, 11, 32)        9248      \n",
      "_________________________________________________________________\n",
      "max_pooling2d_14 (MaxPooling (None, 5, 5, 32)          0         \n",
      "_________________________________________________________________\n",
      "conv2d_15 (Conv2D)           (None, 3, 3, 32)          9248      \n",
      "_________________________________________________________________\n",
      "max_pooling2d_15 (MaxPooling (None, 1, 1, 32)          0         \n",
      "_________________________________________________________________\n",
      "flatten_5 (Flatten)          (None, 32)                0         \n",
      "_________________________________________________________________\n",
      "dense_9 (Dense)              (None, 16)                528       \n",
      "_________________________________________________________________\n",
      "dense_10 (Dense)             (None, 3)                 51        \n",
      "=================================================================\n",
      "Total params: 19,395\n",
      "Trainable params: 19,395\n",
      "Non-trainable params: 0\n",
      "_________________________________________________________________\n"
     ]
    }
   ],
   "source": [
    "model.summary()"
   ]
  },
  {
   "cell_type": "code",
   "execution_count": 126,
   "metadata": {},
   "outputs": [],
   "source": [
    "model.compile(optimizer='Adam',\n",
    "              loss='categorical_crossentropy',\n",
    "              metrics=['accuracy'])"
   ]
  },
  {
   "cell_type": "code",
   "execution_count": 127,
   "metadata": {},
   "outputs": [],
   "source": [
    "loss_type = 'mean_squared_error', 'binary_crossentropy', 'categorical_crossentropy'"
   ]
  },
  {
   "cell_type": "code",
   "execution_count": 128,
   "metadata": {},
   "outputs": [
    {
     "name": "stdout",
     "output_type": "stream",
     "text": [
      "Epoch 1/100\n",
      "85/85 [==============================] - 0s 2ms/step - loss: 4.9560 - accuracy: 0.2941\n",
      "Epoch 2/100\n",
      "85/85 [==============================] - 0s 872us/step - loss: 1.8015 - accuracy: 0.3529\n",
      "Epoch 3/100\n",
      "85/85 [==============================] - 0s 877us/step - loss: 1.1232 - accuracy: 0.4706\n",
      "Epoch 4/100\n",
      "85/85 [==============================] - 0s 882us/step - loss: 1.0939 - accuracy: 0.5412\n",
      "Epoch 5/100\n",
      "85/85 [==============================] - 0s 985us/step - loss: 1.1420 - accuracy: 0.5176\n",
      "Epoch 6/100\n",
      "85/85 [==============================] - 0s 2ms/step - loss: 1.0564 - accuracy: 0.5529\n",
      "Epoch 7/100\n",
      "85/85 [==============================] - 0s 1ms/step - loss: 0.8773 - accuracy: 0.6235\n",
      "Epoch 8/100\n",
      "85/85 [==============================] - 0s 880us/step - loss: 0.8656 - accuracy: 0.5647\n",
      "Epoch 9/100\n",
      "85/85 [==============================] - 0s 899us/step - loss: 0.7430 - accuracy: 0.6118\n",
      "Epoch 10/100\n",
      "85/85 [==============================] - 0s 866us/step - loss: 0.7231 - accuracy: 0.6353\n",
      "Epoch 11/100\n",
      "85/85 [==============================] - 0s 899us/step - loss: 0.6085 - accuracy: 0.6941\n",
      "Epoch 12/100\n",
      "85/85 [==============================] - 0s 912us/step - loss: 0.6727 - accuracy: 0.6706\n",
      "Epoch 13/100\n",
      "85/85 [==============================] - 0s 871us/step - loss: 0.5303 - accuracy: 0.7294\n",
      "Epoch 14/100\n",
      "85/85 [==============================] - 0s 911us/step - loss: 0.4539 - accuracy: 0.8118\n",
      "Epoch 15/100\n",
      "85/85 [==============================] - 0s 929us/step - loss: 0.3767 - accuracy: 0.8706\n",
      "Epoch 16/100\n",
      "85/85 [==============================] - 0s 857us/step - loss: 0.3392 - accuracy: 0.8706\n",
      "Epoch 17/100\n",
      "85/85 [==============================] - 0s 919us/step - loss: 0.2690 - accuracy: 0.9294\n",
      "Epoch 18/100\n",
      "85/85 [==============================] - 0s 938us/step - loss: 0.2946 - accuracy: 0.8941\n",
      "Epoch 19/100\n",
      "85/85 [==============================] - 0s 940us/step - loss: 0.2918 - accuracy: 0.8941\n",
      "Epoch 20/100\n",
      "85/85 [==============================] - 0s 830us/step - loss: 0.2835 - accuracy: 0.9294\n",
      "Epoch 21/100\n",
      "85/85 [==============================] - 0s 864us/step - loss: 0.2088 - accuracy: 0.9412\n",
      "Epoch 22/100\n",
      "85/85 [==============================] - 0s 828us/step - loss: 0.1874 - accuracy: 0.9882\n",
      "Epoch 23/100\n",
      "85/85 [==============================] - 0s 922us/step - loss: 0.1677 - accuracy: 0.9647\n",
      "Epoch 24/100\n",
      "85/85 [==============================] - 0s 901us/step - loss: 0.1535 - accuracy: 1.0000\n",
      "Epoch 25/100\n",
      "85/85 [==============================] - 0s 894us/step - loss: 0.1239 - accuracy: 0.9882\n",
      "Epoch 26/100\n",
      "85/85 [==============================] - 0s 950us/step - loss: 0.1066 - accuracy: 0.9882\n",
      "Epoch 27/100\n",
      "85/85 [==============================] - 0s 938us/step - loss: 0.0870 - accuracy: 1.0000\n",
      "Epoch 28/100\n",
      "85/85 [==============================] - 0s 931us/step - loss: 0.0810 - accuracy: 1.0000\n",
      "Epoch 29/100\n",
      "85/85 [==============================] - 0s 939us/step - loss: 0.0944 - accuracy: 1.0000\n",
      "Epoch 30/100\n",
      "85/85 [==============================] - 0s 955us/step - loss: 0.0775 - accuracy: 1.0000\n",
      "Epoch 31/100\n",
      "85/85 [==============================] - 0s 888us/step - loss: 0.0752 - accuracy: 1.0000\n",
      "Epoch 32/100\n",
      "85/85 [==============================] - 0s 988us/step - loss: 0.0895 - accuracy: 0.9765\n",
      "Epoch 33/100\n",
      "85/85 [==============================] - 0s 942us/step - loss: 0.0575 - accuracy: 1.0000\n",
      "Epoch 34/100\n",
      "85/85 [==============================] - 0s 950us/step - loss: 0.0532 - accuracy: 1.0000\n",
      "Epoch 35/100\n",
      "85/85 [==============================] - 0s 951us/step - loss: 0.0388 - accuracy: 1.0000\n",
      "Epoch 36/100\n",
      "85/85 [==============================] - 0s 999us/step - loss: 0.0305 - accuracy: 1.0000\n",
      "Epoch 37/100\n",
      "85/85 [==============================] - 0s 948us/step - loss: 0.0353 - accuracy: 1.0000\n",
      "Epoch 38/100\n",
      "85/85 [==============================] - 0s 926us/step - loss: 0.0310 - accuracy: 1.0000\n",
      "Epoch 39/100\n",
      "85/85 [==============================] - 0s 922us/step - loss: 0.0288 - accuracy: 1.0000\n",
      "Epoch 40/100\n",
      "85/85 [==============================] - 0s 922us/step - loss: 0.0272 - accuracy: 1.0000\n",
      "Epoch 41/100\n",
      "85/85 [==============================] - 0s 916us/step - loss: 0.0191 - accuracy: 1.0000\n",
      "Epoch 42/100\n",
      "85/85 [==============================] - 0s 909us/step - loss: 0.0158 - accuracy: 1.0000\n",
      "Epoch 43/100\n",
      "85/85 [==============================] - 0s 962us/step - loss: 0.0159 - accuracy: 1.0000\n",
      "Epoch 44/100\n",
      "85/85 [==============================] - 0s 947us/step - loss: 0.0136 - accuracy: 1.0000\n",
      "Epoch 45/100\n",
      "85/85 [==============================] - 0s 950us/step - loss: 0.0121 - accuracy: 1.0000\n",
      "Epoch 46/100\n",
      "85/85 [==============================] - 0s 935us/step - loss: 0.0114 - accuracy: 1.0000\n",
      "Epoch 47/100\n",
      "85/85 [==============================] - 0s 978us/step - loss: 0.0097 - accuracy: 1.0000\n",
      "Epoch 48/100\n",
      "85/85 [==============================] - 0s 1ms/step - loss: 0.0084 - accuracy: 1.0000\n",
      "Epoch 49/100\n",
      "85/85 [==============================] - 0s 931us/step - loss: 0.0074 - accuracy: 1.0000\n",
      "Epoch 50/100\n",
      "85/85 [==============================] - 0s 984us/step - loss: 0.0069 - accuracy: 1.0000\n",
      "Epoch 51/100\n",
      "85/85 [==============================] - 0s 926us/step - loss: 0.0064 - accuracy: 1.0000\n",
      "Epoch 52/100\n",
      "85/85 [==============================] - 0s 914us/step - loss: 0.0060 - accuracy: 1.0000\n",
      "Epoch 53/100\n",
      "85/85 [==============================] - 0s 1ms/step - loss: 0.0056 - accuracy: 1.0000\n",
      "Epoch 54/100\n",
      "85/85 [==============================] - 0s 919us/step - loss: 0.0050 - accuracy: 1.0000\n",
      "Epoch 55/100\n",
      "85/85 [==============================] - 0s 923us/step - loss: 0.0052 - accuracy: 1.0000\n",
      "Epoch 56/100\n",
      "85/85 [==============================] - 0s 912us/step - loss: 0.0051 - accuracy: 1.0000\n",
      "Epoch 57/100\n",
      "85/85 [==============================] - 0s 896us/step - loss: 0.0041 - accuracy: 1.0000\n",
      "Epoch 58/100\n",
      "85/85 [==============================] - 0s 855us/step - loss: 0.0040 - accuracy: 1.0000\n",
      "Epoch 59/100\n",
      "85/85 [==============================] - 0s 866us/step - loss: 0.0038 - accuracy: 1.0000\n",
      "Epoch 60/100\n",
      "85/85 [==============================] - 0s 863us/step - loss: 0.0036 - accuracy: 1.0000\n",
      "Epoch 61/100\n",
      "85/85 [==============================] - 0s 864us/step - loss: 0.0034 - accuracy: 1.0000\n",
      "Epoch 62/100\n",
      "85/85 [==============================] - 0s 842us/step - loss: 0.0034 - accuracy: 1.0000\n",
      "Epoch 63/100\n",
      "85/85 [==============================] - 0s 905us/step - loss: 0.0035 - accuracy: 1.0000\n",
      "Epoch 64/100\n",
      "85/85 [==============================] - 0s 855us/step - loss: 0.0030 - accuracy: 1.0000\n",
      "Epoch 65/100\n",
      "85/85 [==============================] - 0s 857us/step - loss: 0.0029 - accuracy: 1.0000\n",
      "Epoch 66/100\n",
      "85/85 [==============================] - 0s 819us/step - loss: 0.0027 - accuracy: 1.0000\n",
      "Epoch 67/100\n",
      "85/85 [==============================] - 0s 852us/step - loss: 0.0027 - accuracy: 1.0000\n",
      "Epoch 68/100\n",
      "85/85 [==============================] - 0s 830us/step - loss: 0.0026 - accuracy: 1.0000\n",
      "Epoch 69/100\n",
      "85/85 [==============================] - 0s 861us/step - loss: 0.0024 - accuracy: 1.0000\n",
      "Epoch 70/100\n",
      "85/85 [==============================] - 0s 895us/step - loss: 0.0022 - accuracy: 1.0000\n",
      "Epoch 71/100\n",
      "85/85 [==============================] - 0s 882us/step - loss: 0.0022 - accuracy: 1.0000\n",
      "Epoch 72/100\n",
      "85/85 [==============================] - 0s 963us/step - loss: 0.0022 - accuracy: 1.0000\n",
      "Epoch 73/100\n",
      "85/85 [==============================] - 0s 925us/step - loss: 0.0020 - accuracy: 1.0000\n",
      "Epoch 74/100\n",
      "85/85 [==============================] - 0s 1ms/step - loss: 0.0020 - accuracy: 1.0000\n",
      "Epoch 75/100\n",
      "85/85 [==============================] - 0s 1ms/step - loss: 0.0019 - accuracy: 1.0000\n",
      "Epoch 76/100\n",
      "85/85 [==============================] - 0s 992us/step - loss: 0.0018 - accuracy: 1.0000\n",
      "Epoch 77/100\n",
      "85/85 [==============================] - 0s 969us/step - loss: 0.0017 - accuracy: 1.0000\n",
      "Epoch 78/100\n",
      "85/85 [==============================] - 0s 866us/step - loss: 0.0017 - accuracy: 1.0000\n",
      "Epoch 79/100\n",
      "85/85 [==============================] - 0s 964us/step - loss: 0.0017 - accuracy: 1.0000\n",
      "Epoch 80/100\n",
      "85/85 [==============================] - 0s 926us/step - loss: 0.0016 - accuracy: 1.0000\n",
      "Epoch 81/100\n"
     ]
    },
    {
     "name": "stdout",
     "output_type": "stream",
     "text": [
      "85/85 [==============================] - 0s 1ms/step - loss: 0.0015 - accuracy: 1.0000\n",
      "Epoch 82/100\n",
      "85/85 [==============================] - 0s 828us/step - loss: 0.0015 - accuracy: 1.0000\n",
      "Epoch 83/100\n",
      "85/85 [==============================] - 0s 834us/step - loss: 0.0015 - accuracy: 1.0000\n",
      "Epoch 84/100\n",
      "85/85 [==============================] - 0s 838us/step - loss: 0.0014 - accuracy: 1.0000\n",
      "Epoch 85/100\n",
      "85/85 [==============================] - 0s 850us/step - loss: 0.0014 - accuracy: 1.0000\n",
      "Epoch 86/100\n",
      "85/85 [==============================] - 0s 851us/step - loss: 0.0014 - accuracy: 1.0000\n",
      "Epoch 87/100\n",
      "85/85 [==============================] - 0s 818us/step - loss: 0.0013 - accuracy: 1.0000\n",
      "Epoch 88/100\n",
      "85/85 [==============================] - 0s 827us/step - loss: 0.0012 - accuracy: 1.0000\n",
      "Epoch 89/100\n",
      "85/85 [==============================] - 0s 972us/step - loss: 0.0012 - accuracy: 1.0000\n",
      "Epoch 90/100\n",
      "85/85 [==============================] - 0s 1ms/step - loss: 0.0011 - accuracy: 1.0000\n",
      "Epoch 91/100\n",
      "85/85 [==============================] - 0s 1ms/step - loss: 0.0011 - accuracy: 1.0000\n",
      "Epoch 92/100\n",
      "85/85 [==============================] - 0s 1ms/step - loss: 0.0011 - accuracy: 1.0000\n",
      "Epoch 93/100\n",
      "85/85 [==============================] - 0s 1ms/step - loss: 0.0010 - accuracy: 1.0000\n",
      "Epoch 94/100\n",
      "85/85 [==============================] - 0s 854us/step - loss: 0.0010 - accuracy: 1.0000\n",
      "Epoch 95/100\n",
      "85/85 [==============================] - 0s 804us/step - loss: 9.8737e-04 - accuracy: 1.0000\n",
      "Epoch 96/100\n",
      "85/85 [==============================] - 0s 823us/step - loss: 9.6056e-04 - accuracy: 1.0000\n",
      "Epoch 97/100\n",
      "85/85 [==============================] - 0s 864us/step - loss: 9.7595e-04 - accuracy: 1.0000\n",
      "Epoch 98/100\n",
      "85/85 [==============================] - 0s 818us/step - loss: 9.1123e-04 - accuracy: 1.0000\n",
      "Epoch 99/100\n",
      "85/85 [==============================] - 0s 812us/step - loss: 9.0522e-04 - accuracy: 1.0000\n",
      "Epoch 100/100\n",
      "85/85 [==============================] - 0s 961us/step - loss: 8.6691e-04 - accuracy: 1.0000\n"
     ]
    },
    {
     "data": {
      "text/plain": [
       "<keras.callbacks.callbacks.History at 0x1a43abbfd0>"
      ]
     },
     "execution_count": 128,
     "metadata": {},
     "output_type": "execute_result"
    }
   ],
   "source": [
    "model.fit(x = train_image, y = train_label, batch_size = 5, epochs = 100)"
   ]
  },
  {
   "cell_type": "code",
   "execution_count": 129,
   "metadata": {},
   "outputs": [
    {
     "name": "stdout",
     "output_type": "stream",
     "text": [
      "15/15 [==============================] - 0s 2ms/step\n",
      "[6.407425880432129, 0.13333334028720856]\n"
     ]
    }
   ],
   "source": [
    "loss_and_accuracy = model.evaluate(x = test_input, y = test_label)\n",
    "print(loss_and_accuracy)"
   ]
  },
  {
   "cell_type": "code",
   "execution_count": 130,
   "metadata": {},
   "outputs": [],
   "source": [
    "yhat_test = model.predict(test_input, batch_size=32)"
   ]
  },
  {
   "cell_type": "code",
   "execution_count": 131,
   "metadata": {},
   "outputs": [
    {
     "name": "stdout",
     "output_type": "stream",
     "text": [
      "[[1.9126093e-04 5.2216876e-01 4.7763994e-01]\n",
      " [3.3306409e-02 9.6001935e-01 6.6742436e-03]\n",
      " [8.8422641e-04 9.9906498e-01 5.0820548e-05]\n",
      " [2.3788096e-01 7.6210815e-01 1.0861277e-05]\n",
      " [6.4721070e-07 7.9272902e-01 2.0727031e-01]\n",
      " [3.4233577e-07 7.8189418e-02 9.2181027e-01]\n",
      " [6.1661473e-07 4.0012810e-02 9.5998651e-01]\n",
      " [1.4264224e-05 8.2153390e-05 9.9990356e-01]\n",
      " [5.8720536e-13 6.7876681e-06 9.9999321e-01]\n",
      " [7.2002697e-01 4.8037712e-02 2.3193526e-01]\n",
      " [8.8789219e-01 1.1208146e-01 2.6394335e-05]\n",
      " [1.6873816e-04 9.9934214e-01 4.8910244e-04]\n",
      " [1.7290551e-05 1.2594323e-02 9.8738843e-01]\n",
      " [2.3197724e-02 9.7679943e-01 2.8468380e-06]\n",
      " [7.2908304e-05 3.1096172e-01 6.8896538e-01]]\n"
     ]
    }
   ],
   "source": [
    "print(yhat_test)"
   ]
  },
  {
   "cell_type": "code",
   "execution_count": 133,
   "metadata": {},
   "outputs": [
    {
     "data": {
      "image/png": "[encoded data removed]",
      "text/plain": [
       "<Figure size 1080x1080 with 15 Axes>"
      ]
     },
     "metadata": {
      "needs_background": "light"
     },
     "output_type": "display_data"
    }
   ],
   "source": [
    "plt.figure(figsize=(15, 15))\n",
    "\n",
    "for i in range(len(test_image)):\n",
    "    plt.subplot(9, 8, i + 1)\n",
    "    plt.axis('off')\n",
    "    img = test_input[i].reshape(28, 28)\n",
    "    plt.imshow(img, cmap = 'gray')\n",
    "    plt.title('R:' + str(np.argmax(test_label[i])) + 'P:' + str(np.argmax(yhat_test[i])))"
   ]
  },
  {
   "cell_type": "code",
   "execution_count": null,
   "metadata": {},
   "outputs": [],
   "source": []
  }
 ],
 "metadata": {
  "kernelspec": {
   "display_name": "Python 3",
   "language": "python",
   "name": "python3"
  },
  "language_info": {
   "codemirror_mode": {
    "name": "ipython",
    "version": 3
   },
   "file_extension": ".py",
   "mimetype": "text/x-python",
   "name": "python",
   "nbconvert_exporter": "python",
   "pygments_lexer": "ipython3",
   "version": "3.7.3"
  }
 },
 "nbformat": 4,
 "nbformat_minor": 2
}
