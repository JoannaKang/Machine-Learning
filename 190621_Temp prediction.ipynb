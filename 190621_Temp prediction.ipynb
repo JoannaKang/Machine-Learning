{
 "cells": [
  {
   "cell_type": "code",
   "execution_count": 215,
   "metadata": {},
   "outputs": [
    {
     "name": "stderr",
     "output_type": "stream",
     "text": [
      "/anaconda3/lib/python3.6/site-packages/h5py/__init__.py:34: FutureWarning: Conversion of the second argument of issubdtype from `float` to `np.floating` is deprecated. In future, it will be treated as `np.float64 == np.dtype(float).type`.\n",
      "  from ._conv import register_converters as _register_converters\n",
      "Using TensorFlow backend.\n",
      "/anaconda3/lib/python3.6/importlib/_bootstrap.py:219: RuntimeWarning: compiletime version 3.5 of module 'tensorflow.python.framework.fast_tensor_util' does not match runtime version 3.6\n",
      "  return f(*args, **kwds)\n"
     ]
    }
   ],
   "source": [
    "import matplotlib.pyplot as plt\n",
    "import numpy as np \n",
    "import pandas as pd \n",
    "import os \n",
    "from sklearn.preprocessing import MinMaxScaler\n",
    "from keras.callbacks import History\n",
    "from keras.callbacks import ModelCheckpoint, TensorBoard\n",
    "from keras.layers import Conv2D, MaxPooling2D, GlobalAveragePooling2D, Dropout, Activation, Average, Dense\n",
    "from keras.losses import categorical_crossentropy\n",
    "from keras.models import Sequential, Model, Input\n",
    "from keras.optimizers import SGD, RMSprop, Adagrad, Adadelta, Adam, Adamax\n",
    "from keras import metrics\n",
    "from keras.utils import to_categorical\n",
    "from tensorflow.python.framework.ops import Tensor\n",
    "from keras.layers.normalization import BatchNormalization\n",
    "from keras import regularizers\n",
    "from typing import Tuple, List\n",
    "import numpy as np\n",
    "from datetime import datetime\n",
    "from matplotlib import pyplot\n",
    "from keras.layers import LSTM\n",
    "%matplotlib inline"
   ]
  },
  {
   "cell_type": "code",
   "execution_count": 216,
   "metadata": {
    "collapsed": true
   },
   "outputs": [],
   "source": [
    "path = '/Users/joannakang/Documents/Python_study'"
   ]
  },
  {
   "cell_type": "code",
   "execution_count": 217,
   "metadata": {
    "collapsed": true
   },
   "outputs": [],
   "source": [
    "file_path = os.path.join(path,'complete_data.csv')"
   ]
  },
  {
   "cell_type": "code",
   "execution_count": 218,
   "metadata": {},
   "outputs": [],
   "source": [
    "df = pd.read_csv(file_path)"
   ]
  },
  {
   "cell_type": "code",
   "execution_count": 219,
   "metadata": {},
   "outputs": [],
   "source": [
    "df = df.dropna()"
   ]
  },
  {
   "cell_type": "code",
   "execution_count": 220,
   "metadata": {},
   "outputs": [
    {
     "data": {
      "text/html": [
       "<div>\n",
       "<style>\n",
       "    .dataframe thead tr:only-child th {\n",
       "        text-align: right;\n",
       "    }\n",
       "\n",
       "    .dataframe thead th {\n",
       "        text-align: left;\n",
       "    }\n",
       "\n",
       "    .dataframe tbody tr th {\n",
       "        vertical-align: top;\n",
       "    }\n",
       "</style>\n",
       "<table border=\"1\" class=\"dataframe\">\n",
       "  <thead>\n",
       "    <tr style=\"text-align: right;\">\n",
       "      <th></th>\n",
       "      <th>datetime</th>\n",
       "      <th>kWh</th>\n",
       "      <th>pressure</th>\n",
       "      <th>temperature</th>\n",
       "      <th>wind_direction</th>\n",
       "      <th>wind_speed</th>\n",
       "    </tr>\n",
       "  </thead>\n",
       "  <tbody>\n",
       "    <tr>\n",
       "      <th>1</th>\n",
       "      <td>01/01/2017 00:30</td>\n",
       "      <td>2310.732265</td>\n",
       "      <td>30.19</td>\n",
       "      <td>45.0</td>\n",
       "      <td>230.0</td>\n",
       "      <td>7.0</td>\n",
       "    </tr>\n",
       "    <tr>\n",
       "      <th>2</th>\n",
       "      <td>01/01/2017 01:00</td>\n",
       "      <td>2289.332265</td>\n",
       "      <td>30.16</td>\n",
       "      <td>45.0</td>\n",
       "      <td>230.0</td>\n",
       "      <td>6.0</td>\n",
       "    </tr>\n",
       "    <tr>\n",
       "      <th>3</th>\n",
       "      <td>01/01/2017 01:30</td>\n",
       "      <td>2314.583265</td>\n",
       "      <td>30.16</td>\n",
       "      <td>45.0</td>\n",
       "      <td>240.0</td>\n",
       "      <td>7.0</td>\n",
       "    </tr>\n",
       "    <tr>\n",
       "      <th>4</th>\n",
       "      <td>01/01/2017 02:00</td>\n",
       "      <td>2309.308265</td>\n",
       "      <td>30.13</td>\n",
       "      <td>45.0</td>\n",
       "      <td>240.0</td>\n",
       "      <td>10.0</td>\n",
       "    </tr>\n",
       "    <tr>\n",
       "      <th>5</th>\n",
       "      <td>01/01/2017 02:30</td>\n",
       "      <td>2315.057265</td>\n",
       "      <td>30.13</td>\n",
       "      <td>45.0</td>\n",
       "      <td>210.0</td>\n",
       "      <td>9.0</td>\n",
       "    </tr>\n",
       "  </tbody>\n",
       "</table>\n",
       "</div>"
      ],
      "text/plain": [
       "           datetime          kWh  pressure  temperature  wind_direction  \\\n",
       "1  01/01/2017 00:30  2310.732265     30.19         45.0           230.0   \n",
       "2  01/01/2017 01:00  2289.332265     30.16         45.0           230.0   \n",
       "3  01/01/2017 01:30  2314.583265     30.16         45.0           240.0   \n",
       "4  01/01/2017 02:00  2309.308265     30.13         45.0           240.0   \n",
       "5  01/01/2017 02:30  2315.057265     30.13         45.0           210.0   \n",
       "\n",
       "   wind_speed  \n",
       "1         7.0  \n",
       "2         6.0  \n",
       "3         7.0  \n",
       "4        10.0  \n",
       "5         9.0  "
      ]
     },
     "execution_count": 220,
     "metadata": {},
     "output_type": "execute_result"
    }
   ],
   "source": [
    "df.head()"
   ]
  },
  {
   "cell_type": "code",
   "execution_count": 221,
   "metadata": {
    "collapsed": true
   },
   "outputs": [],
   "source": [
    "df = df [['pressure','temperature','wind_direction','wind_speed']]"
   ]
  },
  {
   "cell_type": "code",
   "execution_count": 222,
   "metadata": {},
   "outputs": [
    {
     "data": {
      "text/html": [
       "<div>\n",
       "<style>\n",
       "    .dataframe thead tr:only-child th {\n",
       "        text-align: right;\n",
       "    }\n",
       "\n",
       "    .dataframe thead th {\n",
       "        text-align: left;\n",
       "    }\n",
       "\n",
       "    .dataframe tbody tr th {\n",
       "        vertical-align: top;\n",
       "    }\n",
       "</style>\n",
       "<table border=\"1\" class=\"dataframe\">\n",
       "  <thead>\n",
       "    <tr style=\"text-align: right;\">\n",
       "      <th></th>\n",
       "      <th>pressure</th>\n",
       "      <th>temperature</th>\n",
       "      <th>wind_direction</th>\n",
       "      <th>wind_speed</th>\n",
       "    </tr>\n",
       "  </thead>\n",
       "  <tbody>\n",
       "    <tr>\n",
       "      <th>count</th>\n",
       "      <td>32321.000000</td>\n",
       "      <td>32321.000000</td>\n",
       "      <td>32321.000000</td>\n",
       "      <td>32321.000000</td>\n",
       "    </tr>\n",
       "    <tr>\n",
       "      <th>mean</th>\n",
       "      <td>29.964390</td>\n",
       "      <td>54.884781</td>\n",
       "      <td>205.191207</td>\n",
       "      <td>10.515238</td>\n",
       "    </tr>\n",
       "    <tr>\n",
       "      <th>std</th>\n",
       "      <td>0.303748</td>\n",
       "      <td>10.999908</td>\n",
       "      <td>86.620754</td>\n",
       "      <td>4.663697</td>\n",
       "    </tr>\n",
       "    <tr>\n",
       "      <th>min</th>\n",
       "      <td>28.690000</td>\n",
       "      <td>23.000000</td>\n",
       "      <td>10.000000</td>\n",
       "      <td>1.000000</td>\n",
       "    </tr>\n",
       "    <tr>\n",
       "      <th>25%</th>\n",
       "      <td>29.810000</td>\n",
       "      <td>46.000000</td>\n",
       "      <td>130.000000</td>\n",
       "      <td>7.000000</td>\n",
       "    </tr>\n",
       "    <tr>\n",
       "      <th>50%</th>\n",
       "      <td>29.980000</td>\n",
       "      <td>54.000000</td>\n",
       "      <td>230.000000</td>\n",
       "      <td>9.000000</td>\n",
       "    </tr>\n",
       "    <tr>\n",
       "      <th>75%</th>\n",
       "      <td>30.160000</td>\n",
       "      <td>63.000000</td>\n",
       "      <td>260.000000</td>\n",
       "      <td>14.000000</td>\n",
       "    </tr>\n",
       "    <tr>\n",
       "      <th>max</th>\n",
       "      <td>30.810000</td>\n",
       "      <td>93.000000</td>\n",
       "      <td>360.000000</td>\n",
       "      <td>40.000000</td>\n",
       "    </tr>\n",
       "  </tbody>\n",
       "</table>\n",
       "</div>"
      ],
      "text/plain": [
       "           pressure   temperature  wind_direction    wind_speed\n",
       "count  32321.000000  32321.000000    32321.000000  32321.000000\n",
       "mean      29.964390     54.884781      205.191207     10.515238\n",
       "std        0.303748     10.999908       86.620754      4.663697\n",
       "min       28.690000     23.000000       10.000000      1.000000\n",
       "25%       29.810000     46.000000      130.000000      7.000000\n",
       "50%       29.980000     54.000000      230.000000      9.000000\n",
       "75%       30.160000     63.000000      260.000000     14.000000\n",
       "max       30.810000     93.000000      360.000000     40.000000"
      ]
     },
     "execution_count": 222,
     "metadata": {},
     "output_type": "execute_result"
    }
   ],
   "source": [
    "df.describe()"
   ]
  },
  {
   "cell_type": "code",
   "execution_count": 223,
   "metadata": {
    "collapsed": true
   },
   "outputs": [],
   "source": [
    "train_df_x = df[['pressure','wind_direction','wind_speed']]"
   ]
  },
  {
   "cell_type": "code",
   "execution_count": 224,
   "metadata": {},
   "outputs": [
    {
     "data": {
      "text/html": [
       "<div>\n",
       "<style>\n",
       "    .dataframe thead tr:only-child th {\n",
       "        text-align: right;\n",
       "    }\n",
       "\n",
       "    .dataframe thead th {\n",
       "        text-align: left;\n",
       "    }\n",
       "\n",
       "    .dataframe tbody tr th {\n",
       "        vertical-align: top;\n",
       "    }\n",
       "</style>\n",
       "<table border=\"1\" class=\"dataframe\">\n",
       "  <thead>\n",
       "    <tr style=\"text-align: right;\">\n",
       "      <th></th>\n",
       "      <th>pressure</th>\n",
       "      <th>wind_direction</th>\n",
       "      <th>wind_speed</th>\n",
       "    </tr>\n",
       "  </thead>\n",
       "  <tbody>\n",
       "    <tr>\n",
       "      <th>1</th>\n",
       "      <td>30.19</td>\n",
       "      <td>230.0</td>\n",
       "      <td>7.0</td>\n",
       "    </tr>\n",
       "    <tr>\n",
       "      <th>2</th>\n",
       "      <td>30.16</td>\n",
       "      <td>230.0</td>\n",
       "      <td>6.0</td>\n",
       "    </tr>\n",
       "    <tr>\n",
       "      <th>3</th>\n",
       "      <td>30.16</td>\n",
       "      <td>240.0</td>\n",
       "      <td>7.0</td>\n",
       "    </tr>\n",
       "    <tr>\n",
       "      <th>4</th>\n",
       "      <td>30.13</td>\n",
       "      <td>240.0</td>\n",
       "      <td>10.0</td>\n",
       "    </tr>\n",
       "    <tr>\n",
       "      <th>5</th>\n",
       "      <td>30.13</td>\n",
       "      <td>210.0</td>\n",
       "      <td>9.0</td>\n",
       "    </tr>\n",
       "  </tbody>\n",
       "</table>\n",
       "</div>"
      ],
      "text/plain": [
       "   pressure  wind_direction  wind_speed\n",
       "1     30.19           230.0         7.0\n",
       "2     30.16           230.0         6.0\n",
       "3     30.16           240.0         7.0\n",
       "4     30.13           240.0        10.0\n",
       "5     30.13           210.0         9.0"
      ]
     },
     "execution_count": 224,
     "metadata": {},
     "output_type": "execute_result"
    }
   ],
   "source": [
    "train_df_x.head()"
   ]
  },
  {
   "cell_type": "code",
   "execution_count": 225,
   "metadata": {
    "collapsed": true
   },
   "outputs": [],
   "source": [
    "train_df_y = df['temperature']"
   ]
  },
  {
   "cell_type": "code",
   "execution_count": 226,
   "metadata": {},
   "outputs": [
    {
     "data": {
      "text/plain": [
       "1    45.0\n",
       "2    45.0\n",
       "3    45.0\n",
       "4    45.0\n",
       "5    45.0\n",
       "Name: temperature, dtype: float64"
      ]
     },
     "execution_count": 226,
     "metadata": {},
     "output_type": "execute_result"
    }
   ],
   "source": [
    "train_df_y.head()"
   ]
  },
  {
   "cell_type": "code",
   "execution_count": 227,
   "metadata": {},
   "outputs": [
    {
     "data": {
      "text/plain": [
       "32321"
      ]
     },
     "execution_count": 227,
     "metadata": {},
     "output_type": "execute_result"
    }
   ],
   "source": [
    "train_df_y.count()"
   ]
  },
  {
   "cell_type": "code",
   "execution_count": 228,
   "metadata": {},
   "outputs": [
    {
     "data": {
      "text/plain": [
       "pressure          32321\n",
       "wind_direction    32321\n",
       "wind_speed        32321\n",
       "dtype: int64"
      ]
     },
     "execution_count": 228,
     "metadata": {},
     "output_type": "execute_result"
    }
   ],
   "source": [
    "train_df_x.count()"
   ]
  },
  {
   "cell_type": "code",
   "execution_count": 229,
   "metadata": {
    "collapsed": true
   },
   "outputs": [],
   "source": [
    "x_train = train_df_x[0:20000]\n",
    "y_train = train_df_y[0:20000]"
   ]
  },
  {
   "cell_type": "code",
   "execution_count": 230,
   "metadata": {
    "collapsed": true
   },
   "outputs": [],
   "source": [
    "x_val = train_df_x[20000:30000]\n",
    "y_val = train_df_y[20000:30000]"
   ]
  },
  {
   "cell_type": "code",
   "execution_count": 231,
   "metadata": {
    "collapsed": true
   },
   "outputs": [],
   "source": [
    "x_test = train_df_x[30000:]\n",
    "y_test = train_df_y[30000:]"
   ]
  },
  {
   "cell_type": "code",
   "execution_count": 232,
   "metadata": {},
   "outputs": [
    {
     "data": {
      "text/plain": [
       "20000"
      ]
     },
     "execution_count": 232,
     "metadata": {},
     "output_type": "execute_result"
    }
   ],
   "source": [
    "len(x_train)"
   ]
  },
  {
   "cell_type": "code",
   "execution_count": 233,
   "metadata": {},
   "outputs": [
    {
     "data": {
      "text/plain": [
       "20000"
      ]
     },
     "execution_count": 233,
     "metadata": {},
     "output_type": "execute_result"
    }
   ],
   "source": [
    "len(y_train)"
   ]
  },
  {
   "cell_type": "code",
   "execution_count": 234,
   "metadata": {},
   "outputs": [
    {
     "data": {
      "text/plain": [
       "10000"
      ]
     },
     "execution_count": 234,
     "metadata": {},
     "output_type": "execute_result"
    }
   ],
   "source": [
    "len(x_val)"
   ]
  },
  {
   "cell_type": "code",
   "execution_count": 235,
   "metadata": {},
   "outputs": [
    {
     "data": {
      "text/plain": [
       "10000"
      ]
     },
     "execution_count": 235,
     "metadata": {},
     "output_type": "execute_result"
    }
   ],
   "source": [
    "len(y_val)"
   ]
  },
  {
   "cell_type": "code",
   "execution_count": 236,
   "metadata": {},
   "outputs": [
    {
     "data": {
      "text/plain": [
       "2321"
      ]
     },
     "execution_count": 236,
     "metadata": {},
     "output_type": "execute_result"
    }
   ],
   "source": [
    "len(x_test)"
   ]
  },
  {
   "cell_type": "code",
   "execution_count": 237,
   "metadata": {},
   "outputs": [
    {
     "data": {
      "text/plain": [
       "2321"
      ]
     },
     "execution_count": 237,
     "metadata": {},
     "output_type": "execute_result"
    }
   ],
   "source": [
    "len(y_test)"
   ]
  },
  {
   "cell_type": "code",
   "execution_count": 241,
   "metadata": {},
   "outputs": [],
   "source": [
    "train_df.to_csv('/Users/joannakang/Documents/Python_study/asdf.csv', header = False, index = False)"
   ]
  },
  {
   "cell_type": "code",
   "execution_count": 264,
   "metadata": {
    "collapsed": true
   },
   "outputs": [],
   "source": [
    "def deep_learning_model_1(x_size, y_size):\n",
    "    t_model = Sequential() #머신러닝을 시작하겠다는 명령어\n",
    "    t_model.add(Dense(100, activation=\"relu\", input_shape=(x_size,)))\n",
    "    #Dense : Fully connected? / input_shape = Input layer, 4 = Hidden layer의 노드의 갯수 #activation = Activation function의 종류를 지정\n",
    "    t_model.add(BatchNormalization())\n",
    "    t_model.add(Dense(100, activation=\"relu\")) #그 다음 Hidden layer 레이어를 지정\n",
    "    t_model.add(BatchNormalization())\n",
    "    t_model.add(Dense(y_size)) #output layer\n",
    "    print(t_model.summary())\n",
    "    t_model.compile(loss='mean_squared_error',\n",
    "        optimizer=Adam(lr=1e-3, decay=0.0),\n",
    "        metrics=['accuracy'])\n",
    "    return(t_model)"
   ]
  },
  {
   "cell_type": "code",
   "execution_count": 265,
   "metadata": {},
   "outputs": [
    {
     "name": "stdout",
     "output_type": "stream",
     "text": [
      "_________________________________________________________________\n",
      "Layer (type)                 Output Shape              Param #   \n",
      "=================================================================\n",
      "dense_4 (Dense)              (None, 100)               400       \n",
      "_________________________________________________________________\n",
      "batch_normalization_3 (Batch (None, 100)               400       \n",
      "_________________________________________________________________\n",
      "dense_5 (Dense)              (None, 100)               10100     \n",
      "_________________________________________________________________\n",
      "batch_normalization_4 (Batch (None, 100)               400       \n",
      "_________________________________________________________________\n",
      "dense_6 (Dense)              (None, 1)                 101       \n",
      "=================================================================\n",
      "Total params: 11,401\n",
      "Trainable params: 11,001\n",
      "Non-trainable params: 400\n",
      "_________________________________________________________________\n",
      "None\n"
     ]
    }
   ],
   "source": [
    "model = deep_learning_model_1(3,1)"
   ]
  },
  {
   "cell_type": "code",
   "execution_count": 266,
   "metadata": {},
   "outputs": [
    {
     "name": "stdout",
     "output_type": "stream",
     "text": [
      "Epochs:  100\n",
      "Batch_size:  1000\n"
     ]
    }
   ],
   "source": [
    "epochs = 100\n",
    "batch_size = 1000\n",
    "\n",
    "print('Epochs: ', epochs)\n",
    "print('Batch_size: ', batch_size)"
   ]
  },
  {
   "cell_type": "code",
   "execution_count": 267,
   "metadata": {},
   "outputs": [
    {
     "name": "stdout",
     "output_type": "stream",
     "text": [
      "Train on 20000 samples, validate on 10000 samples\n",
      "Epoch 1/100\n",
      "20000/20000 [==============================] - 1s 44us/step - loss: 2882.2871 - acc: 0.0000e+00 - val_loss: 3767.7071 - val_acc: 0.0000e+00\n",
      "Epoch 2/100\n",
      "20000/20000 [==============================] - 0s 13us/step - loss: 2846.3724 - acc: 0.0000e+00 - val_loss: 3671.4235 - val_acc: 0.0000e+00\n",
      "Epoch 3/100\n",
      "20000/20000 [==============================] - 0s 13us/step - loss: 2799.3918 - acc: 0.0000e+00 - val_loss: 3397.4646 - val_acc: 0.0000e+00\n",
      "Epoch 4/100\n",
      "20000/20000 [==============================] - 0s 13us/step - loss: 2735.2125 - acc: 0.0000e+00 - val_loss: 3127.0493 - val_acc: 0.0000e+00\n",
      "Epoch 5/100\n",
      "20000/20000 [==============================] - 0s 13us/step - loss: 2652.4132 - acc: 0.0000e+00 - val_loss: 3190.9103 - val_acc: 0.0000e+00\n",
      "Epoch 6/100\n",
      "20000/20000 [==============================] - 0s 13us/step - loss: 2550.8788 - acc: 0.0000e+00 - val_loss: 3393.0552 - val_acc: 0.0000e+00\n",
      "Epoch 7/100\n",
      "20000/20000 [==============================] - 0s 13us/step - loss: 2434.4667 - acc: 0.0000e+00 - val_loss: 3735.2468 - val_acc: 0.0000e+00\n",
      "Epoch 8/100\n",
      "20000/20000 [==============================] - 0s 13us/step - loss: 2304.9005 - acc: 0.0000e+00 - val_loss: 4210.1491 - val_acc: 0.0000e+00\n",
      "Epoch 9/100\n",
      "20000/20000 [==============================] - 0s 13us/step - loss: 2162.3414 - acc: 0.0000e+00 - val_loss: 5026.3257 - val_acc: 0.0000e+00\n",
      "Epoch 10/100\n",
      "20000/20000 [==============================] - 0s 13us/step - loss: 2009.5750 - acc: 0.0000e+00 - val_loss: 5379.2145 - val_acc: 0.0000e+00\n",
      "Epoch 11/100\n",
      "20000/20000 [==============================] - 0s 14us/step - loss: 1849.7991 - acc: 0.0000e+00 - val_loss: 5651.0607 - val_acc: 0.0000e+00\n",
      "Epoch 12/100\n",
      "20000/20000 [==============================] - 0s 14us/step - loss: 1686.0388 - acc: 0.0000e+00 - val_loss: 5863.8280 - val_acc: 0.0000e+00\n",
      "Epoch 13/100\n",
      "20000/20000 [==============================] - 0s 14us/step - loss: 1520.5185 - acc: 0.0000e+00 - val_loss: 6402.1106 - val_acc: 0.0000e+00\n",
      "Epoch 14/100\n",
      "20000/20000 [==============================] - 0s 18us/step - loss: 1356.6273 - acc: 5.0000e-05 - val_loss: 6447.8375 - val_acc: 0.0000e+00\n",
      "Epoch 15/100\n",
      "20000/20000 [==============================] - 0s 16us/step - loss: 1197.7382 - acc: 1.0000e-04 - val_loss: 7285.7241 - val_acc: 0.0000e+00\n",
      "Epoch 16/100\n",
      "20000/20000 [==============================] - 0s 12us/step - loss: 1045.3031 - acc: 0.0000e+00 - val_loss: 8907.6124 - val_acc: 0.0000e+00\n",
      "Epoch 17/100\n",
      "20000/20000 [==============================] - 0s 14us/step - loss: 901.4348 - acc: 1.5000e-04 - val_loss: 9858.6308 - val_acc: 0.0000e+00\n",
      "Epoch 18/100\n",
      "20000/20000 [==============================] - 0s 13us/step - loss: 768.6450 - acc: 7.0000e-04 - val_loss: 8523.0006 - val_acc: 0.0000e+00\n",
      "Epoch 19/100\n",
      "20000/20000 [==============================] - 0s 14us/step - loss: 648.7744 - acc: 9.5000e-04 - val_loss: 10271.6812 - val_acc: 0.0000e+00\n",
      "Epoch 20/100\n",
      "20000/20000 [==============================] - 0s 14us/step - loss: 542.4198 - acc: 0.0023 - val_loss: 9381.4206 - val_acc: 0.0000e+00\n",
      "Epoch 21/100\n",
      "20000/20000 [==============================] - 0s 14us/step - loss: 451.0304 - acc: 0.0060 - val_loss: 16081.1621 - val_acc: 0.0000e+00\n",
      "Epoch 22/100\n",
      "20000/20000 [==============================] - 0s 13us/step - loss: 370.8903 - acc: 0.0097 - val_loss: 20406.7594 - val_acc: 0.0000e+00\n",
      "Epoch 23/100\n",
      "20000/20000 [==============================] - 0s 14us/step - loss: 304.2110 - acc: 0.0124 - val_loss: 20734.8297 - val_acc: 0.0000e+00\n",
      "Epoch 24/100\n",
      "20000/20000 [==============================] - 0s 15us/step - loss: 250.3891 - acc: 0.0177 - val_loss: 16716.3106 - val_acc: 0.0000e+00\n",
      "Epoch 25/100\n",
      "20000/20000 [==============================] - 0s 19us/step - loss: 206.3014 - acc: 0.0236 - val_loss: 14299.7039 - val_acc: 0.0000e+00\n",
      "Epoch 26/100\n",
      "20000/20000 [==============================] - 0s 18us/step - loss: 173.1442 - acc: 0.0267 - val_loss: 11876.7335 - val_acc: 0.0000e+00\n",
      "Epoch 27/100\n",
      "20000/20000 [==============================] - 0s 18us/step - loss: 147.6463 - acc: 0.0316 - val_loss: 12873.0810 - val_acc: 0.0000e+00\n",
      "Epoch 28/100\n",
      "20000/20000 [==============================] - 0s 14us/step - loss: 128.1657 - acc: 0.0325 - val_loss: 11709.6346 - val_acc: 0.0000e+00\n",
      "Epoch 29/100\n",
      "20000/20000 [==============================] - 0s 15us/step - loss: 113.6199 - acc: 0.0366 - val_loss: 10176.3462 - val_acc: 0.0000e+00\n",
      "Epoch 30/100\n",
      "20000/20000 [==============================] - 0s 15us/step - loss: 104.0013 - acc: 0.0366 - val_loss: 8266.4298 - val_acc: 0.0000e+00\n",
      "Epoch 31/100\n",
      "20000/20000 [==============================] - 0s 13us/step - loss: 97.1747 - acc: 0.0414 - val_loss: 6019.1056 - val_acc: 0.0000e+00\n",
      "Epoch 32/100\n",
      "20000/20000 [==============================] - 0s 14us/step - loss: 92.8617 - acc: 0.0410 - val_loss: 5329.8929 - val_acc: 0.0000e+00\n",
      "Epoch 33/100\n",
      "20000/20000 [==============================] - 0s 13us/step - loss: 89.1756 - acc: 0.0425 - val_loss: 5749.7915 - val_acc: 0.0000e+00\n",
      "Epoch 34/100\n",
      "20000/20000 [==============================] - 0s 15us/step - loss: 86.9231 - acc: 0.0419 - val_loss: 4242.8560 - val_acc: 0.0000e+00\n",
      "Epoch 35/100\n",
      "20000/20000 [==============================] - 0s 13us/step - loss: 85.8242 - acc: 0.0454 - val_loss: 3728.0133 - val_acc: 0.0000e+00\n",
      "Epoch 36/100\n",
      "20000/20000 [==============================] - 0s 15us/step - loss: 85.2722 - acc: 0.0439 - val_loss: 3678.4822 - val_acc: 0.0000e+00\n",
      "Epoch 37/100\n",
      "20000/20000 [==============================] - 0s 13us/step - loss: 84.2500 - acc: 0.0464 - val_loss: 2883.8218 - val_acc: 0.0000e+00\n",
      "Epoch 38/100\n",
      "20000/20000 [==============================] - ETA: 0s - loss: 83.3255 - acc: 0.04 - 0s 17us/step - loss: 83.5753 - acc: 0.0428 - val_loss: 2638.4113 - val_acc: 4.0000e-04\n",
      "Epoch 39/100\n",
      "20000/20000 [==============================] - 0s 17us/step - loss: 84.1769 - acc: 0.0432 - val_loss: 5187.8984 - val_acc: 0.0000e+00\n",
      "Epoch 40/100\n",
      "20000/20000 [==============================] - 0s 14us/step - loss: 83.2995 - acc: 0.0431 - val_loss: 5245.4042 - val_acc: 0.0000e+00\n",
      "Epoch 41/100\n",
      "20000/20000 [==============================] - 0s 14us/step - loss: 83.5923 - acc: 0.0424 - val_loss: 4246.3572 - val_acc: 0.0000e+00\n",
      "Epoch 42/100\n",
      "20000/20000 [==============================] - 0s 13us/step - loss: 83.0708 - acc: 0.0436 - val_loss: 4209.7747 - val_acc: 0.0000e+00\n",
      "Epoch 43/100\n",
      "20000/20000 [==============================] - 0s 13us/step - loss: 83.1826 - acc: 0.0453 - val_loss: 3582.0512 - val_acc: 0.0000e+00\n",
      "Epoch 44/100\n",
      "20000/20000 [==============================] - 0s 14us/step - loss: 83.2179 - acc: 0.0432 - val_loss: 3680.4196 - val_acc: 0.0000e+00\n",
      "Epoch 45/100\n",
      "20000/20000 [==============================] - 0s 12us/step - loss: 82.7305 - acc: 0.0453 - val_loss: 3336.1318 - val_acc: 0.0000e+00\n",
      "Epoch 46/100\n",
      "20000/20000 [==============================] - 0s 13us/step - loss: 83.3080 - acc: 0.0438 - val_loss: 3020.8904 - val_acc: 0.0000e+00\n",
      "Epoch 47/100\n",
      "20000/20000 [==============================] - 0s 13us/step - loss: 82.7414 - acc: 0.0406 - val_loss: 2820.5094 - val_acc: 5.0000e-04\n",
      "Epoch 48/100\n",
      "20000/20000 [==============================] - 0s 14us/step - loss: 82.6752 - acc: 0.0426 - val_loss: 2186.0839 - val_acc: 8.0000e-04\n",
      "Epoch 49/100\n",
      "20000/20000 [==============================] - 0s 14us/step - loss: 82.6403 - acc: 0.0436 - val_loss: 2064.3516 - val_acc: 8.0000e-04\n",
      "Epoch 50/100\n",
      "20000/20000 [==============================] - 0s 14us/step - loss: 82.5589 - acc: 0.0443 - val_loss: 1415.8238 - val_acc: 0.0041\n",
      "Epoch 51/100\n",
      "20000/20000 [==============================] - 0s 13us/step - loss: 82.4972 - acc: 0.0418 - val_loss: 1077.5339 - val_acc: 0.0056\n",
      "Epoch 52/100\n",
      "20000/20000 [==============================] - 0s 15us/step - loss: 82.5328 - acc: 0.0416 - val_loss: 1159.2370 - val_acc: 0.0038\n",
      "Epoch 53/100\n",
      "20000/20000 [==============================] - 0s 13us/step - loss: 82.8157 - acc: 0.0421 - val_loss: 970.1354 - val_acc: 0.0041\n",
      "Epoch 54/100\n",
      "20000/20000 [==============================] - 0s 13us/step - loss: 82.3333 - acc: 0.0450 - val_loss: 700.8911 - val_acc: 0.0092\n",
      "Epoch 55/100\n",
      "20000/20000 [==============================] - 0s 15us/step - loss: 82.3732 - acc: 0.0424 - val_loss: 736.2039 - val_acc: 0.0067\n",
      "Epoch 56/100\n",
      "20000/20000 [==============================] - 0s 12us/step - loss: 82.6124 - acc: 0.0453 - val_loss: 609.9587 - val_acc: 0.0102\n",
      "Epoch 57/100\n",
      "20000/20000 [==============================] - 0s 13us/step - loss: 82.7302 - acc: 0.0439 - val_loss: 550.4584 - val_acc: 0.0100\n",
      "Epoch 58/100\n",
      "20000/20000 [==============================] - 0s 12us/step - loss: 82.0182 - acc: 0.0440 - val_loss: 590.7437 - val_acc: 0.0095\n",
      "Epoch 59/100\n",
      "20000/20000 [==============================] - 0s 13us/step - loss: 82.1578 - acc: 0.0444 - val_loss: 465.7520 - val_acc: 0.0131\n",
      "Epoch 60/100\n",
      "20000/20000 [==============================] - 0s 13us/step - loss: 82.3376 - acc: 0.0434 - val_loss: 512.6166 - val_acc: 0.0075\n",
      "Epoch 61/100\n",
      "20000/20000 [==============================] - 0s 14us/step - loss: 82.4201 - acc: 0.0420 - val_loss: 419.0249 - val_acc: 0.0123\n",
      "Epoch 62/100\n",
      "20000/20000 [==============================] - 0s 13us/step - loss: 82.3704 - acc: 0.0443 - val_loss: 505.7252 - val_acc: 0.0085\n",
      "Epoch 63/100\n",
      "20000/20000 [==============================] - 0s 14us/step - loss: 82.0817 - acc: 0.0417 - val_loss: 449.1263 - val_acc: 0.0134\n",
      "Epoch 64/100\n",
      "20000/20000 [==============================] - 0s 14us/step - loss: 82.0320 - acc: 0.0436 - val_loss: 413.1185 - val_acc: 0.0133\n",
      "Epoch 65/100\n",
      "20000/20000 [==============================] - 0s 13us/step - loss: 81.8166 - acc: 0.0429 - val_loss: 425.9712 - val_acc: 0.0120\n",
      "Epoch 66/100\n",
      "20000/20000 [==============================] - 0s 14us/step - loss: 82.0781 - acc: 0.0430 - val_loss: 497.1688 - val_acc: 0.0129\n",
      "Epoch 67/100\n",
      "20000/20000 [==============================] - 0s 12us/step - loss: 82.2658 - acc: 0.0438 - val_loss: 440.2176 - val_acc: 0.0151\n",
      "Epoch 68/100\n",
      "20000/20000 [==============================] - 0s 13us/step - loss: 81.7701 - acc: 0.0441 - val_loss: 375.0240 - val_acc: 0.0143\n",
      "Epoch 69/100\n",
      "20000/20000 [==============================] - 0s 12us/step - loss: 81.9396 - acc: 0.0451 - val_loss: 401.3407 - val_acc: 0.0145\n",
      "Epoch 70/100\n",
      "20000/20000 [==============================] - 0s 13us/step - loss: 81.9795 - acc: 0.0443 - val_loss: 369.4481 - val_acc: 0.0174\n",
      "Epoch 71/100\n",
      "20000/20000 [==============================] - 0s 12us/step - loss: 82.0756 - acc: 0.0426 - val_loss: 477.7569 - val_acc: 0.0115\n",
      "Epoch 72/100\n",
      "20000/20000 [==============================] - 0s 12us/step - loss: 81.9920 - acc: 0.0430 - val_loss: 459.7649 - val_acc: 0.0107\n",
      "Epoch 73/100\n",
      "20000/20000 [==============================] - 0s 13us/step - loss: 81.9585 - acc: 0.0435 - val_loss: 442.6208 - val_acc: 0.0114\n",
      "Epoch 74/100\n",
      "20000/20000 [==============================] - 0s 12us/step - loss: 81.8251 - acc: 0.0444 - val_loss: 382.5971 - val_acc: 0.0139\n",
      "Epoch 75/100\n",
      "20000/20000 [==============================] - 0s 13us/step - loss: 81.7570 - acc: 0.0424 - val_loss: 396.9189 - val_acc: 0.0122\n",
      "Epoch 76/100\n",
      "20000/20000 [==============================] - 0s 13us/step - loss: 82.1918 - acc: 0.0437 - val_loss: 324.2220 - val_acc: 0.0178\n",
      "Epoch 77/100\n",
      "20000/20000 [==============================] - 0s 13us/step - loss: 82.2333 - acc: 0.0424 - val_loss: 372.9508 - val_acc: 0.0143\n",
      "Epoch 78/100\n",
      "20000/20000 [==============================] - 0s 12us/step - loss: 81.9417 - acc: 0.0439 - val_loss: 413.0878 - val_acc: 0.0116\n",
      "Epoch 79/100\n",
      "20000/20000 [==============================] - 0s 14us/step - loss: 82.0686 - acc: 0.0426 - val_loss: 363.1566 - val_acc: 0.0137\n",
      "Epoch 80/100\n",
      "20000/20000 [==============================] - 0s 13us/step - loss: 82.2790 - acc: 0.0436 - val_loss: 404.3450 - val_acc: 0.0133\n",
      "Epoch 81/100\n",
      "20000/20000 [==============================] - 0s 15us/step - loss: 81.5689 - acc: 0.0438 - val_loss: 371.2127 - val_acc: 0.0141\n",
      "Epoch 82/100\n",
      "20000/20000 [==============================] - 0s 14us/step - loss: 81.8873 - acc: 0.0420 - val_loss: 369.3175 - val_acc: 0.0145\n",
      "Epoch 83/100\n",
      "20000/20000 [==============================] - 0s 13us/step - loss: 82.0284 - acc: 0.0449 - val_loss: 427.0228 - val_acc: 0.0141\n",
      "Epoch 84/100\n",
      "20000/20000 [==============================] - 0s 15us/step - loss: 81.7771 - acc: 0.0418 - val_loss: 425.9604 - val_acc: 0.0125\n",
      "Epoch 85/100\n",
      "20000/20000 [==============================] - 0s 14us/step - loss: 81.9044 - acc: 0.0451 - val_loss: 461.6445 - val_acc: 0.0118\n",
      "Epoch 86/100\n",
      "20000/20000 [==============================] - 0s 13us/step - loss: 82.2702 - acc: 0.0411 - val_loss: 480.4768 - val_acc: 0.0118\n",
      "Epoch 87/100\n",
      "20000/20000 [==============================] - 0s 14us/step - loss: 81.7888 - acc: 0.0406 - val_loss: 518.5025 - val_acc: 0.0109\n",
      "Epoch 88/100\n",
      "20000/20000 [==============================] - 0s 13us/step - loss: 81.8975 - acc: 0.0421 - val_loss: 453.8763 - val_acc: 0.0160\n",
      "Epoch 89/100\n",
      "20000/20000 [==============================] - 0s 13us/step - loss: 81.9549 - acc: 0.0442 - val_loss: 465.0469 - val_acc: 0.0126\n",
      "Epoch 90/100\n",
      "20000/20000 [==============================] - 0s 13us/step - loss: 81.7049 - acc: 0.0454 - val_loss: 475.6572 - val_acc: 0.0124\n",
      "Epoch 91/100\n",
      "20000/20000 [==============================] - 0s 13us/step - loss: 82.1619 - acc: 0.0438 - val_loss: 529.2823 - val_acc: 0.0080\n",
      "Epoch 92/100\n",
      "20000/20000 [==============================] - 0s 15us/step - loss: 82.2075 - acc: 0.0436 - val_loss: 516.8000 - val_acc: 0.0110\n",
      "Epoch 93/100\n",
      "20000/20000 [==============================] - 0s 13us/step - loss: 81.6339 - acc: 0.0436 - val_loss: 478.4645 - val_acc: 0.0116\n",
      "Epoch 94/100\n",
      "20000/20000 [==============================] - 0s 14us/step - loss: 82.3110 - acc: 0.0435 - val_loss: 458.0170 - val_acc: 0.0122\n",
      "Epoch 95/100\n",
      "20000/20000 [==============================] - 0s 13us/step - loss: 81.4891 - acc: 0.0410 - val_loss: 478.7501 - val_acc: 0.0111\n",
      "Epoch 96/100\n",
      "20000/20000 [==============================] - 0s 13us/step - loss: 81.6835 - acc: 0.0439 - val_loss: 427.4158 - val_acc: 0.0131\n",
      "Epoch 97/100\n",
      "20000/20000 [==============================] - 0s 14us/step - loss: 81.4094 - acc: 0.0442 - val_loss: 345.7575 - val_acc: 0.0157\n",
      "Epoch 98/100\n",
      "20000/20000 [==============================] - 0s 13us/step - loss: 81.7649 - acc: 0.0414 - val_loss: 338.8711 - val_acc: 0.0180\n",
      "Epoch 99/100\n",
      "20000/20000 [==============================] - 0s 13us/step - loss: 81.3800 - acc: 0.0456 - val_loss: 391.7999 - val_acc: 0.0161\n",
      "Epoch 100/100\n",
      "20000/20000 [==============================] - 0s 14us/step - loss: 81.4764 - acc: 0.0441 - val_loss: 306.5391 - val_acc: 0.0218\n"
     ]
    }
   ],
   "source": [
    "history = model.fit(x_train, y_train,\n",
    "    batch_size=batch_size, validation_data = (x_val, y_val),\n",
    "    epochs=epochs,\n",
    "    shuffle=True,\n",
    "    verbose=1)"
   ]
  },
  {
   "cell_type": "code",
   "execution_count": 268,
   "metadata": {},
   "outputs": [
    {
     "data": {
      "text/plain": [
       "dict_keys(['val_loss', 'val_acc', 'loss', 'acc'])"
      ]
     },
     "execution_count": 268,
     "metadata": {},
     "output_type": "execute_result"
    }
   ],
   "source": [
    "history_dict = history.history\n",
    "history_dict.keys()"
   ]
  },
  {
   "cell_type": "code",
   "execution_count": 1,
   "metadata": {},
   "outputs": [
    {
     "ename": "NameError",
     "evalue": "name 'history' is not defined",
     "output_type": "error",
     "traceback": [
      "\u001b[0;31m---------------------------------------------------------------------------\u001b[0m",
      "\u001b[0;31mNameError\u001b[0m                                 Traceback (most recent call last)",
      "\u001b[0;32m<ipython-input-1-5596bea30103>\u001b[0m in \u001b[0;36m<module>\u001b[0;34m\u001b[0m\n\u001b[0;32m----> 1\u001b[0;31m \u001b[0macc\u001b[0m \u001b[0;34m=\u001b[0m \u001b[0mhistory\u001b[0m\u001b[0;34m.\u001b[0m\u001b[0mhistory\u001b[0m\u001b[0;34m[\u001b[0m\u001b[0;34m'accuracy'\u001b[0m\u001b[0;34m]\u001b[0m\u001b[0;34m\u001b[0m\u001b[0;34m\u001b[0m\u001b[0m\n\u001b[0m\u001b[1;32m      2\u001b[0m \u001b[0mval_acc\u001b[0m \u001b[0;34m=\u001b[0m \u001b[0mhistory\u001b[0m\u001b[0;34m.\u001b[0m\u001b[0mhistory\u001b[0m\u001b[0;34m[\u001b[0m\u001b[0;34m'val_acc'\u001b[0m\u001b[0;34m]\u001b[0m\u001b[0;34m\u001b[0m\u001b[0;34m\u001b[0m\u001b[0m\n\u001b[1;32m      3\u001b[0m \u001b[0mloss\u001b[0m \u001b[0;34m=\u001b[0m \u001b[0mhistory\u001b[0m\u001b[0;34m.\u001b[0m\u001b[0mhistory\u001b[0m\u001b[0;34m[\u001b[0m\u001b[0;34m'loss'\u001b[0m\u001b[0;34m]\u001b[0m\u001b[0;34m\u001b[0m\u001b[0;34m\u001b[0m\u001b[0m\n\u001b[1;32m      4\u001b[0m \u001b[0mval_loss\u001b[0m \u001b[0;34m=\u001b[0m \u001b[0mhistory\u001b[0m\u001b[0;34m.\u001b[0m\u001b[0mhistory\u001b[0m\u001b[0;34m[\u001b[0m\u001b[0;34m'val_loss'\u001b[0m\u001b[0;34m]\u001b[0m\u001b[0;34m\u001b[0m\u001b[0;34m\u001b[0m\u001b[0m\n\u001b[1;32m      5\u001b[0m \u001b[0;34m\u001b[0m\u001b[0m\n",
      "\u001b[0;31mNameError\u001b[0m: name 'history' is not defined"
     ]
    }
   ],
   "source": [
    "acc = history.history['accuracy']\n",
    "val_acc = history.history['val_acc']\n",
    "loss = history.history['loss']\n",
    "val_loss = history.history['val_loss']\n",
    "\n",
    "epochs = range(1, len(acc) + 1)\n",
    "\n",
    "# ‘bo’는 파란색 점을 의미합니다\n",
    "plt.plot(epochs, loss, 'bo', label='Training loss')\n",
    "# ‘b’는 파란색 실선을 의미합니다\n",
    "plt.plot(epochs, val_loss, 'b', label='Validation loss')\n",
    "plt.title('Training and validation loss')\n",
    "plt.xlabel('Epochs')\n",
    "plt.ylabel('Loss')\n",
    "plt.legend()\n",
    "\n",
    "plt.show()"
   ]
  },
  {
   "cell_type": "code",
   "execution_count": 273,
   "metadata": {},
   "outputs": [
    {
     "name": "stdout",
     "output_type": "stream",
     "text": [
      "[[36.915672]\n",
      " [39.961338]\n",
      " [36.88675 ]\n",
      " ...\n",
      " [54.80735 ]\n",
      " [54.887054]\n",
      " [54.72767 ]]\n"
     ]
    }
   ],
   "source": [
    "train_result = model.predict(x_test)\n",
    "print(train_result)"
   ]
  },
  {
   "cell_type": "code",
   "execution_count": null,
   "metadata": {
    "collapsed": true
   },
   "outputs": [],
   "source": []
  }
 ],
 "metadata": {
  "kernelspec": {
   "display_name": "Python 3",
   "language": "python",
   "name": "python3"
  },
  "language_info": {
   "codemirror_mode": {
    "name": "ipython",
    "version": 3
   },
   "file_extension": ".py",
   "mimetype": "text/x-python",
   "name": "python",
   "nbconvert_exporter": "python",
   "pygments_lexer": "ipython3",
   "version": "3.7.3"
  }
 },
 "nbformat": 4,
 "nbformat_minor": 2
}
