{
 "cells": [
  {
   "cell_type": "code",
   "execution_count": 19,
   "metadata": {},
   "outputs": [],
   "source": [
    "import os\n",
    "import numpy as np\n",
    "import cv2\n",
    "import matplotlib.pyplot as plt\n",
    "\n",
    "from tqdm import tqdm\n",
    "from keras.layers import Input\n",
    "from keras.models import Model, Sequential\n",
    "from keras.layers.core import Dense, Dropout\n",
    "from keras.layers.advanced_activations import LeakyReLU\n",
    "from keras.optimizers import Adam\n",
    "from keras import initializers"
   ]
  },
  {
   "cell_type": "code",
   "execution_count": 20,
   "metadata": {
    "collapsed": true
   },
   "outputs": [],
   "source": [
    "random_dim = 100"
   ]
  },
  {
   "cell_type": "code",
   "execution_count": 21,
   "metadata": {
    "collapsed": true
   },
   "outputs": [],
   "source": [
    "train_image = []"
   ]
  },
  {
   "cell_type": "code",
   "execution_count": 22,
   "metadata": {
    "collapsed": true
   },
   "outputs": [],
   "source": [
    "train_dir = '/Users/joannakang/Desktop/카카오_GAN/kakao_12_images'"
   ]
  },
  {
   "cell_type": "code",
   "execution_count": 23,
   "metadata": {
    "collapsed": true
   },
   "outputs": [],
   "source": [
    "img_list = os.listdir(train_dir)"
   ]
  },
  {
   "cell_type": "code",
   "execution_count": 24,
   "metadata": {},
   "outputs": [
    {
     "name": "stdout",
     "output_type": "stream",
     "text": [
      "['8.jpg', '9.jpg', '12.jpg', '11.jpg', '10.jpg', '4.jpg', '5.jpg', '7.jpg', '6.jpg', '2.jpg', '3.jpg', '1.jpg']\n"
     ]
    }
   ],
   "source": [
    "print(img_list)"
   ]
  },
  {
   "cell_type": "code",
   "execution_count": 25,
   "metadata": {
    "collapsed": true
   },
   "outputs": [],
   "source": [
    "for i in img_list:\n",
    "    img = os.path.join(train_dir, i)\n",
    "    img = cv2.imread(img, cv2.IMREAD_GRAYSCALE)\n",
    "    img = cv2.resize(img, (28, 28), interpolation = cv2.INTER_CUBIC)\n",
    "    img = img.reshape((28, 28, 1))\n",
    "    img = np.array(img)\n",
    "    train_image.append(img)"
   ]
  },
  {
   "cell_type": "code",
   "execution_count": 26,
   "metadata": {},
   "outputs": [
    {
     "data": {
      "text/plain": [
       "12"
      ]
     },
     "execution_count": 26,
     "metadata": {},
     "output_type": "execute_result"
    }
   ],
   "source": [
    "len(train_image)"
   ]
  },
  {
   "cell_type": "code",
   "execution_count": 27,
   "metadata": {
    "collapsed": true
   },
   "outputs": [],
   "source": [
    "# cv2.IMREAD_COLOR\n",
    "# cv2.IMREAD_GRAYSCALE"
   ]
  },
  {
   "cell_type": "code",
   "execution_count": 28,
   "metadata": {
    "collapsed": true
   },
   "outputs": [],
   "source": [
    "a = train_image[1].reshape(28, 28)"
   ]
  },
  {
   "cell_type": "code",
   "execution_count": 29,
   "metadata": {},
   "outputs": [
    {
     "data": {
      "text/plain": [
       "<matplotlib.image.AxesImage at 0x18270d2dd8>"
      ]
     },
     "execution_count": 29,
     "metadata": {},
     "output_type": "execute_result"
    }
   ],
   "source": [
    "plt.imshow(a)"
   ]
  },
  {
   "cell_type": "code",
   "execution_count": 30,
   "metadata": {
    "collapsed": true
   },
   "outputs": [],
   "source": [
    "train_image = np.array(train_image)"
   ]
  },
  {
   "cell_type": "code",
   "execution_count": 31,
   "metadata": {},
   "outputs": [
    {
     "data": {
      "text/plain": [
       "(12, 28, 28, 1)"
      ]
     },
     "execution_count": 31,
     "metadata": {},
     "output_type": "execute_result"
    }
   ],
   "source": [
    "train_image.shape"
   ]
  },
  {
   "cell_type": "code",
   "execution_count": 32,
   "metadata": {
    "collapsed": true
   },
   "outputs": [],
   "source": [
    "def load_data():\n",
    "      # 데이터를 -1 ~ 1 사이 값으로 normalize 합니다.\n",
    "    x_train = (train_image.astype(np.float32) - 127.5)/127.5\n",
    "\n",
    "    # x_train 의 shape 를 (60000, 28, 28) 에서 (60000, 784) 로 바꿉니다.\n",
    "    # 따라서 우리는 한 row 당 784 columns 을 가지게 됩니다.\n",
    "    x_train = x_train.reshape(train_image.shape[0], 784)\n",
    "    return x_train"
   ]
  },
  {
   "cell_type": "code",
   "execution_count": 33,
   "metadata": {
    "collapsed": true
   },
   "outputs": [],
   "source": [
    "# Adam Optimizer를 사용합니다.\n",
    "def get_optimizer():\n",
    "    return Adam(lr=0.0002, beta_1=0.5)\n",
    "\n",
    "# Generator 만들기\n",
    "def get_generator(optimizer):\n",
    "    generator = Sequential()\n",
    "    generator.add(Dense(256, input_dim=random_dim, kernel_initializer=initializers.RandomNormal(stddev=0.02)))\n",
    "    generator.add(LeakyReLU(0.2))\n",
    "\n",
    "    generator.add(Dense(512))\n",
    "    generator.add(LeakyReLU(0.2))\n",
    "\n",
    "    generator.add(Dense(1024))\n",
    "    generator.add(LeakyReLU(0.2))\n",
    "\n",
    "    generator.add(Dense(784, activation='tanh'))\n",
    "    generator.compile(loss='binary_crossentropy', optimizer=optimizer)\n",
    "    return generator\n",
    "\n",
    "# Discriminator 만들기\n",
    "def get_discriminator(optimizer):\n",
    "    discriminator = Sequential()\n",
    "    discriminator.add(Dense(1024, input_dim=784, kernel_initializer=initializers.RandomNormal(stddev=0.02)))\n",
    "    discriminator.add(LeakyReLU(0.2))\n",
    "    discriminator.add(Dropout(0.3))\n",
    "\n",
    "    discriminator.add(Dense(512))\n",
    "    discriminator.add(LeakyReLU(0.2))\n",
    "    discriminator.add(Dropout(0.3))\n",
    "\n",
    "    discriminator.add(Dense(256))\n",
    "    discriminator.add(LeakyReLU(0.2))\n",
    "    discriminator.add(Dropout(0.3))\n",
    "\n",
    "    discriminator.add(Dense(1, activation='sigmoid'))\n",
    "    discriminator.compile(loss='binary_crossentropy', optimizer=optimizer)\n",
    "    return discriminator"
   ]
  },
  {
   "cell_type": "code",
   "execution_count": 34,
   "metadata": {
    "collapsed": true
   },
   "outputs": [],
   "source": [
    "def get_gan_network(discriminator, random_dim, generator, optimizer):\n",
    "    # 우리는 Generator와 Discriminator를 동시에 학습시키고 싶을 때 trainable을 False로 설정합니다.\n",
    "    discriminator.trainable = False\n",
    "\n",
    "    # GAN 입력 (노이즈)은 위에서 100 차원으로 설정했습니다.\n",
    "    gan_input = Input(shape=(random_dim,))\n",
    "\n",
    "    # Generator의 결과는 이미지 입니다.\n",
    "    x = generator(gan_input)\n",
    "\n",
    "    # Discriminator의 결과는 이미지가 진짜인지 가짜인지에 대한 확률입니다.\n",
    "    gan_output = discriminator(x)\n",
    "\n",
    "    gan = Model(inputs=gan_input, outputs=gan_output)\n",
    "    gan.compile(loss='binary_crossentropy', optimizer=optimizer)\n",
    "    return gan"
   ]
  },
  {
   "cell_type": "code",
   "execution_count": 35,
   "metadata": {
    "collapsed": true
   },
   "outputs": [],
   "source": [
    "def plot_generated_images(epoch, generator, examples= train_image.shape[0], dim=(10, 10), figsize=(10, 10)):\n",
    "    noise = np.random.normal(0, 1, size=[examples, random_dim])\n",
    "    generated_images = generator.predict(noise)\n",
    "    generated_images = generated_images.reshape(examples, 28, 28)\n",
    "\n",
    "    plt.figure(figsize=figsize)\n",
    "    for i in range(generated_images.shape[0]):\n",
    "        plt.subplot(dim[0], dim[1], i+1)\n",
    "        plt.imshow(generated_images[i], interpolation='nearest', cmap='gray_r')\n",
    "        plt.axis('off')\n",
    "    plt.tight_layout()\n",
    "    plt.savefig('gan_generated_image_epoch_%d.png' % epoch)"
   ]
  },
  {
   "cell_type": "code",
   "execution_count": 36,
   "metadata": {},
   "outputs": [
    {
     "name": "stderr",
     "output_type": "stream",
     "text": [
      "\r",
      "0it [00:00, ?it/s]"
     ]
    },
    {
     "name": "stdout",
     "output_type": "stream",
     "text": [
      "--------------- Epoch 1 ---------------\n"
     ]
    },
    {
     "name": "stderr",
     "output_type": "stream",
     "text": [
      "\n",
      "0it [00:00, ?it/s]\n",
      "0it [00:00, ?it/s]\n",
      "0it [00:00, ?it/s]\n",
      "0it [00:00, ?it/s]\n",
      "0it [00:00, ?it/s]\n",
      "0it [00:00, ?it/s]\n",
      "0it [00:00, ?it/s]\n",
      "0it [00:00, ?it/s]\n",
      "0it [00:00, ?it/s]\n",
      "0it [00:00, ?it/s]\n",
      "0it [00:00, ?it/s]\n",
      "0it [00:00, ?it/s]\n",
      "0it [00:00, ?it/s]\n",
      "0it [00:00, ?it/s]\n",
      "0it [00:00, ?it/s]\n",
      "0it [00:00, ?it/s]\n",
      "0it [00:00, ?it/s]\n",
      "0it [00:00, ?it/s]\n",
      "0it [00:00, ?it/s]"
     ]
    },
    {
     "name": "stdout",
     "output_type": "stream",
     "text": [
      "--------------- Epoch 2 ---------------\n",
      "--------------- Epoch 3 ---------------\n",
      "--------------- Epoch 4 ---------------\n",
      "--------------- Epoch 5 ---------------\n",
      "--------------- Epoch 6 ---------------\n",
      "--------------- Epoch 7 ---------------\n",
      "--------------- Epoch 8 ---------------\n",
      "--------------- Epoch 9 ---------------\n",
      "--------------- Epoch 10 ---------------\n",
      "--------------- Epoch 11 ---------------\n",
      "--------------- Epoch 12 ---------------\n",
      "--------------- Epoch 13 ---------------\n",
      "--------------- Epoch 14 ---------------\n",
      "--------------- Epoch 15 ---------------\n",
      "--------------- Epoch 16 ---------------\n",
      "--------------- Epoch 17 ---------------\n",
      "--------------- Epoch 18 ---------------\n",
      "--------------- Epoch 19 ---------------\n",
      "--------------- Epoch 20 ---------------\n"
     ]
    },
    {
     "name": "stderr",
     "output_type": "stream",
     "text": [
      "\n",
      "0it [00:00, ?it/s]\n",
      "0it [00:00, ?it/s]\n",
      "0it [00:00, ?it/s]\n",
      "0it [00:00, ?it/s]\n",
      "0it [00:00, ?it/s]\n",
      "0it [00:00, ?it/s]\n",
      "0it [00:00, ?it/s]\n",
      "0it [00:00, ?it/s]\n",
      "0it [00:00, ?it/s]\n",
      "0it [00:00, ?it/s]\n",
      "0it [00:00, ?it/s]\n",
      "0it [00:00, ?it/s]\n",
      "0it [00:00, ?it/s]\n",
      "0it [00:00, ?it/s]\n",
      "0it [00:00, ?it/s]\n",
      "0it [00:00, ?it/s]\n",
      "0it [00:00, ?it/s]\n",
      "0it [00:00, ?it/s]\n",
      "0it [00:00, ?it/s]\n",
      "0it [00:00, ?it/s]"
     ]
    },
    {
     "name": "stdout",
     "output_type": "stream",
     "text": [
      "--------------- Epoch 21 ---------------\n",
      "--------------- Epoch 22 ---------------\n",
      "--------------- Epoch 23 ---------------\n",
      "--------------- Epoch 24 ---------------\n",
      "--------------- Epoch 25 ---------------\n",
      "--------------- Epoch 26 ---------------\n",
      "--------------- Epoch 27 ---------------\n",
      "--------------- Epoch 28 ---------------\n",
      "--------------- Epoch 29 ---------------\n",
      "--------------- Epoch 30 ---------------\n",
      "--------------- Epoch 31 ---------------\n",
      "--------------- Epoch 32 ---------------\n",
      "--------------- Epoch 33 ---------------\n",
      "--------------- Epoch 34 ---------------\n",
      "--------------- Epoch 35 ---------------\n",
      "--------------- Epoch 36 ---------------\n",
      "--------------- Epoch 37 ---------------\n",
      "--------------- Epoch 38 ---------------\n",
      "--------------- Epoch 39 ---------------\n",
      "--------------- Epoch 40 ---------------\n"
     ]
    },
    {
     "name": "stderr",
     "output_type": "stream",
     "text": [
      "\n",
      "0it [00:00, ?it/s]\n",
      "0it [00:00, ?it/s]\n",
      "0it [00:00, ?it/s]\n",
      "0it [00:00, ?it/s]\n",
      "0it [00:00, ?it/s]\n",
      "0it [00:00, ?it/s]\n",
      "0it [00:00, ?it/s]\n",
      "0it [00:00, ?it/s]\n",
      "0it [00:00, ?it/s]\n",
      "0it [00:00, ?it/s]\n",
      "0it [00:00, ?it/s]\n",
      "0it [00:00, ?it/s]\n",
      "0it [00:00, ?it/s]\n",
      "0it [00:00, ?it/s]\n",
      "0it [00:00, ?it/s]\n",
      "0it [00:00, ?it/s]\n",
      "0it [00:00, ?it/s]\n",
      "0it [00:00, ?it/s]\n",
      "0it [00:00, ?it/s]\n",
      "0it [00:00, ?it/s]"
     ]
    },
    {
     "name": "stdout",
     "output_type": "stream",
     "text": [
      "--------------- Epoch 41 ---------------\n",
      "--------------- Epoch 42 ---------------\n",
      "--------------- Epoch 43 ---------------\n",
      "--------------- Epoch 44 ---------------\n",
      "--------------- Epoch 45 ---------------\n",
      "--------------- Epoch 46 ---------------\n",
      "--------------- Epoch 47 ---------------\n",
      "--------------- Epoch 48 ---------------\n",
      "--------------- Epoch 49 ---------------\n",
      "--------------- Epoch 50 ---------------\n",
      "--------------- Epoch 51 ---------------\n",
      "--------------- Epoch 52 ---------------\n",
      "--------------- Epoch 53 ---------------\n",
      "--------------- Epoch 54 ---------------\n",
      "--------------- Epoch 55 ---------------\n",
      "--------------- Epoch 56 ---------------\n",
      "--------------- Epoch 57 ---------------\n",
      "--------------- Epoch 58 ---------------\n",
      "--------------- Epoch 59 ---------------\n",
      "--------------- Epoch 60 ---------------\n"
     ]
    },
    {
     "name": "stderr",
     "output_type": "stream",
     "text": [
      "\n",
      "0it [00:00, ?it/s]\n",
      "0it [00:00, ?it/s]\n",
      "0it [00:00, ?it/s]\n",
      "0it [00:00, ?it/s]\n",
      "0it [00:00, ?it/s]\n",
      "0it [00:00, ?it/s]\n",
      "0it [00:00, ?it/s]\n",
      "0it [00:00, ?it/s]\n",
      "0it [00:00, ?it/s]\n",
      "0it [00:00, ?it/s]\n",
      "0it [00:00, ?it/s]\n",
      "0it [00:00, ?it/s]\n",
      "0it [00:00, ?it/s]\n",
      "0it [00:00, ?it/s]\n",
      "0it [00:00, ?it/s]\n",
      "0it [00:00, ?it/s]\n",
      "0it [00:00, ?it/s]\n",
      "0it [00:00, ?it/s]\n",
      "0it [00:00, ?it/s]\n",
      "0it [00:00, ?it/s]"
     ]
    },
    {
     "name": "stdout",
     "output_type": "stream",
     "text": [
      "--------------- Epoch 61 ---------------\n",
      "--------------- Epoch 62 ---------------\n",
      "--------------- Epoch 63 ---------------\n",
      "--------------- Epoch 64 ---------------\n",
      "--------------- Epoch 65 ---------------\n",
      "--------------- Epoch 66 ---------------\n",
      "--------------- Epoch 67 ---------------\n",
      "--------------- Epoch 68 ---------------\n",
      "--------------- Epoch 69 ---------------\n",
      "--------------- Epoch 70 ---------------\n",
      "--------------- Epoch 71 ---------------\n",
      "--------------- Epoch 72 ---------------\n",
      "--------------- Epoch 73 ---------------\n",
      "--------------- Epoch 74 ---------------\n",
      "--------------- Epoch 75 ---------------\n",
      "--------------- Epoch 76 ---------------\n",
      "--------------- Epoch 77 ---------------\n",
      "--------------- Epoch 78 ---------------\n",
      "--------------- Epoch 79 ---------------\n",
      "--------------- Epoch 80 ---------------\n"
     ]
    },
    {
     "name": "stderr",
     "output_type": "stream",
     "text": [
      "\n",
      "0it [00:00, ?it/s]\n",
      "0it [00:00, ?it/s]\n",
      "0it [00:00, ?it/s]\n",
      "0it [00:00, ?it/s]\n",
      "0it [00:00, ?it/s]\n",
      "0it [00:00, ?it/s]\n",
      "0it [00:00, ?it/s]\n",
      "0it [00:00, ?it/s]\n",
      "0it [00:00, ?it/s]\n",
      "0it [00:00, ?it/s]\n",
      "0it [00:00, ?it/s]\n",
      "0it [00:00, ?it/s]\n",
      "0it [00:00, ?it/s]\n",
      "0it [00:00, ?it/s]\n",
      "0it [00:00, ?it/s]\n",
      "0it [00:00, ?it/s]\n",
      "0it [00:00, ?it/s]\n",
      "0it [00:00, ?it/s]\n",
      "0it [00:00, ?it/s]\n",
      "0it [00:00, ?it/s]"
     ]
    },
    {
     "name": "stdout",
     "output_type": "stream",
     "text": [
      "--------------- Epoch 81 ---------------\n",
      "--------------- Epoch 82 ---------------\n",
      "--------------- Epoch 83 ---------------\n",
      "--------------- Epoch 84 ---------------\n",
      "--------------- Epoch 85 ---------------\n",
      "--------------- Epoch 86 ---------------\n",
      "--------------- Epoch 87 ---------------\n",
      "--------------- Epoch 88 ---------------\n",
      "--------------- Epoch 89 ---------------\n",
      "--------------- Epoch 90 ---------------\n",
      "--------------- Epoch 91 ---------------\n",
      "--------------- Epoch 92 ---------------\n",
      "--------------- Epoch 93 ---------------\n",
      "--------------- Epoch 94 ---------------\n",
      "--------------- Epoch 95 ---------------\n",
      "--------------- Epoch 96 ---------------\n",
      "--------------- Epoch 97 ---------------\n",
      "--------------- Epoch 98 ---------------\n",
      "--------------- Epoch 99 ---------------\n",
      "--------------- Epoch 100 ---------------\n"
     ]
    },
    {
     "name": "stderr",
     "output_type": "stream",
     "text": [
      "\n"
     ]
    }
   ],
   "source": [
    "def train(epochs=1, batch_size=6):\n",
    "    # train 데이터와 test 데이터를 가져옵니다.\n",
    "    x_train = load_data()\n",
    "\n",
    "    # train 데이터를 128 사이즈의 batch 로 나눕니다.\n",
    "    batch_count = x_train.shape[0] // batch_size\n",
    "\n",
    "    # 우리의 GAN 네트워크를 만듭니다.\n",
    "    adam = get_optimizer()\n",
    "    generator = get_generator(adam)\n",
    "    discriminator = get_discriminator(adam)\n",
    "    gan = get_gan_network(discriminator, random_dim, generator, adam)\n",
    "\n",
    "    for e in range(1, epochs+1):\n",
    "        print('-'*15, 'Epoch %d' % e, '-'*15)\n",
    "        for _ in tqdm(range(batch_count)):\n",
    "            # 입력으로 사용할 random 노이즈와 이미지를 가져옵니다.\n",
    "            noise = np.random.normal(0, 1, size=[batch_size, random_dim])\n",
    "\n",
    "            image_batch = x_train[np.random.randint(0, x_train.shape[0], size=batch_size)]\n",
    "\n",
    "            # 이미지를 생성\n",
    "            generated_images = generator.predict(noise)\n",
    "            X = np.concatenate([image_batch, generated_images])\n",
    "\n",
    "            y_dis = np.zeros(2*batch_size)\n",
    "            y_dis[:batch_size] = 0.9\n",
    "\n",
    "            # Discriminator를 학습\n",
    "            discriminator.trainable = True\n",
    "            discriminator.train_on_batch(X, y_dis)\n",
    "\n",
    "            # Generator를 학습\n",
    "            noise = np.random.normal(0, 1, size=[batch_size, random_dim])\n",
    "            y_gen = np.ones(batch_size)\n",
    "            discriminator.trainable = False\n",
    "            gan.train_on_batch(noise, y_gen)\n",
    "\n",
    "        if e == 1 or e % 20 == 0:\n",
    "            plot_generated_images(e, generator)\n",
    "\n",
    "if __name__ == '__main__':\n",
    "    train(100, 128)"
   ]
  },
  {
   "cell_type": "code",
   "execution_count": null,
   "metadata": {
    "collapsed": true
   },
   "outputs": [],
   "source": []
  }
 ],
 "metadata": {
  "kernelspec": {
   "display_name": "Python 3",
   "language": "python",
   "name": "python3"
  },
  "language_info": {
   "codemirror_mode": {
    "name": "ipython",
    "version": 3
   },
   "file_extension": ".py",
   "mimetype": "text/x-python",
   "name": "python",
   "nbconvert_exporter": "python",
   "pygments_lexer": "ipython3",
   "version": "3.6.3"
  }
 },
 "nbformat": 4,
 "nbformat_minor": 2
}
