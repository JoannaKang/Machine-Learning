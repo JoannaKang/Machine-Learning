{
 "cells": [
  {
   "cell_type": "code",
   "execution_count": 1,
   "metadata": {},
   "outputs": [
    {
     "name": "stderr",
     "output_type": "stream",
     "text": [
      "C:\\Users\\wsh10\\Anaconda3\\lib\\site-packages\\h5py\\__init__.py:36: FutureWarning: Conversion of the second argument of issubdtype from `float` to `np.floating` is deprecated. In future, it will be treated as `np.float64 == np.dtype(float).type`.\n",
      "  from ._conv import register_converters as _register_converters\n"
     ]
    },
    {
     "name": "stdout",
     "output_type": "stream",
     "text": [
      "WARNING:tensorflow:From <ipython-input-1-66290f51940d>:7: read_data_sets (from tensorflow.contrib.learn.python.learn.datasets.mnist) is deprecated and will be removed in a future version.\n",
      "Instructions for updating:\n",
      "Please use alternatives such as official/mnist/dataset.py from tensorflow/models.\n",
      "WARNING:tensorflow:From C:\\Users\\wsh10\\Anaconda3\\lib\\site-packages\\tensorflow\\contrib\\learn\\python\\learn\\datasets\\mnist.py:260: maybe_download (from tensorflow.contrib.learn.python.learn.datasets.base) is deprecated and will be removed in a future version.\n",
      "Instructions for updating:\n",
      "Please write your own downloading logic.\n",
      "WARNING:tensorflow:From C:\\Users\\wsh10\\Anaconda3\\lib\\site-packages\\tensorflow\\contrib\\learn\\python\\learn\\datasets\\mnist.py:262: extract_images (from tensorflow.contrib.learn.python.learn.datasets.mnist) is deprecated and will be removed in a future version.\n",
      "Instructions for updating:\n",
      "Please use tf.data to implement this functionality.\n",
      "Extracting ./mnist/data/train-images-idx3-ubyte.gz\n",
      "WARNING:tensorflow:From C:\\Users\\wsh10\\Anaconda3\\lib\\site-packages\\tensorflow\\contrib\\learn\\python\\learn\\datasets\\mnist.py:267: extract_labels (from tensorflow.contrib.learn.python.learn.datasets.mnist) is deprecated and will be removed in a future version.\n",
      "Instructions for updating:\n",
      "Please use tf.data to implement this functionality.\n",
      "Extracting ./mnist/data/train-labels-idx1-ubyte.gz\n",
      "WARNING:tensorflow:From C:\\Users\\wsh10\\Anaconda3\\lib\\site-packages\\tensorflow\\contrib\\learn\\python\\learn\\datasets\\mnist.py:110: dense_to_one_hot (from tensorflow.contrib.learn.python.learn.datasets.mnist) is deprecated and will be removed in a future version.\n",
      "Instructions for updating:\n",
      "Please use tf.one_hot on tensors.\n",
      "Extracting ./mnist/data/t10k-images-idx3-ubyte.gz\n",
      "Extracting ./mnist/data/t10k-labels-idx1-ubyte.gz\n",
      "WARNING:tensorflow:From C:\\Users\\wsh10\\Anaconda3\\lib\\site-packages\\tensorflow\\contrib\\learn\\python\\learn\\datasets\\mnist.py:290: DataSet.__init__ (from tensorflow.contrib.learn.python.learn.datasets.mnist) is deprecated and will be removed in a future version.\n",
      "Instructions for updating:\n",
      "Please use alternatives such as official/mnist/dataset.py from tensorflow/models.\n"
     ]
    }
   ],
   "source": [
    "import tensorflow as tf\n",
    "import matplotlib.pyplot as plt\n",
    "import numpy as np\n",
    "%matplotlib inline\n",
    "\n",
    "from tensorflow.examples.tutorials.mnist import input_data\n",
    "mnist = input_data.read_data_sets(\"./mnist/data/\", one_hot=True)"
   ]
  },
  {
   "cell_type": "code",
   "execution_count": 2,
   "metadata": {},
   "outputs": [
    {
     "name": "stdout",
     "output_type": "stream",
     "text": [
      "(1, 784)\n"
     ]
    },
    {
     "data": {
      "text/plain": [
       "<matplotlib.image.AxesImage at 0x15f004531d0>"
      ]
     },
     "execution_count": 2,
     "metadata": {},
     "output_type": "execute_result"
    },
    {
     "data": {
      "image/png": "[encoded data removed]",
      "text/plain": [
       "<Figure size 432x288 with 1 Axes>"
      ]
     },
     "metadata": {},
     "output_type": "display_data"
    }
   ],
   "source": [
    "sample_image = mnist.train.next_batch(1)[0]\n",
    "print(sample_image.shape)\n",
    "\n",
    "sample_image = sample_image.reshape([28, 28])\n",
    "plt.imshow(sample_image, cmap = 'Greys')"
   ]
  },
  {
   "cell_type": "code",
   "execution_count": 2,
   "metadata": {},
   "outputs": [],
   "source": [
    "total_epoch = 100\n",
    "batch_size = 100\n",
    "learning_rate = 0.0002\n",
    "\n",
    "# 신경망 레이어 구성 옵션\n",
    "n_hidden = 256\n",
    "n_input = 28 * 28\n",
    "n_noise = 128  # 생성기의 입력값으로 사용할 노이즈의 크기"
   ]
  },
  {
   "cell_type": "code",
   "execution_count": 3,
   "metadata": {},
   "outputs": [],
   "source": [
    "X = tf.placeholder(tf.float32, [None, n_input])\n",
    "Z = tf.placeholder(tf.float32, [None, n_noise])"
   ]
  },
  {
   "cell_type": "code",
   "execution_count": 4,
   "metadata": {},
   "outputs": [],
   "source": [
    "G_W1 = tf.Variable(tf.random_normal([n_noise, n_hidden], stddev=0.01))\n",
    "G_b1 = tf.Variable(tf.zeros([n_hidden]))\n",
    "G_W2 = tf.Variable(tf.random_normal([n_hidden, n_input], stddev=0.01))\n",
    "G_b2 = tf.Variable(tf.zeros([n_input]))"
   ]
  },
  {
   "cell_type": "code",
   "execution_count": 5,
   "metadata": {},
   "outputs": [],
   "source": [
    "D_W1 = tf.Variable(tf.random_normal([n_input, n_hidden], stddev=0.01))\n",
    "D_b1 = tf.Variable(tf.zeros([n_hidden]))"
   ]
  },
  {
   "cell_type": "code",
   "execution_count": 6,
   "metadata": {},
   "outputs": [],
   "source": [
    "D_W2 = tf.Variable(tf.random_normal([n_hidden, 1], stddev=0.01))\n",
    "D_b2 = tf.Variable(tf.zeros([1]))"
   ]
  },
  {
   "cell_type": "code",
   "execution_count": 7,
   "metadata": {},
   "outputs": [],
   "source": [
    "def generator(noise_z):\n",
    "    hidden = tf.nn.relu(tf.matmul(noise_z, G_W1) + G_b1)\n",
    "    output = tf.nn.sigmoid(tf.matmul(hidden, G_W2) + G_b2)\n",
    "    return output"
   ]
  },
  {
   "cell_type": "code",
   "execution_count": 8,
   "metadata": {},
   "outputs": [],
   "source": [
    "def discriminator(inputs):\n",
    "    hidden = tf.nn.relu(tf.matmul(inputs, D_W1) + D_b1)\n",
    "    output = tf.nn.sigmoid(tf.matmul(hidden, D_W2) + D_b2)\n",
    "    return output"
   ]
  },
  {
   "cell_type": "code",
   "execution_count": 9,
   "metadata": {},
   "outputs": [],
   "source": [
    "def get_noise(batch_size, n_noise):\n",
    "    return np.random.normal(size=(batch_size, n_noise))"
   ]
  },
  {
   "cell_type": "code",
   "execution_count": 10,
   "metadata": {},
   "outputs": [],
   "source": [
    "G = generator(Z)\n",
    "D_gene = discriminator(G)\n",
    "D_real = discriminator(X)"
   ]
  },
  {
   "cell_type": "code",
   "execution_count": 11,
   "metadata": {},
   "outputs": [
    {
     "name": "stdout",
     "output_type": "stream",
     "text": [
      "Epoch: 0000 D loss: -0.5076 G loss: -2.063\n",
      "Epoch: 0001 D loss: -0.3537 G loss: -2.484\n",
      "Epoch: 0002 D loss: -0.1224 G loss: -3.22\n",
      "Epoch: 0003 D loss: -0.4972 G loss: -1.673\n",
      "Epoch: 0004 D loss: -0.6647 G loss: -1.478\n",
      "Epoch: 0005 D loss: -0.3287 G loss: -2.107\n",
      "Epoch: 0006 D loss: -0.2757 G loss: -2.357\n",
      "Epoch: 0007 D loss: -0.2777 G loss: -2.401\n",
      "Epoch: 0008 D loss: -0.3871 G loss: -2.443\n",
      "Epoch: 0009 D loss: -0.5407 G loss: -2.028\n",
      "Epoch: 0010 D loss: -0.3328 G loss: -2.243\n",
      "Epoch: 0011 D loss: -0.3645 G loss: -2.208\n",
      "Epoch: 0012 D loss: -0.4361 G loss: -2.01\n",
      "Epoch: 0013 D loss: -0.2922 G loss: -2.633\n",
      "Epoch: 0014 D loss: -0.4605 G loss: -2.249\n",
      "Epoch: 0015 D loss: -0.5031 G loss: -1.974\n",
      "Epoch: 0016 D loss: -0.457 G loss: -2.08\n",
      "Epoch: 0017 D loss: -0.4484 G loss: -2.09\n",
      "Epoch: 0018 D loss: -0.3683 G loss: -2.334\n",
      "Epoch: 0019 D loss: -0.5894 G loss: -2.22\n",
      "Epoch: 0020 D loss: -0.4846 G loss: -2.105\n",
      "Epoch: 0021 D loss: -0.5588 G loss: -2.316\n",
      "Epoch: 0022 D loss: -0.471 G loss: -2.495\n",
      "Epoch: 0023 D loss: -0.4599 G loss: -2.287\n",
      "Epoch: 0024 D loss: -0.5209 G loss: -2.256\n",
      "Epoch: 0025 D loss: -0.4581 G loss: -2.786\n",
      "Epoch: 0026 D loss: -0.3618 G loss: -2.709\n",
      "Epoch: 0027 D loss: -0.4896 G loss: -2.321\n",
      "Epoch: 0028 D loss: -0.6318 G loss: -2.404\n",
      "Epoch: 0029 D loss: -0.4914 G loss: -2.256\n",
      "Epoch: 0030 D loss: -0.506 G loss: -2.403\n",
      "Epoch: 0031 D loss: -0.5381 G loss: -2.26\n",
      "Epoch: 0032 D loss: -0.5515 G loss: -2.337\n",
      "Epoch: 0033 D loss: -0.4503 G loss: -2.559\n",
      "Epoch: 0034 D loss: -0.4117 G loss: -2.467\n",
      "Epoch: 0035 D loss: -0.4588 G loss: -2.291\n",
      "Epoch: 0036 D loss: -0.503 G loss: -2.273\n",
      "Epoch: 0037 D loss: -0.3854 G loss: -2.485\n",
      "Epoch: 0038 D loss: -0.4623 G loss: -2.51\n",
      "Epoch: 0039 D loss: -0.7806 G loss: -2.001\n",
      "Epoch: 0040 D loss: -0.6075 G loss: -2.386\n",
      "Epoch: 0041 D loss: -0.5893 G loss: -2.405\n",
      "Epoch: 0042 D loss: -0.6223 G loss: -2.404\n",
      "Epoch: 0043 D loss: -0.4518 G loss: -2.455\n",
      "Epoch: 0044 D loss: -0.4325 G loss: -2.48\n",
      "Epoch: 0045 D loss: -0.6041 G loss: -2.137\n",
      "Epoch: 0046 D loss: -0.7402 G loss: -2.024\n",
      "Epoch: 0047 D loss: -0.5225 G loss: -2.35\n",
      "Epoch: 0048 D loss: -0.501 G loss: -2.211\n",
      "Epoch: 0049 D loss: -0.6422 G loss: -2.064\n",
      "Epoch: 0050 D loss: -0.6003 G loss: -2.099\n",
      "Epoch: 0051 D loss: -0.7464 G loss: -2.112\n",
      "Epoch: 0052 D loss: -0.6323 G loss: -1.942\n",
      "Epoch: 0053 D loss: -0.6038 G loss: -2.315\n",
      "Epoch: 0054 D loss: -0.5955 G loss: -1.956\n",
      "Epoch: 0055 D loss: -0.6798 G loss: -2.057\n",
      "Epoch: 0056 D loss: -0.7126 G loss: -1.907\n",
      "Epoch: 0057 D loss: -0.5926 G loss: -2.215\n",
      "Epoch: 0058 D loss: -0.7073 G loss: -2.279\n",
      "Epoch: 0059 D loss: -0.8423 G loss: -1.929\n",
      "Epoch: 0060 D loss: -0.5478 G loss: -2.274\n",
      "Epoch: 0061 D loss: -0.5683 G loss: -2.132\n",
      "Epoch: 0062 D loss: -0.8181 G loss: -2.234\n",
      "Epoch: 0063 D loss: -0.7604 G loss: -2.076\n",
      "Epoch: 0064 D loss: -0.7535 G loss: -1.805\n",
      "Epoch: 0065 D loss: -0.6949 G loss: -2.004\n",
      "Epoch: 0066 D loss: -0.648 G loss: -1.917\n",
      "Epoch: 0067 D loss: -0.6455 G loss: -2.015\n",
      "Epoch: 0068 D loss: -0.7385 G loss: -1.982\n",
      "Epoch: 0069 D loss: -0.7201 G loss: -1.987\n",
      "Epoch: 0070 D loss: -0.6804 G loss: -2.097\n",
      "Epoch: 0071 D loss: -0.5389 G loss: -2.24\n",
      "Epoch: 0072 D loss: -0.7368 G loss: -2.049\n",
      "Epoch: 0073 D loss: -0.7319 G loss: -1.788\n",
      "Epoch: 0074 D loss: -0.758 G loss: -1.784\n",
      "Epoch: 0075 D loss: -0.7316 G loss: -1.952\n",
      "Epoch: 0076 D loss: -0.7301 G loss: -2.01\n",
      "Epoch: 0077 D loss: -0.6224 G loss: -2.365\n",
      "Epoch: 0078 D loss: -0.723 G loss: -1.894\n",
      "Epoch: 0079 D loss: -0.7411 G loss: -1.829\n",
      "Epoch: 0080 D loss: -0.5949 G loss: -1.962\n",
      "Epoch: 0081 D loss: -0.712 G loss: -2.014\n",
      "Epoch: 0082 D loss: -0.6422 G loss: -2.027\n",
      "Epoch: 0083 D loss: -0.6659 G loss: -2.009\n",
      "Epoch: 0084 D loss: -0.6235 G loss: -2.121\n",
      "Epoch: 0085 D loss: -0.6538 G loss: -2.057\n",
      "Epoch: 0086 D loss: -0.6433 G loss: -2.085\n",
      "Epoch: 0087 D loss: -0.7418 G loss: -2.205\n",
      "Epoch: 0088 D loss: -0.6616 G loss: -1.962\n",
      "Epoch: 0089 D loss: -0.6535 G loss: -1.882\n",
      "Epoch: 0090 D loss: -0.6503 G loss: -2.068\n",
      "Epoch: 0091 D loss: -0.7212 G loss: -2.079\n",
      "Epoch: 0092 D loss: -0.5964 G loss: -2.131\n",
      "Epoch: 0093 D loss: -0.534 G loss: -2.404\n",
      "Epoch: 0094 D loss: -0.5433 G loss: -2.185\n",
      "Epoch: 0095 D loss: -0.5839 G loss: -2.204\n",
      "Epoch: 0096 D loss: -0.5727 G loss: -1.999\n",
      "Epoch: 0097 D loss: -0.6186 G loss: -2.044\n",
      "Epoch: 0098 D loss: -0.6339 G loss: -2.001\n",
      "Epoch: 0099 D loss: -0.6725 G loss: -2.079\n"
     ]
    }
   ],
   "source": [
    "loss_D = tf.reduce_mean(tf.log(D_real) + tf.log(1 - D_gene))\n",
    "loss_G = tf.reduce_mean(tf.log(D_gene))\n",
    "\n",
    "D_var_list = [D_W1, D_b1, D_W2, D_b2]\n",
    "G_var_list = [G_W1, G_b1, G_W2, G_b2]\n",
    "\n",
    "train_D = tf.train.AdamOptimizer(learning_rate).minimize(-loss_D, var_list=D_var_list)\n",
    "train_G = tf.train.AdamOptimizer(learning_rate).minimize(-loss_G, var_list=G_var_list)\n",
    "\n",
    "sess = tf.Session()\n",
    "sess.run(tf.global_variables_initializer())\n",
    "\n",
    "total_batch = int(mnist.train.num_examples/batch_size)\n",
    "loss_val_D, loss_val_G = 0, 0\n",
    "\n",
    "for epoch in range(total_epoch):\n",
    "    for i in range(total_batch):\n",
    "        batch_xs, batch_ys = mnist.train.next_batch(batch_size)\n",
    "        noise = get_noise(batch_size, n_noise)\n",
    "        _, loss_val_D = sess.run([train_D, loss_D], feed_dict={X: batch_xs, Z: noise})\n",
    "        _, loss_val_G = sess.run([train_G, loss_G], feed_dict={Z: noise})\n",
    "\n",
    "\n",
    "    print('Epoch:', '%04d' % epoch,'D loss: {:.4}'.format(loss_val_D),'G loss: {:.4}'.format(loss_val_G))\n",
    "\n",
    "    if epoch == 0 or (epoch + 1) % 10 == 0:\n",
    "        sample_size = 10\n",
    "        noise = get_noise(sample_size, n_noise)\n",
    "        samples = sess.run(G, feed_dict={Z: noise})\n",
    "        fig, ax = plt.subplots(1, sample_size, figsize=(sample_size, 1))\n",
    "\n",
    "        for i in range(sample_size):\n",
    "            ax[i].set_axis_off()\n",
    "            ax[i].imshow(np.reshape(samples[i], (28, 28)))\n",
    "\n",
    "        plt.savefig('C:\\\\image\\\\test\\\\{}.png'.format(str(epoch).zfill(3)), bbox_inches='tight')\n",
    "        plt.close(fig)"
   ]
  },
  {
   "cell_type": "markdown",
   "metadata": {},
   "source": []
  },
  {
   "cell_type": "code",
   "execution_count": null,
   "metadata": {},
   "outputs": [],
   "source": []
  },
  {
   "cell_type": "code",
   "execution_count": null,
   "metadata": {},
   "outputs": [],
   "source": []
  },
  {
   "cell_type": "code",
   "execution_count": null,
   "metadata": {},
   "outputs": [],
   "source": []
  }
 ],
 "metadata": {
  "kernelspec": {
   "display_name": "Python 3",
   "language": "python",
   "name": "python3"
  },
  "language_info": {
   "codemirror_mode": {
    "name": "ipython",
    "version": 3
   },
   "file_extension": ".py",
   "mimetype": "text/x-python",
   "name": "python",
   "nbconvert_exporter": "python",
   "pygments_lexer": "ipython3",
   "version": "3.6.5"
  }
 },
 "nbformat": 4,
 "nbformat_minor": 2
}
