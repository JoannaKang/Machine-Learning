{
 "cells": [
  {
   "cell_type": "code",
   "execution_count": 8,
   "metadata": {},
   "outputs": [
    {
     "name": "stderr",
     "output_type": "stream",
     "text": [
      "/anaconda3/lib/python3.6/site-packages/h5py/__init__.py:34: FutureWarning: Conversion of the second argument of issubdtype from `float` to `np.floating` is deprecated. In future, it will be treated as `np.float64 == np.dtype(float).type`.\n",
      "  from ._conv import register_converters as _register_converters\n",
      "Using TensorFlow backend.\n",
      "/anaconda3/lib/python3.6/importlib/_bootstrap.py:219: RuntimeWarning: compiletime version 3.5 of module 'tensorflow.python.framework.fast_tensor_util' does not match runtime version 3.6\n",
      "  return f(*args, **kwds)\n"
     ]
    },
    {
     "data": {
      "text/plain": [
       "'2.2.4'"
      ]
     },
     "execution_count": 8,
     "metadata": {},
     "output_type": "execute_result"
    }
   ],
   "source": [
    "import numpy as np\n",
    "import os\n",
    "import cv2\n",
    "from sklearn.preprocessing import LabelEncoder\n",
    "from sklearn.preprocessing import OneHotEncoder\n",
    "import keras\n",
    "from keras.layers import Dense, Conv2D, MaxPooling2D, Flatten\n",
    "from keras.models import Sequential\n",
    "from keras import optimizers\n",
    "import matplotlib.pyplot as plt\n",
    "%matplotlib inline\n",
    "keras.__version__"
   ]
  },
  {
   "cell_type": "code",
   "execution_count": 9,
   "metadata": {
    "collapsed": true
   },
   "outputs": [],
   "source": [
    "width = 28\n",
    "height = 28"
   ]
  },
  {
   "cell_type": "code",
   "execution_count": 10,
   "metadata": {
    "collapsed": true
   },
   "outputs": [],
   "source": [
    "train_dir = '/Users/joannakang/Downloads/Classification/train'"
   ]
  },
  {
   "cell_type": "code",
   "execution_count": 3,
   "metadata": {
    "collapsed": true
   },
   "outputs": [],
   "source": [
    "test_dir = '/Users/joannakang/Downloads/Classification/test'"
   ]
  },
  {
   "cell_type": "code",
   "execution_count": 4,
   "metadata": {},
   "outputs": [
    {
     "ename": "NameError",
     "evalue": "name 'os' is not defined",
     "output_type": "error",
     "traceback": [
      "\u001b[0;31m---------------------------------------------------------------------------\u001b[0m",
      "\u001b[0;31mNameError\u001b[0m                                 Traceback (most recent call last)",
      "\u001b[0;32m<ipython-input-4-71340d3009b9>\u001b[0m in \u001b[0;36m<module>\u001b[0;34m()\u001b[0m\n\u001b[1;32m      1\u001b[0m \u001b[0;31m#해당 디렉토리 내에 있는 모든 것을 리스트화 시킨다\u001b[0m\u001b[0;34m\u001b[0m\u001b[0;34m\u001b[0m\u001b[0m\n\u001b[0;32m----> 2\u001b[0;31m \u001b[0mclass_name\u001b[0m \u001b[0;34m=\u001b[0m \u001b[0mos\u001b[0m\u001b[0;34m.\u001b[0m\u001b[0mlistdir\u001b[0m\u001b[0;34m(\u001b[0m\u001b[0mtrain_dir\u001b[0m\u001b[0;34m)\u001b[0m\u001b[0;34m\u001b[0m\u001b[0m\n\u001b[0m\u001b[1;32m      3\u001b[0m \u001b[0mprint\u001b[0m\u001b[0;34m(\u001b[0m\u001b[0mclass_name\u001b[0m\u001b[0;34m)\u001b[0m\u001b[0;34m\u001b[0m\u001b[0m\n",
      "\u001b[0;31mNameError\u001b[0m: name 'os' is not defined"
     ]
    }
   ],
   "source": [
    "#해당 디렉토리 내에 있는 모든 것을 리스트화 시킨다\n",
    "class_name = os.listdir(train_dir)\n",
    "print(class_name)"
   ]
  },
  {
   "cell_type": "code",
   "execution_count": 5,
   "metadata": {
    "collapsed": true
   },
   "outputs": [],
   "source": [
    "#Train data를 위한 빈 리스트를 만든다\n",
    "train_input = []\n",
    "train_label = []"
   ]
  },
  {
   "cell_type": "code",
   "execution_count": 6,
   "metadata": {
    "collapsed": true
   },
   "outputs": [],
   "source": [
    "#Test data를 위한 빈 리스트를 만든다\n",
    "test_input = []\n",
    "test_label = []"
   ]
  },
  {
   "cell_type": "code",
   "execution_count": 7,
   "metadata": {},
   "outputs": [
    {
     "ename": "NameError",
     "evalue": "name 'LabelEncoder' is not defined",
     "output_type": "error",
     "traceback": [
      "\u001b[0;31m---------------------------------------------------------------------------\u001b[0m",
      "\u001b[0;31mNameError\u001b[0m                                 Traceback (most recent call last)",
      "\u001b[0;32m<ipython-input-7-3738e844e95a>\u001b[0m in \u001b[0;36m<module>\u001b[0;34m()\u001b[0m\n\u001b[1;32m      1\u001b[0m \u001b[0;31m#거리를 동일하게 만든다..?\u001b[0m\u001b[0;34m\u001b[0m\u001b[0;34m\u001b[0m\u001b[0m\n\u001b[0;32m----> 2\u001b[0;31m \u001b[0mlabel_encoder\u001b[0m \u001b[0;34m=\u001b[0m \u001b[0mLabelEncoder\u001b[0m\u001b[0;34m(\u001b[0m\u001b[0;34m)\u001b[0m\u001b[0;34m\u001b[0m\u001b[0m\n\u001b[0m\u001b[1;32m      3\u001b[0m \u001b[0minteger_encoded\u001b[0m \u001b[0;34m=\u001b[0m \u001b[0mlabel_encoder\u001b[0m\u001b[0;34m.\u001b[0m\u001b[0mfit_transform\u001b[0m\u001b[0;34m(\u001b[0m\u001b[0mclass_name\u001b[0m\u001b[0;34m)\u001b[0m\u001b[0;34m\u001b[0m\u001b[0m\n\u001b[1;32m      4\u001b[0m \u001b[0monehot_encoder\u001b[0m \u001b[0;34m=\u001b[0m \u001b[0mOneHotEncoder\u001b[0m\u001b[0;34m(\u001b[0m\u001b[0msparse\u001b[0m\u001b[0;34m=\u001b[0m\u001b[0;32mFalse\u001b[0m\u001b[0;34m)\u001b[0m\u001b[0;34m\u001b[0m\u001b[0m\n\u001b[1;32m      5\u001b[0m \u001b[0minteger_encoded\u001b[0m \u001b[0;34m=\u001b[0m \u001b[0minteger_encoded\u001b[0m\u001b[0;34m.\u001b[0m\u001b[0mreshape\u001b[0m\u001b[0;34m(\u001b[0m\u001b[0mlen\u001b[0m\u001b[0;34m(\u001b[0m\u001b[0minteger_encoded\u001b[0m\u001b[0;34m)\u001b[0m\u001b[0;34m,\u001b[0m \u001b[0;36m1\u001b[0m\u001b[0;34m)\u001b[0m\u001b[0;34m\u001b[0m\u001b[0m\n",
      "\u001b[0;31mNameError\u001b[0m: name 'LabelEncoder' is not defined"
     ]
    }
   ],
   "source": [
    "#거리를 동일하게 만든다..?\n",
    "label_encoder = LabelEncoder()\n",
    "integer_encoded = label_encoder.fit_transform(class_name)\n",
    "onehot_encoder = OneHotEncoder(sparse=False)\n",
    "integer_encoded = integer_encoded.reshape(len(integer_encoded), 1)\n",
    "onehot_encoded = onehot_encoder.fit_transform(integer_encoded)\n",
    "\n",
    "print(onehot_encoded)"
   ]
  },
  {
   "cell_type": "code",
   "execution_count": 9,
   "metadata": {
    "collapsed": true
   },
   "outputs": [],
   "source": [
    "#class리스트 갯수만큼 for문을 반복한다\n",
    "for i in range(len(class_name)):\n",
    "    #train data 파일 경로 지정, 불러오기\n",
    "    path = os.path.join(train_dir, class_name[i])\n",
    "    #서브디렉토리리스트\n",
    "    img_list = os.listdir(path)\n",
    "    for j in img_list:\n",
    "        #이미지 경로를 결합한다 (여기까지는 string, 상대경로를 절대경로로 변환한다)\n",
    "        img = os.path.join(path, j)\n",
    "        #이미지를 불러온다(image type으로 바뀜)\n",
    "        img = cv2.imread(img, cv2.IMREAD_GRAYSCALE)\n",
    "        #resize = 그림의 크기를 바꾸고 싶은 사이즈로 바꾼다\n",
    "        img = cv2.resize(img, (width, height), interpolation = cv2.INTER_CUBIC)\n",
    "        #reshape = 이미지의 형태를 바꾼다? (픽셀의 갯수?)\n",
    "        img = img.reshape((width, height, 1))\n",
    "        #빈 리스트에 img를 넣는다\n",
    "        train_input.append(img)\n",
    "        train_label.append(onehot_encoded[i])"
   ]
  },
  {
   "cell_type": "code",
   "execution_count": 39,
   "metadata": {},
   "outputs": [
    {
     "data": {
      "text/plain": [
       "[0, 1, 2, 3, 4, 5, 6, 7, 8, 9]"
      ]
     },
     "execution_count": 39,
     "metadata": {},
     "output_type": "execute_result"
    }
   ],
   "source": [
    "list(range(10))"
   ]
  },
  {
   "cell_type": "code",
   "execution_count": 33,
   "metadata": {
    "collapsed": true
   },
   "outputs": [],
   "source": [
    "a = 3\n",
    "b = 5"
   ]
  },
  {
   "cell_type": "code",
   "execution_count": 34,
   "metadata": {
    "collapsed": true
   },
   "outputs": [],
   "source": [
    "#함수의 기본 형태\n",
    "def sum(a,b):\n",
    "    c = a + b\n",
    "    print(c)"
   ]
  },
  {
   "cell_type": "code",
   "execution_count": 37,
   "metadata": {},
   "outputs": [
    {
     "name": "stdout",
     "output_type": "stream",
     "text": [
      "11\n"
     ]
    }
   ],
   "source": [
    "sum(5,6)\n",
    "#함수 또는 반복문 안에서 정의된 변수들은 모두 다 지역변수"
   ]
  },
  {
   "cell_type": "code",
   "execution_count": 10,
   "metadata": {
    "collapsed": true
   },
   "outputs": [],
   "source": [
    "for i in range(len(class_name)):\n",
    "    #test data 파일 경로 지정, 불러오기\n",
    "    path = os.path.join(test_dir, class_name[i])\n",
    "    img_list = os.listdir(path)\n",
    "    for j in img_list:\n",
    "        img = os.path.join(path, j)\n",
    "        img = cv2.imread(img, cv2.IMREAD_GRAYSCALE)\n",
    "        img = cv2.resize(img, (width, height), interpolation = cv2.INTER_CUBIC)\n",
    "        img = img.reshape((width, height, 1))\n",
    "        test_input.append(img)\n",
    "        test_label.append(onehot_encoded[i])"
   ]
  },
  {
   "cell_type": "code",
   "execution_count": 43,
   "metadata": {},
   "outputs": [
    {
     "name": "stdout",
     "output_type": "stream",
     "text": [
      "['beckham41.jpeg', 'beckham16.jpeg', 'beckham6.jpeg', 'beckham36.jpeg', 'beckham20.jpeg', 'beckham21.jpeg', 'beckham37.jpeg', 'beckham17.jpeg', 'beckham7.jpeg', 'beckham48.jpg', 'beckham30.jpeg', 'beckham26.jpeg', 'beckham49.jpg', 'beckham10.jpeg', 'beckham1.jpeg', 'beckham11.jpeg', 'beckham27.jpeg', 'beckham31.jpeg', 'beckham24.jpeg', 'beckham32.jpeg', 'beckham40.jpg', 'beckham12.jpeg', 'beckham2.jpeg', 'beckham42.jpg', 'beckham45.jpeg', 'beckham28.jpeg', 'beckham43.jpg', 'beckham47.jpg', 'beckham29.jpeg', 'beckham46.jpg', 'beckham44.jpeg', 'beckham13.jpeg', 'beckham3.jpeg', 'beckham33.jpeg', 'beckham50.jpg', 'beckham25.jpeg', 'beckham4.jpeg', 'beckham14.jpeg', 'beckham38.jpeg', 'beckham18.jpeg', 'beckham8.jpeg', 'beckham35.jpg', 'beckham22.jpeg', 'beckham34.jpeg', 'beckham23.jpeg', 'beckham19.jpeg', 'beckham9.jpeg', 'beckham39.jpeg', 'beckham5.jpeg', 'beckham15.jpeg']\n"
     ]
    }
   ],
   "source": [
    "path = os.path.join(train_dir, class_name[0])\n",
    "img_list = os.listdir(path)\n",
    "print (img_list)"
   ]
  },
  {
   "cell_type": "code",
   "execution_count": 11,
   "metadata": {},
   "outputs": [
    {
     "name": "stdout",
     "output_type": "stream",
     "text": [
      "150\n",
      "150\n",
      "3\n",
      "3\n"
     ]
    }
   ],
   "source": [
    "print(len((train_input)))\n",
    "print(len(train_label))\n",
    "print(len((test_input)))\n",
    "print(len((test_label)))"
   ]
  },
  {
   "cell_type": "code",
   "execution_count": 12,
   "metadata": {},
   "outputs": [
    {
     "name": "stdout",
     "output_type": "stream",
     "text": [
      "(150, 28, 28, 1)\n",
      "(3, 28, 28, 1)\n"
     ]
    }
   ],
   "source": [
    "#np.array = 행렬 만들기 -> 모델에 학습시킬 수 있는 형태로 바꿔야함\n",
    "train_input = np.array(train_input)\n",
    "train_label = np.array(train_label)\n",
    "test_input = np.array(test_input)\n",
    "test_label = np.array(test_label)\n",
    "print(train_input.shape)\n",
    "print(test_input.shape)"
   ]
  },
  {
   "cell_type": "code",
   "execution_count": 13,
   "metadata": {
    "collapsed": true
   },
   "outputs": [],
   "source": [
    "a = train_input[1].reshape(28, 28)"
   ]
  },
  {
   "cell_type": "code",
   "execution_count": 14,
   "metadata": {},
   "outputs": [
    {
     "data": {
      "text/plain": [
       "<matplotlib.image.AxesImage at 0x1a1bb74320>"
      ]
     },
     "execution_count": 14,
     "metadata": {},
     "output_type": "execute_result"
    },
    {
     "data": {
      "image/png": "[encoded data removed]",
      "text/plain": [
       "<matplotlib.figure.Figure at 0x1a1b15b400>"
      ]
     },
     "metadata": {},
     "output_type": "display_data"
    }
   ],
   "source": [
    "#이미지 파일(train_input)을 받아와서 출력\n",
    "plt.imshow(a, cmap = 'Greys')"
   ]
  },
  {
   "cell_type": "code",
   "execution_count": 15,
   "metadata": {},
   "outputs": [
    {
     "name": "stdout",
     "output_type": "stream",
     "text": [
      "(150, 28, 28, 1)\n",
      "(150, 3)\n"
     ]
    }
   ],
   "source": [
    "print(train_input.shape)\n",
    "print(train_label.shape)"
   ]
  },
  {
   "cell_type": "code",
   "execution_count": 16,
   "metadata": {
    "collapsed": true
   },
   "outputs": [],
   "source": [
    "model = Sequential()\n",
    "\n",
    "model.add(Conv2D(32, (3, 3), activation = 'relu', input_shape = (width, height, train_input.shape[3])))\n",
    "model.add(MaxPooling2D((2, 2)))\n",
    "model.add(Conv2D(32, (3, 3), activation = 'relu'))\n",
    "model.add(MaxPooling2D((2, 2)))\n",
    "model.add(Conv2D(32, (3, 3), activation = 'relu'))\n",
    "model.add(MaxPooling2D((2, 2)))\n",
    "\n",
    "model.add(Flatten())\n",
    "model.add(Dense(16, activation = 'relu'))\n",
    "model.add(Dense(train_label.shape[1], activation = 'sigmoid'))"
   ]
  },
  {
   "cell_type": "code",
   "execution_count": 17,
   "metadata": {},
   "outputs": [
    {
     "name": "stdout",
     "output_type": "stream",
     "text": [
      "_________________________________________________________________\n",
      "Layer (type)                 Output Shape              Param #   \n",
      "=================================================================\n",
      "conv2d_1 (Conv2D)            (None, 26, 26, 32)        320       \n",
      "_________________________________________________________________\n",
      "max_pooling2d_1 (MaxPooling2 (None, 13, 13, 32)        0         \n",
      "_________________________________________________________________\n",
      "conv2d_2 (Conv2D)            (None, 11, 11, 32)        9248      \n",
      "_________________________________________________________________\n",
      "max_pooling2d_2 (MaxPooling2 (None, 5, 5, 32)          0         \n",
      "_________________________________________________________________\n",
      "conv2d_3 (Conv2D)            (None, 3, 3, 32)          9248      \n",
      "_________________________________________________________________\n",
      "max_pooling2d_3 (MaxPooling2 (None, 1, 1, 32)          0         \n",
      "_________________________________________________________________\n",
      "flatten_1 (Flatten)          (None, 32)                0         \n",
      "_________________________________________________________________\n",
      "dense_1 (Dense)              (None, 16)                528       \n",
      "_________________________________________________________________\n",
      "dense_2 (Dense)              (None, 3)                 51        \n",
      "=================================================================\n",
      "Total params: 19,395\n",
      "Trainable params: 19,395\n",
      "Non-trainable params: 0\n",
      "_________________________________________________________________\n"
     ]
    }
   ],
   "source": [
    "model.summary()"
   ]
  },
  {
   "cell_type": "code",
   "execution_count": 18,
   "metadata": {
    "collapsed": true
   },
   "outputs": [],
   "source": [
    "model.compile(optimizer='rmsprop',\n",
    "              loss='binary_crossentropy',\n",
    "              metrics=['accuracy'])"
   ]
  },
  {
   "cell_type": "code",
   "execution_count": 19,
   "metadata": {},
   "outputs": [
    {
     "name": "stdout",
     "output_type": "stream",
     "text": [
      "Epoch 1/100\n",
      "150/150 [==============================] - 0s 3ms/step - loss: 3.2435 - acc: 0.5844\n",
      "Epoch 2/100\n",
      "150/150 [==============================] - 0s 943us/step - loss: 1.3182 - acc: 0.6267\n",
      "Epoch 3/100\n",
      "150/150 [==============================] - 0s 913us/step - loss: 0.6495 - acc: 0.6622\n",
      "Epoch 4/100\n",
      "150/150 [==============================] - 0s 938us/step - loss: 0.5638 - acc: 0.7089\n",
      "Epoch 5/100\n",
      "150/150 [==============================] - 0s 906us/step - loss: 0.5521 - acc: 0.7378\n",
      "Epoch 6/100\n",
      "150/150 [==============================] - 0s 1ms/step - loss: 0.4972 - acc: 0.7311A: 0s - loss: 0.4383 - acc: 0.79\n",
      "Epoch 7/100\n",
      "150/150 [==============================] - 0s 895us/step - loss: 0.4141 - acc: 0.8089\n",
      "Epoch 8/100\n",
      "150/150 [==============================] - 0s 963us/step - loss: 0.3830 - acc: 0.8200\n",
      "Epoch 9/100\n",
      "150/150 [==============================] - 0s 923us/step - loss: 0.3616 - acc: 0.8244\n",
      "Epoch 10/100\n",
      "150/150 [==============================] - 0s 937us/step - loss: 0.2966 - acc: 0.8822\n",
      "Epoch 11/100\n",
      "150/150 [==============================] - 0s 972us/step - loss: 0.2408 - acc: 0.9111\n",
      "Epoch 12/100\n",
      "150/150 [==============================] - 0s 940us/step - loss: 0.1533 - acc: 0.9489\n",
      "Epoch 13/100\n",
      "150/150 [==============================] - 0s 1ms/step - loss: 0.1501 - acc: 0.9356\n",
      "Epoch 14/100\n",
      "150/150 [==============================] - 0s 921us/step - loss: 0.1506 - acc: 0.9422\n",
      "Epoch 15/100\n",
      "150/150 [==============================] - 0s 968us/step - loss: 0.1082 - acc: 0.9533\n",
      "Epoch 16/100\n",
      "150/150 [==============================] - 0s 960us/step - loss: 0.0715 - acc: 0.9733\n",
      "Epoch 17/100\n",
      "150/150 [==============================] - 0s 917us/step - loss: 0.0978 - acc: 0.9622\n",
      "Epoch 18/100\n",
      "150/150 [==============================] - 0s 1ms/step - loss: 0.0783 - acc: 0.9822\n",
      "Epoch 19/100\n",
      "150/150 [==============================] - 0s 992us/step - loss: 0.0188 - acc: 1.0000\n",
      "Epoch 20/100\n",
      "150/150 [==============================] - 0s 1ms/step - loss: 0.1002 - acc: 0.9711\n",
      "Epoch 21/100\n",
      "150/150 [==============================] - 0s 1ms/step - loss: 0.0174 - acc: 0.9978\n",
      "Epoch 22/100\n",
      "150/150 [==============================] - 0s 951us/step - loss: 0.0312 - acc: 0.9911\n",
      "Epoch 23/100\n",
      "150/150 [==============================] - 0s 971us/step - loss: 0.0377 - acc: 0.9844\n",
      "Epoch 24/100\n",
      "150/150 [==============================] - 0s 998us/step - loss: 0.0035 - acc: 1.0000\n",
      "Epoch 25/100\n",
      "150/150 [==============================] - 0s 983us/step - loss: 0.0053 - acc: 0.9978\n",
      "Epoch 26/100\n",
      "150/150 [==============================] - 0s 1ms/step - loss: 0.0886 - acc: 0.9911\n",
      "Epoch 27/100\n",
      "150/150 [==============================] - 0s 958us/step - loss: 0.0017 - acc: 1.0000\n",
      "Epoch 28/100\n",
      "150/150 [==============================] - 0s 1ms/step - loss: 5.3834e-04 - acc: 1.0000\n",
      "Epoch 29/100\n",
      "150/150 [==============================] - 0s 968us/step - loss: 0.0259 - acc: 0.9889\n",
      "Epoch 30/100\n",
      "150/150 [==============================] - 0s 1ms/step - loss: 6.7143e-04 - acc: 1.0000\n",
      "Epoch 31/100\n",
      "150/150 [==============================] - 0s 1ms/step - loss: 3.0020e-04 - acc: 1.0000\n",
      "Epoch 32/100\n",
      "150/150 [==============================] - 0s 1ms/step - loss: 0.0637 - acc: 0.9844\n",
      "Epoch 33/100\n",
      "150/150 [==============================] - 0s 2ms/step - loss: 7.3020e-04 - acc: 1.0000\n",
      "Epoch 34/100\n",
      "150/150 [==============================] - 0s 1ms/step - loss: 2.0431e-04 - acc: 1.0000\n",
      "Epoch 35/100\n",
      "150/150 [==============================] - 0s 1ms/step - loss: 6.8950e-05 - acc: 1.0000\n",
      "Epoch 36/100\n",
      "150/150 [==============================] - 0s 878us/step - loss: 0.0077 - acc: 0.9956\n",
      "Epoch 37/100\n",
      "150/150 [==============================] - 0s 896us/step - loss: 2.5593e-04 - acc: 1.0000\n",
      "Epoch 38/100\n",
      "150/150 [==============================] - 0s 1ms/step - loss: 5.5155e-05 - acc: 1.0000\n",
      "Epoch 39/100\n",
      "150/150 [==============================] - 0s 895us/step - loss: 2.5032e-05 - acc: 1.0000\n",
      "Epoch 40/100\n",
      "150/150 [==============================] - 0s 830us/step - loss: 0.0652 - acc: 0.9956\n",
      "Epoch 41/100\n",
      "150/150 [==============================] - 0s 857us/step - loss: 2.7262e-05 - acc: 1.0000\n",
      "Epoch 42/100\n",
      "150/150 [==============================] - 0s 961us/step - loss: 0.0419 - acc: 0.9889\n",
      "Epoch 43/100\n",
      "150/150 [==============================] - 0s 843us/step - loss: 0.0083 - acc: 0.9956\n",
      "Epoch 44/100\n",
      "150/150 [==============================] - 0s 849us/step - loss: 1.5249e-04 - acc: 1.0000\n",
      "Epoch 45/100\n",
      "150/150 [==============================] - 0s 867us/step - loss: 5.6885e-05 - acc: 1.0000\n",
      "Epoch 46/100\n",
      "150/150 [==============================] - 0s 1ms/step - loss: 1.8036e-05 - acc: 1.0000\n",
      "Epoch 47/100\n",
      "150/150 [==============================] - 0s 855us/step - loss: 0.0232 - acc: 0.9933\n",
      "Epoch 48/100\n",
      "150/150 [==============================] - 0s 848us/step - loss: 0.0019 - acc: 1.0000\n",
      "Epoch 49/100\n",
      "150/150 [==============================] - 0s 874us/step - loss: 1.4072e-04 - acc: 1.0000\n",
      "Epoch 50/100\n",
      "150/150 [==============================] - 0s 946us/step - loss: 2.3404e-05 - acc: 1.0000\n",
      "Epoch 51/100\n",
      "150/150 [==============================] - 0s 859us/step - loss: 0.0604 - acc: 0.9956\n",
      "Epoch 52/100\n",
      "150/150 [==============================] - 0s 923us/step - loss: 0.0604 - acc: 0.9933\n",
      "Epoch 53/100\n",
      "150/150 [==============================] - 0s 1ms/step - loss: 2.3668e-04 - acc: 1.0000\n",
      "Epoch 54/100\n",
      "150/150 [==============================] - 0s 1ms/step - loss: 6.4671e-05 - acc: 1.0000\n",
      "Epoch 55/100\n",
      "150/150 [==============================] - 0s 912us/step - loss: 2.9103e-05 - acc: 1.0000\n",
      "Epoch 56/100\n",
      "150/150 [==============================] - 0s 1ms/step - loss: 5.1556e-06 - acc: 1.0000\n",
      "Epoch 57/100\n",
      "150/150 [==============================] - 0s 1ms/step - loss: 1.2928e-06 - acc: 1.0000\n",
      "Epoch 58/100\n",
      "150/150 [==============================] - 0s 2ms/step - loss: 0.1413 - acc: 0.9689\n",
      "Epoch 59/100\n",
      "150/150 [==============================] - 0s 956us/step - loss: 0.0056 - acc: 0.9978\n",
      "Epoch 60/100\n",
      "150/150 [==============================] - 0s 2ms/step - loss: 7.1005e-05 - acc: 1.0000\n",
      "Epoch 61/100\n",
      "150/150 [==============================] - 0s 1ms/step - loss: 3.3686e-05 - acc: 1.0000\n",
      "Epoch 62/100\n",
      "150/150 [==============================] - 0s 926us/step - loss: 1.3899e-05 - acc: 1.0000\n",
      "Epoch 63/100\n",
      "150/150 [==============================] - 0s 875us/step - loss: 3.4167e-06 - acc: 1.0000\n",
      "Epoch 64/100\n",
      "150/150 [==============================] - 0s 977us/step - loss: 1.4042e-06 - acc: 1.0000\n",
      "Epoch 65/100\n",
      "150/150 [==============================] - 0s 1ms/step - loss: 6.6012e-07 - acc: 1.0000\n",
      "Epoch 66/100\n",
      "150/150 [==============================] - 0s 1ms/step - loss: 0.0426 - acc: 0.9844\n",
      "Epoch 67/100\n",
      "150/150 [==============================] - 0s 1ms/step - loss: 5.0295e-05 - acc: 1.0000\n",
      "Epoch 68/100\n",
      "150/150 [==============================] - 0s 912us/step - loss: 1.9187e-05 - acc: 1.0000\n",
      "Epoch 69/100\n",
      "150/150 [==============================] - 0s 891us/step - loss: 7.9788e-06 - acc: 1.0000\n",
      "Epoch 70/100\n",
      "150/150 [==============================] - 0s 896us/step - loss: 2.9333e-06 - acc: 1.0000\n",
      "Epoch 71/100\n",
      "150/150 [==============================] - 0s 928us/step - loss: 9.5684e-07 - acc: 1.0000\n",
      "Epoch 72/100\n",
      "150/150 [==============================] - 0s 928us/step - loss: 3.6207e-07 - acc: 1.0000\n",
      "Epoch 73/100\n",
      "150/150 [==============================] - 0s 949us/step - loss: 2.1505e-07 - acc: 1.0000\n",
      "Epoch 74/100\n",
      "150/150 [==============================] - 0s 1ms/step - loss: 0.2542 - acc: 0.9733\n",
      "Epoch 75/100\n",
      "150/150 [==============================] - 0s 910us/step - loss: 3.4416e-05 - acc: 1.0000\n",
      "Epoch 76/100\n",
      "150/150 [==============================] - 0s 854us/step - loss: 1.5940e-05 - acc: 1.0000\n",
      "Epoch 77/100\n",
      "150/150 [==============================] - 0s 926us/step - loss: 6.4033e-06 - acc: 1.0000\n",
      "Epoch 78/100\n",
      "150/150 [==============================] - 0s 856us/step - loss: 3.0586e-06 - acc: 1.0000\n",
      "Epoch 79/100\n",
      "150/150 [==============================] - 0s 888us/step - loss: 1.0252e-06 - acc: 1.0000\n",
      "Epoch 80/100\n",
      "150/150 [==============================] - 0s 900us/step - loss: 5.1356e-07 - acc: 1.0000\n",
      "Epoch 81/100\n",
      "150/150 [==============================] - 0s 986us/step - loss: 1.8451e-07 - acc: 1.0000\n",
      "Epoch 82/100\n",
      "150/150 [==============================] - 0s 866us/step - loss: 1.1247e-07 - acc: 1.0000\n",
      "Epoch 83/100\n",
      "150/150 [==============================] - 0s 866us/step - loss: 0.0366 - acc: 0.9911\n",
      "Epoch 84/100\n",
      "150/150 [==============================] - 0s 929us/step - loss: 9.3319e-05 - acc: 1.0000\n",
      "Epoch 85/100\n",
      "150/150 [==============================] - 0s 968us/step - loss: 6.6530e-05 - acc: 1.0000\n",
      "Epoch 86/100\n",
      "150/150 [==============================] - 0s 902us/step - loss: 3.0622e-05 - acc: 1.0000\n",
      "Epoch 87/100\n",
      "150/150 [==============================] - 0s 873us/step - loss: 6.4270e-07 - acc: 1.0000\n",
      "Epoch 88/100\n",
      "150/150 [==============================] - 0s 920us/step - loss: 3.9819e-07 - acc: 1.0000\n",
      "Epoch 89/100\n",
      "150/150 [==============================] - 0s 859us/step - loss: 0.0013 - acc: 1.0000\n",
      "Epoch 90/100\n",
      "150/150 [==============================] - 0s 855us/step - loss: 0.0123 - acc: 0.9978\n",
      "Epoch 91/100\n",
      "150/150 [==============================] - 0s 862us/step - loss: 1.0817e-05 - acc: 1.0000\n",
      "Epoch 92/100\n",
      "150/150 [==============================] - 0s 982us/step - loss: 3.0495e-06 - acc: 1.0000\n",
      "Epoch 93/100\n",
      "150/150 [==============================] - 0s 848us/step - loss: 3.8416e-06 - acc: 1.0000\n",
      "Epoch 94/100\n",
      "150/150 [==============================] - 0s 857us/step - loss: 4.0067e-07 - acc: 1.0000\n",
      "Epoch 95/100\n",
      "150/150 [==============================] - 0s 982us/step - loss: 1.9475e-07 - acc: 1.0000\n",
      "Epoch 96/100\n",
      "150/150 [==============================] - 0s 1ms/step - loss: 1.3251e-07 - acc: 1.0000\n",
      "Epoch 97/100\n",
      "150/150 [==============================] - 0s 1ms/step - loss: 1.1206e-07 - acc: 1.0000\n",
      "Epoch 98/100\n",
      "150/150 [==============================] - 0s 1ms/step - loss: 0.0094 - acc: 0.9978\n",
      "Epoch 99/100\n",
      "150/150 [==============================] - 0s 1ms/step - loss: 6.9603e-07 - acc: 1.0000\n",
      "Epoch 100/100\n",
      "150/150 [==============================] - 0s 867us/step - loss: 3.8889e-07 - acc: 1.0000\n"
     ]
    },
    {
     "data": {
      "text/plain": [
       "<keras.callbacks.History at 0x1a1c61fc88>"
      ]
     },
     "execution_count": 19,
     "metadata": {},
     "output_type": "execute_result"
    }
   ],
   "source": [
    "model.fit(x = train_input, y = train_label, batch_size = 5, epochs = 100)"
   ]
  },
  {
   "cell_type": "code",
   "execution_count": 20,
   "metadata": {},
   "outputs": [
    {
     "name": "stdout",
     "output_type": "stream",
     "text": [
      "\r",
      "3/3 [==============================] - 0s 9ms/step\n"
     ]
    },
    {
     "data": {
      "text/plain": [
       "[2.8197431564331055, 0.7777778506278992]"
      ]
     },
     "execution_count": 20,
     "metadata": {},
     "output_type": "execute_result"
    }
   ],
   "source": [
    "model.evaluate(x = test_input, y = test_label)"
   ]
  },
  {
   "cell_type": "code",
   "execution_count": 21,
   "metadata": {
    "collapsed": true
   },
   "outputs": [],
   "source": [
    "result = model.predict(x = test_input)"
   ]
  },
  {
   "cell_type": "code",
   "execution_count": 22,
   "metadata": {},
   "outputs": [
    {
     "name": "stdout",
     "output_type": "stream",
     "text": [
      "[[2.5591435e-06 9.9992788e-01 1.0014199e-05]\n",
      " [3.8903620e-02 9.9990082e-01 4.5540268e-08]\n",
      " [9.9966836e-01 9.4504579e-04 3.2397318e-09]]\n"
     ]
    }
   ],
   "source": [
    "print(result)"
   ]
  },
  {
   "cell_type": "code",
   "execution_count": 23,
   "metadata": {},
   "outputs": [
    {
     "data": {
      "text/plain": [
       "1"
      ]
     },
     "execution_count": 23,
     "metadata": {},
     "output_type": "execute_result"
    }
   ],
   "source": [
    "np.argmax(result[0])"
   ]
  },
  {
   "cell_type": "code",
   "execution_count": 24,
   "metadata": {},
   "outputs": [
    {
     "data": {
      "image/png": "[encoded data removed]",
      "text/plain": [
       "<matplotlib.figure.Figure at 0x1a1c7519b0>"
      ]
     },
     "metadata": {},
     "output_type": "display_data"
    }
   ],
   "source": [
    "for i in range(len(class_name)):\n",
    "    plt.imshow(test_input[i].reshape(width, height))"
   ]
  },
  {
   "cell_type": "code",
   "execution_count": null,
   "metadata": {
    "collapsed": true
   },
   "outputs": [],
   "source": []
  }
 ],
 "metadata": {
  "kernelspec": {
   "display_name": "Python 3",
   "language": "python",
   "name": "python3"
  },
  "language_info": {
   "codemirror_mode": {
    "name": "ipython",
    "version": 3
   },
   "file_extension": ".py",
   "mimetype": "text/x-python",
   "name": "python",
   "nbconvert_exporter": "python",
   "pygments_lexer": "ipython3",
   "version": "3.7.3"
  }
 },
 "nbformat": 4,
 "nbformat_minor": 2
}
