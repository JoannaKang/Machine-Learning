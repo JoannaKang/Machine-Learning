{
 "cells": [
  {
   "cell_type": "code",
   "execution_count": 68,
   "metadata": {},
   "outputs": [],
   "source": [
    "#self = 멤버변수\n",
    "class calculator():\n",
    "    def __init__(self,a, b):\n",
    "        print(\"%d 와 %s 는 %s 입니다\" % (3, \"승현\", \"수형\"))\n",
    "        print(a + b)\n",
    "        \n",
    "    def add(self, a, b):\n",
    "        self.a = a\n",
    "        self.b = b\n",
    "        print(self.a + self.b)\n",
    "        \n",
    "    def minus(self, c, d):\n",
    "        self.c = c\n",
    "        self.d = d\n",
    "        print(self.c - self.d)\n",
    "    \n",
    "    def times(self):\n",
    "        print(self.c * self.d)\n",
    "        \n",
    "    def div(self):\n",
    "        print(self.c / self.d)"
   ]
  },
  {
   "cell_type": "code",
   "execution_count": 69,
   "metadata": {},
   "outputs": [
    {
     "name": "stdout",
     "output_type": "stream",
     "text": [
      "3 와 승현 는 수형 입니다\n",
      "8\n"
     ]
    }
   ],
   "source": [
    "ing = calculator (3, 5)"
   ]
  },
  {
   "cell_type": "code",
   "execution_count": 70,
   "metadata": {},
   "outputs": [
    {
     "name": "stdout",
     "output_type": "stream",
     "text": [
      "7\n"
     ]
    }
   ],
   "source": [
    "ing.add(3, 4)"
   ]
  },
  {
   "cell_type": "code",
   "execution_count": 71,
   "metadata": {},
   "outputs": [
    {
     "name": "stdout",
     "output_type": "stream",
     "text": [
      "-1\n"
     ]
    }
   ],
   "source": [
    "ing.minus(3, 4)"
   ]
  },
  {
   "cell_type": "code",
   "execution_count": 72,
   "metadata": {},
   "outputs": [
    {
     "name": "stdout",
     "output_type": "stream",
     "text": [
      "12\n"
     ]
    }
   ],
   "source": [
    "ing.times()"
   ]
  },
  {
   "cell_type": "code",
   "execution_count": null,
   "metadata": {
    "collapsed": true
   },
   "outputs": [],
   "source": []
  }
 ],
 "metadata": {
  "kernelspec": {
   "display_name": "Python 3",
   "language": "python",
   "name": "python3"
  },
  "language_info": {
   "codemirror_mode": {
    "name": "ipython",
    "version": 3
   },
   "file_extension": ".py",
   "mimetype": "text/x-python",
   "name": "python",
   "nbconvert_exporter": "python",
   "pygments_lexer": "ipython3",
   "version": "3.6.3"
  }
 },
 "nbformat": 4,
 "nbformat_minor": 2
}
