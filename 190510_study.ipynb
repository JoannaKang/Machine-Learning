{
 "cells": [
  {
   "cell_type": "code",
   "execution_count": 46,
   "metadata": {},
   "outputs": [],
   "source": [
    "import matplotlib.pyplot as plt\n",
    "import numpy as np \n",
    "import pandas as pd \n",
    "import os \n",
    "from sklearn.preprocessing import MinMaxScaler\n",
    "from keras.callbacks import History\n",
    "from keras.callbacks import ModelCheckpoint, TensorBoard\n",
    "from keras.layers import Conv2D, MaxPooling2D, GlobalAveragePooling2D, Dropout, Activation, Average, Dense\n",
    "from keras.losses import categorical_crossentropy\n",
    "from keras.models import Sequential, Model, Input\n",
    "from keras.optimizers import SGD, RMSprop, Adagrad, Adadelta, Adam, Adamax\n",
    "from keras import metrics\n",
    "from keras.utils import to_categorical\n",
    "from tensorflow.python.framework.ops import Tensor\n",
    "from keras.layers.normalization import BatchNormalization\n",
    "from keras import regularizers\n",
    "from typing import Tuple, List\n",
    "import numpy as np\n",
    "import os\n",
    "from datetime import datetime\n",
    "from matplotlib import pyplot\n",
    "from keras.layers import LSTM \n",
    "%matplotlib inline"
   ]
  },
  {
   "cell_type": "code",
   "execution_count": 47,
   "metadata": {
    "collapsed": true
   },
   "outputs": [],
   "source": [
    "path = '//Users//joannakang//Documents//Python_study'"
   ]
  },
  {
   "cell_type": "code",
   "execution_count": 48,
   "metadata": {},
   "outputs": [],
   "source": [
    "file_path = os.path.join(path, 'complete_data.csv')"
   ]
  },
  {
   "cell_type": "code",
   "execution_count": 49,
   "metadata": {},
   "outputs": [],
   "source": [
    "train_df = pd.read_csv(file_path)"
   ]
  },
  {
   "cell_type": "code",
   "execution_count": 50,
   "metadata": {},
   "outputs": [
    {
     "data": {
      "text/html": [
       "<div>\n",
       "<style>\n",
       "    .dataframe thead tr:only-child th {\n",
       "        text-align: right;\n",
       "    }\n",
       "\n",
       "    .dataframe thead th {\n",
       "        text-align: left;\n",
       "    }\n",
       "\n",
       "    .dataframe tbody tr th {\n",
       "        vertical-align: top;\n",
       "    }\n",
       "</style>\n",
       "<table border=\"1\" class=\"dataframe\">\n",
       "  <thead>\n",
       "    <tr style=\"text-align: right;\">\n",
       "      <th></th>\n",
       "      <th>datetime</th>\n",
       "      <th>kWh</th>\n",
       "      <th>pressure</th>\n",
       "      <th>temperature</th>\n",
       "      <th>wind_direction</th>\n",
       "      <th>wind_speed</th>\n",
       "    </tr>\n",
       "  </thead>\n",
       "  <tbody>\n",
       "    <tr>\n",
       "      <th>0</th>\n",
       "      <td>01/01/2017 00:00</td>\n",
       "      <td>NaN</td>\n",
       "      <td>30.19</td>\n",
       "      <td>46.0</td>\n",
       "      <td>230.0</td>\n",
       "      <td>10.0</td>\n",
       "    </tr>\n",
       "    <tr>\n",
       "      <th>1</th>\n",
       "      <td>01/01/2017 00:30</td>\n",
       "      <td>2310.732265</td>\n",
       "      <td>30.19</td>\n",
       "      <td>45.0</td>\n",
       "      <td>230.0</td>\n",
       "      <td>7.0</td>\n",
       "    </tr>\n",
       "    <tr>\n",
       "      <th>2</th>\n",
       "      <td>01/01/2017 01:00</td>\n",
       "      <td>2289.332265</td>\n",
       "      <td>30.16</td>\n",
       "      <td>45.0</td>\n",
       "      <td>230.0</td>\n",
       "      <td>6.0</td>\n",
       "    </tr>\n",
       "    <tr>\n",
       "      <th>3</th>\n",
       "      <td>01/01/2017 01:30</td>\n",
       "      <td>2314.583265</td>\n",
       "      <td>30.16</td>\n",
       "      <td>45.0</td>\n",
       "      <td>240.0</td>\n",
       "      <td>7.0</td>\n",
       "    </tr>\n",
       "    <tr>\n",
       "      <th>4</th>\n",
       "      <td>01/01/2017 02:00</td>\n",
       "      <td>2309.308265</td>\n",
       "      <td>30.13</td>\n",
       "      <td>45.0</td>\n",
       "      <td>240.0</td>\n",
       "      <td>10.0</td>\n",
       "    </tr>\n",
       "  </tbody>\n",
       "</table>\n",
       "</div>"
      ],
      "text/plain": [
       "           datetime          kWh  pressure  temperature  wind_direction  \\\n",
       "0  01/01/2017 00:00          NaN     30.19         46.0           230.0   \n",
       "1  01/01/2017 00:30  2310.732265     30.19         45.0           230.0   \n",
       "2  01/01/2017 01:00  2289.332265     30.16         45.0           230.0   \n",
       "3  01/01/2017 01:30  2314.583265     30.16         45.0           240.0   \n",
       "4  01/01/2017 02:00  2309.308265     30.13         45.0           240.0   \n",
       "\n",
       "   wind_speed  \n",
       "0        10.0  \n",
       "1         7.0  \n",
       "2         6.0  \n",
       "3         7.0  \n",
       "4        10.0  "
      ]
     },
     "execution_count": 50,
     "metadata": {},
     "output_type": "execute_result"
    }
   ],
   "source": [
    "train_df.head()"
   ]
  },
  {
   "cell_type": "code",
   "execution_count": 51,
   "metadata": {},
   "outputs": [
    {
     "data": {
      "text/html": [
       "<div>\n",
       "<style>\n",
       "    .dataframe thead tr:only-child th {\n",
       "        text-align: right;\n",
       "    }\n",
       "\n",
       "    .dataframe thead th {\n",
       "        text-align: left;\n",
       "    }\n",
       "\n",
       "    .dataframe tbody tr th {\n",
       "        vertical-align: top;\n",
       "    }\n",
       "</style>\n",
       "<table border=\"1\" class=\"dataframe\">\n",
       "  <thead>\n",
       "    <tr style=\"text-align: right;\">\n",
       "      <th></th>\n",
       "      <th>kWh</th>\n",
       "      <th>pressure</th>\n",
       "      <th>temperature</th>\n",
       "      <th>wind_direction</th>\n",
       "      <th>wind_speed</th>\n",
       "    </tr>\n",
       "  </thead>\n",
       "  <tbody>\n",
       "    <tr>\n",
       "      <th>count</th>\n",
       "      <td>35663.000000</td>\n",
       "      <td>35461.000000</td>\n",
       "      <td>35461.000000</td>\n",
       "      <td>32322.000000</td>\n",
       "      <td>35444.000000</td>\n",
       "    </tr>\n",
       "    <tr>\n",
       "      <th>mean</th>\n",
       "      <td>3127.624874</td>\n",
       "      <td>29.975828</td>\n",
       "      <td>54.892332</td>\n",
       "      <td>205.191975</td>\n",
       "      <td>9.908786</td>\n",
       "    </tr>\n",
       "    <tr>\n",
       "      <th>std</th>\n",
       "      <td>542.645349</td>\n",
       "      <td>0.304220</td>\n",
       "      <td>11.141161</td>\n",
       "      <td>86.619524</td>\n",
       "      <td>4.910225</td>\n",
       "    </tr>\n",
       "    <tr>\n",
       "      <th>min</th>\n",
       "      <td>0.000000</td>\n",
       "      <td>28.690000</td>\n",
       "      <td>23.000000</td>\n",
       "      <td>10.000000</td>\n",
       "      <td>0.000000</td>\n",
       "    </tr>\n",
       "    <tr>\n",
       "      <th>25%</th>\n",
       "      <td>2710.540000</td>\n",
       "      <td>29.810000</td>\n",
       "      <td>46.000000</td>\n",
       "      <td>130.000000</td>\n",
       "      <td>6.000000</td>\n",
       "    </tr>\n",
       "    <tr>\n",
       "      <th>50%</th>\n",
       "      <td>2958.093000</td>\n",
       "      <td>30.010000</td>\n",
       "      <td>54.000000</td>\n",
       "      <td>230.000000</td>\n",
       "      <td>9.000000</td>\n",
       "    </tr>\n",
       "    <tr>\n",
       "      <th>75%</th>\n",
       "      <td>3535.946893</td>\n",
       "      <td>30.160000</td>\n",
       "      <td>63.000000</td>\n",
       "      <td>260.000000</td>\n",
       "      <td>13.000000</td>\n",
       "    </tr>\n",
       "    <tr>\n",
       "      <th>max</th>\n",
       "      <td>5065.526000</td>\n",
       "      <td>30.810000</td>\n",
       "      <td>93.000000</td>\n",
       "      <td>360.000000</td>\n",
       "      <td>40.000000</td>\n",
       "    </tr>\n",
       "  </tbody>\n",
       "</table>\n",
       "</div>"
      ],
      "text/plain": [
       "                kWh      pressure   temperature  wind_direction    wind_speed\n",
       "count  35663.000000  35461.000000  35461.000000    32322.000000  35444.000000\n",
       "mean    3127.624874     29.975828     54.892332      205.191975      9.908786\n",
       "std      542.645349      0.304220     11.141161       86.619524      4.910225\n",
       "min        0.000000     28.690000     23.000000       10.000000      0.000000\n",
       "25%     2710.540000     29.810000     46.000000      130.000000      6.000000\n",
       "50%     2958.093000     30.010000     54.000000      230.000000      9.000000\n",
       "75%     3535.946893     30.160000     63.000000      260.000000     13.000000\n",
       "max     5065.526000     30.810000     93.000000      360.000000     40.000000"
      ]
     },
     "execution_count": 51,
     "metadata": {},
     "output_type": "execute_result"
    }
   ],
   "source": [
    "train_df.describe()"
   ]
  },
  {
   "cell_type": "code",
   "execution_count": 52,
   "metadata": {},
   "outputs": [],
   "source": [
    "train_df = train_df.dropna()"
   ]
  },
  {
   "cell_type": "code",
   "execution_count": 53,
   "metadata": {},
   "outputs": [
    {
     "data": {
      "text/html": [
       "<div>\n",
       "<style>\n",
       "    .dataframe thead tr:only-child th {\n",
       "        text-align: right;\n",
       "    }\n",
       "\n",
       "    .dataframe thead th {\n",
       "        text-align: left;\n",
       "    }\n",
       "\n",
       "    .dataframe tbody tr th {\n",
       "        vertical-align: top;\n",
       "    }\n",
       "</style>\n",
       "<table border=\"1\" class=\"dataframe\">\n",
       "  <thead>\n",
       "    <tr style=\"text-align: right;\">\n",
       "      <th></th>\n",
       "      <th>kWh</th>\n",
       "      <th>pressure</th>\n",
       "      <th>temperature</th>\n",
       "      <th>wind_direction</th>\n",
       "      <th>wind_speed</th>\n",
       "    </tr>\n",
       "  </thead>\n",
       "  <tbody>\n",
       "    <tr>\n",
       "      <th>count</th>\n",
       "      <td>32321.000000</td>\n",
       "      <td>32321.000000</td>\n",
       "      <td>32321.000000</td>\n",
       "      <td>32321.000000</td>\n",
       "      <td>32321.000000</td>\n",
       "    </tr>\n",
       "    <tr>\n",
       "      <th>mean</th>\n",
       "      <td>3129.973153</td>\n",
       "      <td>29.964390</td>\n",
       "      <td>54.884781</td>\n",
       "      <td>205.191207</td>\n",
       "      <td>10.515238</td>\n",
       "    </tr>\n",
       "    <tr>\n",
       "      <th>std</th>\n",
       "      <td>542.315668</td>\n",
       "      <td>0.303748</td>\n",
       "      <td>10.999908</td>\n",
       "      <td>86.620754</td>\n",
       "      <td>4.663697</td>\n",
       "    </tr>\n",
       "    <tr>\n",
       "      <th>min</th>\n",
       "      <td>0.000000</td>\n",
       "      <td>28.690000</td>\n",
       "      <td>23.000000</td>\n",
       "      <td>10.000000</td>\n",
       "      <td>1.000000</td>\n",
       "    </tr>\n",
       "    <tr>\n",
       "      <th>25%</th>\n",
       "      <td>2713.501000</td>\n",
       "      <td>29.810000</td>\n",
       "      <td>46.000000</td>\n",
       "      <td>130.000000</td>\n",
       "      <td>7.000000</td>\n",
       "    </tr>\n",
       "    <tr>\n",
       "      <th>50%</th>\n",
       "      <td>2961.844265</td>\n",
       "      <td>29.980000</td>\n",
       "      <td>54.000000</td>\n",
       "      <td>230.000000</td>\n",
       "      <td>9.000000</td>\n",
       "    </tr>\n",
       "    <tr>\n",
       "      <th>75%</th>\n",
       "      <td>3542.062000</td>\n",
       "      <td>30.160000</td>\n",
       "      <td>63.000000</td>\n",
       "      <td>260.000000</td>\n",
       "      <td>14.000000</td>\n",
       "    </tr>\n",
       "    <tr>\n",
       "      <th>max</th>\n",
       "      <td>5065.526000</td>\n",
       "      <td>30.810000</td>\n",
       "      <td>93.000000</td>\n",
       "      <td>360.000000</td>\n",
       "      <td>40.000000</td>\n",
       "    </tr>\n",
       "  </tbody>\n",
       "</table>\n",
       "</div>"
      ],
      "text/plain": [
       "                kWh      pressure   temperature  wind_direction    wind_speed\n",
       "count  32321.000000  32321.000000  32321.000000    32321.000000  32321.000000\n",
       "mean    3129.973153     29.964390     54.884781      205.191207     10.515238\n",
       "std      542.315668      0.303748     10.999908       86.620754      4.663697\n",
       "min        0.000000     28.690000     23.000000       10.000000      1.000000\n",
       "25%     2713.501000     29.810000     46.000000      130.000000      7.000000\n",
       "50%     2961.844265     29.980000     54.000000      230.000000      9.000000\n",
       "75%     3542.062000     30.160000     63.000000      260.000000     14.000000\n",
       "max     5065.526000     30.810000     93.000000      360.000000     40.000000"
      ]
     },
     "execution_count": 53,
     "metadata": {},
     "output_type": "execute_result"
    }
   ],
   "source": [
    "train_df.describe()"
   ]
  },
  {
   "cell_type": "code",
   "execution_count": 54,
   "metadata": {
    "collapsed": true
   },
   "outputs": [],
   "source": [
    "train_df = train_df[['kWh', 'pressure', 'temperature', 'wind_speed']]"
   ]
  },
  {
   "cell_type": "code",
   "execution_count": 55,
   "metadata": {},
   "outputs": [
    {
     "data": {
      "text/html": [
       "<div>\n",
       "<style>\n",
       "    .dataframe thead tr:only-child th {\n",
       "        text-align: right;\n",
       "    }\n",
       "\n",
       "    .dataframe thead th {\n",
       "        text-align: left;\n",
       "    }\n",
       "\n",
       "    .dataframe tbody tr th {\n",
       "        vertical-align: top;\n",
       "    }\n",
       "</style>\n",
       "<table border=\"1\" class=\"dataframe\">\n",
       "  <thead>\n",
       "    <tr style=\"text-align: right;\">\n",
       "      <th></th>\n",
       "      <th>kWh</th>\n",
       "      <th>pressure</th>\n",
       "      <th>temperature</th>\n",
       "      <th>wind_speed</th>\n",
       "    </tr>\n",
       "  </thead>\n",
       "  <tbody>\n",
       "    <tr>\n",
       "      <th>1</th>\n",
       "      <td>2310.732265</td>\n",
       "      <td>30.19</td>\n",
       "      <td>45.0</td>\n",
       "      <td>7.0</td>\n",
       "    </tr>\n",
       "    <tr>\n",
       "      <th>2</th>\n",
       "      <td>2289.332265</td>\n",
       "      <td>30.16</td>\n",
       "      <td>45.0</td>\n",
       "      <td>6.0</td>\n",
       "    </tr>\n",
       "    <tr>\n",
       "      <th>3</th>\n",
       "      <td>2314.583265</td>\n",
       "      <td>30.16</td>\n",
       "      <td>45.0</td>\n",
       "      <td>7.0</td>\n",
       "    </tr>\n",
       "    <tr>\n",
       "      <th>4</th>\n",
       "      <td>2309.308265</td>\n",
       "      <td>30.13</td>\n",
       "      <td>45.0</td>\n",
       "      <td>10.0</td>\n",
       "    </tr>\n",
       "    <tr>\n",
       "      <th>5</th>\n",
       "      <td>2315.057265</td>\n",
       "      <td>30.13</td>\n",
       "      <td>45.0</td>\n",
       "      <td>9.0</td>\n",
       "    </tr>\n",
       "  </tbody>\n",
       "</table>\n",
       "</div>"
      ],
      "text/plain": [
       "           kWh  pressure  temperature  wind_speed\n",
       "1  2310.732265     30.19         45.0         7.0\n",
       "2  2289.332265     30.16         45.0         6.0\n",
       "3  2314.583265     30.16         45.0         7.0\n",
       "4  2309.308265     30.13         45.0        10.0\n",
       "5  2315.057265     30.13         45.0         9.0"
      ]
     },
     "execution_count": 55,
     "metadata": {},
     "output_type": "execute_result"
    }
   ],
   "source": [
    "train_df.head()"
   ]
  },
  {
   "cell_type": "code",
   "execution_count": 56,
   "metadata": {},
   "outputs": [],
   "source": [
    "x_train = train_df[0:25000]"
   ]
  },
  {
   "cell_type": "code",
   "execution_count": 57,
   "metadata": {},
   "outputs": [
    {
     "data": {
      "text/html": [
       "<div>\n",
       "<style>\n",
       "    .dataframe thead tr:only-child th {\n",
       "        text-align: right;\n",
       "    }\n",
       "\n",
       "    .dataframe thead th {\n",
       "        text-align: left;\n",
       "    }\n",
       "\n",
       "    .dataframe tbody tr th {\n",
       "        vertical-align: top;\n",
       "    }\n",
       "</style>\n",
       "<table border=\"1\" class=\"dataframe\">\n",
       "  <thead>\n",
       "    <tr style=\"text-align: right;\">\n",
       "      <th></th>\n",
       "      <th>kWh</th>\n",
       "      <th>pressure</th>\n",
       "      <th>temperature</th>\n",
       "      <th>wind_speed</th>\n",
       "    </tr>\n",
       "  </thead>\n",
       "  <tbody>\n",
       "    <tr>\n",
       "      <th>1</th>\n",
       "      <td>2310.732265</td>\n",
       "      <td>30.19</td>\n",
       "      <td>45.0</td>\n",
       "      <td>7.0</td>\n",
       "    </tr>\n",
       "    <tr>\n",
       "      <th>2</th>\n",
       "      <td>2289.332265</td>\n",
       "      <td>30.16</td>\n",
       "      <td>45.0</td>\n",
       "      <td>6.0</td>\n",
       "    </tr>\n",
       "    <tr>\n",
       "      <th>3</th>\n",
       "      <td>2314.583265</td>\n",
       "      <td>30.16</td>\n",
       "      <td>45.0</td>\n",
       "      <td>7.0</td>\n",
       "    </tr>\n",
       "    <tr>\n",
       "      <th>4</th>\n",
       "      <td>2309.308265</td>\n",
       "      <td>30.13</td>\n",
       "      <td>45.0</td>\n",
       "      <td>10.0</td>\n",
       "    </tr>\n",
       "    <tr>\n",
       "      <th>5</th>\n",
       "      <td>2315.057265</td>\n",
       "      <td>30.13</td>\n",
       "      <td>45.0</td>\n",
       "      <td>9.0</td>\n",
       "    </tr>\n",
       "  </tbody>\n",
       "</table>\n",
       "</div>"
      ],
      "text/plain": [
       "           kWh  pressure  temperature  wind_speed\n",
       "1  2310.732265     30.19         45.0         7.0\n",
       "2  2289.332265     30.16         45.0         6.0\n",
       "3  2314.583265     30.16         45.0         7.0\n",
       "4  2309.308265     30.13         45.0        10.0\n",
       "5  2315.057265     30.13         45.0         9.0"
      ]
     },
     "execution_count": 57,
     "metadata": {},
     "output_type": "execute_result"
    }
   ],
   "source": [
    "x_train.head()"
   ]
  },
  {
   "cell_type": "code",
   "execution_count": 58,
   "metadata": {},
   "outputs": [
    {
     "data": {
      "text/html": [
       "<div>\n",
       "<style>\n",
       "    .dataframe thead tr:only-child th {\n",
       "        text-align: right;\n",
       "    }\n",
       "\n",
       "    .dataframe thead th {\n",
       "        text-align: left;\n",
       "    }\n",
       "\n",
       "    .dataframe tbody tr th {\n",
       "        vertical-align: top;\n",
       "    }\n",
       "</style>\n",
       "<table border=\"1\" class=\"dataframe\">\n",
       "  <thead>\n",
       "    <tr style=\"text-align: right;\">\n",
       "      <th></th>\n",
       "      <th>kWh</th>\n",
       "      <th>pressure</th>\n",
       "      <th>temperature</th>\n",
       "      <th>wind_speed</th>\n",
       "    </tr>\n",
       "  </thead>\n",
       "  <tbody>\n",
       "    <tr>\n",
       "      <th>count</th>\n",
       "      <td>25000.000000</td>\n",
       "      <td>25000.000000</td>\n",
       "      <td>25000.000000</td>\n",
       "      <td>25000.000000</td>\n",
       "    </tr>\n",
       "    <tr>\n",
       "      <th>mean</th>\n",
       "      <td>3145.010731</td>\n",
       "      <td>29.948553</td>\n",
       "      <td>54.449360</td>\n",
       "      <td>10.770100</td>\n",
       "    </tr>\n",
       "    <tr>\n",
       "      <th>std</th>\n",
       "      <td>549.458296</td>\n",
       "      <td>0.304424</td>\n",
       "      <td>11.147893</td>\n",
       "      <td>4.779748</td>\n",
       "    </tr>\n",
       "    <tr>\n",
       "      <th>min</th>\n",
       "      <td>0.000000</td>\n",
       "      <td>28.690000</td>\n",
       "      <td>23.000000</td>\n",
       "      <td>1.000000</td>\n",
       "    </tr>\n",
       "    <tr>\n",
       "      <th>25%</th>\n",
       "      <td>2721.602008</td>\n",
       "      <td>29.780000</td>\n",
       "      <td>46.000000</td>\n",
       "      <td>7.000000</td>\n",
       "    </tr>\n",
       "    <tr>\n",
       "      <th>50%</th>\n",
       "      <td>2972.679202</td>\n",
       "      <td>29.980000</td>\n",
       "      <td>54.000000</td>\n",
       "      <td>10.000000</td>\n",
       "    </tr>\n",
       "    <tr>\n",
       "      <th>75%</th>\n",
       "      <td>3577.916000</td>\n",
       "      <td>30.160000</td>\n",
       "      <td>63.000000</td>\n",
       "      <td>14.000000</td>\n",
       "    </tr>\n",
       "    <tr>\n",
       "      <th>max</th>\n",
       "      <td>4863.532957</td>\n",
       "      <td>30.660000</td>\n",
       "      <td>88.000000</td>\n",
       "      <td>40.000000</td>\n",
       "    </tr>\n",
       "  </tbody>\n",
       "</table>\n",
       "</div>"
      ],
      "text/plain": [
       "                kWh      pressure   temperature    wind_speed\n",
       "count  25000.000000  25000.000000  25000.000000  25000.000000\n",
       "mean    3145.010731     29.948553     54.449360     10.770100\n",
       "std      549.458296      0.304424     11.147893      4.779748\n",
       "min        0.000000     28.690000     23.000000      1.000000\n",
       "25%     2721.602008     29.780000     46.000000      7.000000\n",
       "50%     2972.679202     29.980000     54.000000     10.000000\n",
       "75%     3577.916000     30.160000     63.000000     14.000000\n",
       "max     4863.532957     30.660000     88.000000     40.000000"
      ]
     },
     "execution_count": 58,
     "metadata": {},
     "output_type": "execute_result"
    }
   ],
   "source": [
    "x_train.describe()"
   ]
  },
  {
   "cell_type": "code",
   "execution_count": 65,
   "metadata": {},
   "outputs": [],
   "source": [
    "x_train = train_df[['pressure', 'temperature', 'wind_speed']][0:25000]\n",
    "y_train = train_df['kWh'][0:25000]"
   ]
  },
  {
   "cell_type": "code",
   "execution_count": 66,
   "metadata": {},
   "outputs": [
    {
     "data": {
      "text/plain": [
       "1    2310.732265\n",
       "2    2289.332265\n",
       "3    2314.583265\n",
       "4    2309.308265\n",
       "5    2315.057265\n",
       "Name: kWh, dtype: float64"
      ]
     },
     "execution_count": 66,
     "metadata": {},
     "output_type": "execute_result"
    }
   ],
   "source": [
    "y_train.head()"
   ]
  },
  {
   "cell_type": "code",
   "execution_count": 67,
   "metadata": {},
   "outputs": [
    {
     "data": {
      "text/html": [
       "<div>\n",
       "<style>\n",
       "    .dataframe thead tr:only-child th {\n",
       "        text-align: right;\n",
       "    }\n",
       "\n",
       "    .dataframe thead th {\n",
       "        text-align: left;\n",
       "    }\n",
       "\n",
       "    .dataframe tbody tr th {\n",
       "        vertical-align: top;\n",
       "    }\n",
       "</style>\n",
       "<table border=\"1\" class=\"dataframe\">\n",
       "  <thead>\n",
       "    <tr style=\"text-align: right;\">\n",
       "      <th></th>\n",
       "      <th>pressure</th>\n",
       "      <th>temperature</th>\n",
       "      <th>wind_speed</th>\n",
       "    </tr>\n",
       "  </thead>\n",
       "  <tbody>\n",
       "    <tr>\n",
       "      <th>1</th>\n",
       "      <td>30.19</td>\n",
       "      <td>45.0</td>\n",
       "      <td>7.0</td>\n",
       "    </tr>\n",
       "    <tr>\n",
       "      <th>2</th>\n",
       "      <td>30.16</td>\n",
       "      <td>45.0</td>\n",
       "      <td>6.0</td>\n",
       "    </tr>\n",
       "    <tr>\n",
       "      <th>3</th>\n",
       "      <td>30.16</td>\n",
       "      <td>45.0</td>\n",
       "      <td>7.0</td>\n",
       "    </tr>\n",
       "    <tr>\n",
       "      <th>4</th>\n",
       "      <td>30.13</td>\n",
       "      <td>45.0</td>\n",
       "      <td>10.0</td>\n",
       "    </tr>\n",
       "    <tr>\n",
       "      <th>5</th>\n",
       "      <td>30.13</td>\n",
       "      <td>45.0</td>\n",
       "      <td>9.0</td>\n",
       "    </tr>\n",
       "  </tbody>\n",
       "</table>\n",
       "</div>"
      ],
      "text/plain": [
       "   pressure  temperature  wind_speed\n",
       "1     30.19         45.0         7.0\n",
       "2     30.16         45.0         6.0\n",
       "3     30.16         45.0         7.0\n",
       "4     30.13         45.0        10.0\n",
       "5     30.13         45.0         9.0"
      ]
     },
     "execution_count": 67,
     "metadata": {},
     "output_type": "execute_result"
    }
   ],
   "source": [
    "x_train.head()"
   ]
  },
  {
   "cell_type": "code",
   "execution_count": 68,
   "metadata": {
    "collapsed": true
   },
   "outputs": [],
   "source": [
    "x_val = train_df[['pressure', 'temperature', 'wind_speed']][25000:30000]\n",
    "y_val = train_df['kWh'][25000:30000]"
   ]
  },
  {
   "cell_type": "code",
   "execution_count": 98,
   "metadata": {},
   "outputs": [],
   "source": [
    "def deep_learning_model_1(x_size, y_size):\n",
    "    t_model = Sequential()\n",
    "    t_model.add(Dense(4, activation=\"relu\", input_shape=(x_size,)))\n",
    "    t_model.add(BatchNormalization())\n",
    "    t_model.add(Dense(4, activation=\"relu\"))\n",
    "    t_model.add(BatchNormalization())\n",
    "    t_model.add(Dense(y_size))\n",
    "    print(t_model.summary())\n",
    "    t_model.compile(loss='mean_squared_error', optimizer=Adam(lr=1e-3, decay=0.0), metrics=['accuracy'])\n",
    "    return(t_model)"
   ]
  },
  {
   "cell_type": "code",
   "execution_count": 99,
   "metadata": {},
   "outputs": [
    {
     "name": "stdout",
     "output_type": "stream",
     "text": [
      "_________________________________________________________________\n",
      "Layer (type)                 Output Shape              Param #   \n",
      "=================================================================\n",
      "dense_9 (Dense)              (None, 4)                 16        \n",
      "_________________________________________________________________\n",
      "batch_normalization_5 (Batch (None, 4)                 16        \n",
      "_________________________________________________________________\n",
      "dense_10 (Dense)             (None, 4)                 20        \n",
      "_________________________________________________________________\n",
      "batch_normalization_6 (Batch (None, 4)                 16        \n",
      "_________________________________________________________________\n",
      "dense_11 (Dense)             (None, 1)                 5         \n",
      "=================================================================\n",
      "Total params: 73\n",
      "Trainable params: 57\n",
      "Non-trainable params: 16\n",
      "_________________________________________________________________\n",
      "None\n"
     ]
    }
   ],
   "source": [
    "model = deep_learning_model_1(x_train.shape[1],1)"
   ]
  },
  {
   "cell_type": "code",
   "execution_count": 100,
   "metadata": {
    "collapsed": true
   },
   "outputs": [],
   "source": [
    "# def deep_learning_model_1(x_size, y_size): -> 파라미터를 정의\n",
    "#     t_model = Sequential()\n",
    "#     t_model.add(Dense(10, activation=\"relu\", input_shape=(x_size,))) -> 컬럼의 갯수 (몇개의 데이터를 넣었는지)\n",
    "#     t_model.add(BatchNormalization())\n",
    "#     t_model.add(Dense(7, activation=\"relu\"))\n",
    "#     t_model.add(BatchNormalization())\n",
    "#     t_model.add(Dense(7, activation=\"relu\"))\n",
    "#     t_model.add(Dense(y_size)) -> 예측값\n",
    "#     print(t_model.summary())\n",
    "#     t_model.compile(loss='mean_squared_error', optimizer=Adam(lr=1e-3, decay=0.0), metrics=['accuracy'])\n",
    "#     return(t_model)"
   ]
  },
  {
   "cell_type": "code",
   "execution_count": 101,
   "metadata": {},
   "outputs": [
    {
     "name": "stdout",
     "output_type": "stream",
     "text": [
      "25000\n"
     ]
    }
   ],
   "source": [
    "print(x_train.shape[0])"
   ]
  },
  {
   "cell_type": "code",
   "execution_count": 102,
   "metadata": {},
   "outputs": [
    {
     "name": "stdout",
     "output_type": "stream",
     "text": [
      "Epochs:  30\n",
      "Batch_size:  1000\n"
     ]
    }
   ],
   "source": [
    "epochs = 30\n",
    "batch_size = 1000\n",
    "\n",
    "print('Epochs: ', epochs)\n",
    "print('Batch_size: ', batch_size)"
   ]
  },
  {
   "cell_type": "code",
   "execution_count": 103,
   "metadata": {},
   "outputs": [
    {
     "name": "stdout",
     "output_type": "stream",
     "text": [
      "Train on 25000 samples, validate on 5000 samples\n",
      "Epoch 1/30\n",
      "25000/25000 [==============================] - 1s 29us/step - loss: 10192747.4400 - acc: 0.0000e+00 - val_loss: 9925836.6000 - val_acc: 0.0000e+00\n",
      "Epoch 2/30\n",
      "25000/25000 [==============================] - 0s 3us/step - loss: 10192310.0400 - acc: 0.0000e+00 - val_loss: 9924997.4000 - val_acc: 0.0000e+00\n",
      "Epoch 3/30\n",
      "25000/25000 [==============================] - 0s 3us/step - loss: 10191818.9200 - acc: 0.0000e+00 - val_loss: 9924216.4000 - val_acc: 0.0000e+00\n",
      "Epoch 4/30\n",
      "25000/25000 [==============================] - 0s 3us/step - loss: 10191258.5200 - acc: 0.0000e+00 - val_loss: 9923702.6000 - val_acc: 0.0000e+00\n",
      "Epoch 5/30\n",
      "25000/25000 [==============================] - 0s 3us/step - loss: 10190621.0400 - acc: 0.0000e+00 - val_loss: 9923189.0000 - val_acc: 0.0000e+00\n",
      "Epoch 6/30\n",
      "25000/25000 [==============================] - 0s 3us/step - loss: 10189904.3600 - acc: 0.0000e+00 - val_loss: 9922762.8000 - val_acc: 0.0000e+00\n",
      "Epoch 7/30\n",
      "25000/25000 [==============================] - 0s 3us/step - loss: 10189111.2400 - acc: 4.0000e-05 - val_loss: 9921266.4000 - val_acc: 0.0000e+00\n",
      "Epoch 8/30\n",
      "25000/25000 [==============================] - 0s 3us/step - loss: 10188245.6000 - acc: 4.0000e-05 - val_loss: 9920056.4000 - val_acc: 0.0000e+00\n",
      "Epoch 9/30\n",
      "25000/25000 [==============================] - 0s 3us/step - loss: 10187299.2000 - acc: 4.0000e-05 - val_loss: 9918933.6000 - val_acc: 0.0000e+00\n",
      "Epoch 10/30\n",
      "25000/25000 [==============================] - 0s 3us/step - loss: 10186272.4800 - acc: 4.0000e-05 - val_loss: 9917874.0000 - val_acc: 0.0000e+00\n",
      "Epoch 11/30\n",
      "25000/25000 [==============================] - 0s 3us/step - loss: 10185162.0800 - acc: 4.0000e-05 - val_loss: 9917217.2000 - val_acc: 0.0000e+00\n",
      "Epoch 12/30\n",
      "25000/25000 [==============================] - 0s 3us/step - loss: 10183969.3200 - acc: 0.0000e+00 - val_loss: 9916805.4000 - val_acc: 0.0000e+00\n",
      "Epoch 13/30\n",
      "25000/25000 [==============================] - 0s 3us/step - loss: 10182693.9200 - acc: 0.0000e+00 - val_loss: 9916550.8000 - val_acc: 0.0000e+00\n",
      "Epoch 14/30\n",
      "25000/25000 [==============================] - 0s 3us/step - loss: 10181331.0400 - acc: 0.0000e+00 - val_loss: 9915840.0000 - val_acc: 0.0000e+00\n",
      "Epoch 15/30\n",
      "25000/25000 [==============================] - 0s 3us/step - loss: 10179889.0800 - acc: 0.0000e+00 - val_loss: 9915147.2000 - val_acc: 0.0000e+00\n",
      "Epoch 16/30\n",
      "25000/25000 [==============================] - 0s 3us/step - loss: 10178364.0000 - acc: 0.0000e+00 - val_loss: 9913345.0000 - val_acc: 0.0000e+00\n",
      "Epoch 17/30\n",
      "25000/25000 [==============================] - 0s 3us/step - loss: 10176760.6800 - acc: 0.0000e+00 - val_loss: 9911381.4000 - val_acc: 0.0000e+00\n",
      "Epoch 18/30\n",
      "25000/25000 [==============================] - 0s 3us/step - loss: 10175074.4800 - acc: 0.0000e+00 - val_loss: 9909049.2000 - val_acc: 0.0000e+00\n",
      "Epoch 19/30\n",
      "25000/25000 [==============================] - 0s 3us/step - loss: 10173312.3600 - acc: 0.0000e+00 - val_loss: 9907127.0000 - val_acc: 0.0000e+00\n",
      "Epoch 20/30\n",
      "25000/25000 [==============================] - 0s 3us/step - loss: 10171473.2800 - acc: 0.0000e+00 - val_loss: 9904429.2000 - val_acc: 0.0000e+00\n",
      "Epoch 21/30\n",
      "25000/25000 [==============================] - 0s 3us/step - loss: 10169557.3600 - acc: 0.0000e+00 - val_loss: 9901850.6000 - val_acc: 0.0000e+00\n",
      "Epoch 22/30\n",
      "25000/25000 [==============================] - 0s 4us/step - loss: 10167562.6800 - acc: 0.0000e+00 - val_loss: 9900467.0000 - val_acc: 0.0000e+00\n",
      "Epoch 23/30\n",
      "25000/25000 [==============================] - 0s 3us/step - loss: 10165494.5200 - acc: 0.0000e+00 - val_loss: 9895861.2000 - val_acc: 0.0000e+00\n",
      "Epoch 24/30\n",
      "25000/25000 [==============================] - 0s 3us/step - loss: 10163345.8800 - acc: 0.0000e+00 - val_loss: 9891704.0000 - val_acc: 0.0000e+00\n",
      "Epoch 25/30\n",
      "25000/25000 [==============================] - 0s 3us/step - loss: 10161137.3600 - acc: 0.0000e+00 - val_loss: 9887621.2000 - val_acc: 0.0000e+00\n",
      "Epoch 26/30\n",
      "25000/25000 [==============================] - 0s 3us/step - loss: 10158839.6800 - acc: 0.0000e+00 - val_loss: 9882552.4000 - val_acc: 0.0000e+00\n",
      "Epoch 27/30\n",
      "25000/25000 [==============================] - 0s 3us/step - loss: 10156472.1200 - acc: 0.0000e+00 - val_loss: 9877997.8000 - val_acc: 0.0000e+00\n",
      "Epoch 28/30\n",
      "25000/25000 [==============================] - 0s 4us/step - loss: 10154032.3200 - acc: 0.0000e+00 - val_loss: 9872482.2000 - val_acc: 0.0000e+00\n",
      "Epoch 29/30\n",
      "25000/25000 [==============================] - 0s 3us/step - loss: 10151529.4800 - acc: 0.0000e+00 - val_loss: 9869050.4000 - val_acc: 0.0000e+00\n",
      "Epoch 30/30\n",
      "25000/25000 [==============================] - 0s 3us/step - loss: 10148948.2400 - acc: 0.0000e+00 - val_loss: 9864086.8000 - val_acc: 0.0000e+00\n"
     ]
    }
   ],
   "source": [
    "history = model.fit(x_train, y_train,\n",
    "    batch_size=batch_size,\n",
    "    epochs=epochs,\n",
    "    shuffle=True,\n",
    "    verbose=1, validation_data = (x_val, y_val))"
   ]
  },
  {
   "cell_type": "code",
   "execution_count": 104,
   "metadata": {},
   "outputs": [
    {
     "data": {
      "text/plain": [
       "dict_keys(['val_loss', 'val_acc', 'loss', 'acc'])"
      ]
     },
     "execution_count": 104,
     "metadata": {},
     "output_type": "execute_result"
    }
   ],
   "source": [
    "history_dict = history.history\n",
    "history_dict.keys()"
   ]
  },
  {
   "cell_type": "code",
   "execution_count": 105,
   "metadata": {},
   "outputs": [
    {
     "data": {
      "image/png": "[encoded data removed]",
      "text/plain": [
       "<matplotlib.figure.Figure at 0x1a19775080>"
      ]
     },
     "metadata": {},
     "output_type": "display_data"
    }
   ],
   "source": [
    "acc = history.history['acc']\n",
    "val_acc = history.history['val_acc']\n",
    "loss = history.history['loss']\n",
    "val_loss = history.history['val_loss']\n",
    "\n",
    "epochs = range(1, len(acc) + 1)\n",
    "\n",
    "# ‘bo’는 파란색 점을 의미합니다\n",
    "plt.plot(epochs, loss, 'bo', label='Training loss')\n",
    "# ‘b’는 파란색 실선을 의미합니다\n",
    "plt.plot(epochs, val_loss, 'b', label='Validation loss')\n",
    "plt.title('Training and validation loss')\n",
    "plt.xlabel('Epochs')\n",
    "plt.ylabel('Loss')\n",
    "plt.legend()\n",
    "\n",
    "plt.show()"
   ]
  },
  {
   "cell_type": "code",
   "execution_count": null,
   "metadata": {
    "collapsed": true
   },
   "outputs": [],
   "source": []
  },
  {
   "cell_type": "code",
   "execution_count": null,
   "metadata": {
    "collapsed": true
   },
   "outputs": [],
   "source": []
  }
 ],
 "metadata": {
  "kernelspec": {
   "display_name": "Python 3",
   "language": "python",
   "name": "python3"
  },
  "language_info": {
   "codemirror_mode": {
    "name": "ipython",
    "version": 3
   },
   "file_extension": ".py",
   "mimetype": "text/x-python",
   "name": "python",
   "nbconvert_exporter": "python",
   "pygments_lexer": "ipython3",
   "version": "3.6.3"
  }
 },
 "nbformat": 4,
 "nbformat_minor": 2
}
