{
 "cells": [
  {
   "cell_type": "code",
   "execution_count": 164,
   "metadata": {},
   "outputs": [
    {
     "data": {
      "text/plain": [
       "'2.3.1'"
      ]
     },
     "execution_count": 164,
     "metadata": {},
     "output_type": "execute_result"
    }
   ],
   "source": [
    "import tensorflow as tf\n",
    "import numpy as np\n",
    "import os\n",
    "import cv2\n",
    "import random\n",
    "from sklearn.preprocessing import LabelEncoder\n",
    "from sklearn.preprocessing import OneHotEncoder\n",
    "from sklearn.model_selection import train_test_split\n",
    "import keras\n",
    "from keras.layers import Dense, Conv2D, MaxPooling2D, Flatten\n",
    "from keras.models import Sequential\n",
    "from keras import optimizers\n",
    "import matplotlib.pyplot as plt\n",
    "import matplotlib.font_manager as fm\n",
    "%matplotlib inline\n",
    "keras.__version__"
   ]
  },
  {
   "cell_type": "code",
   "execution_count": 214,
   "metadata": {},
   "outputs": [],
   "source": [
    "width = 150\n",
    "height = 150"
   ]
  },
  {
   "cell_type": "code",
   "execution_count": 215,
   "metadata": {},
   "outputs": [],
   "source": [
    "base_dir = \"/Users/joannakang/Desktop/study/CatsandDogs\""
   ]
  },
  {
   "cell_type": "code",
   "execution_count": 216,
   "metadata": {},
   "outputs": [],
   "source": [
    "test_dir = os.path.join(base_dir, \"test\")\n",
    "train_dir = os.path.join(base_dir, \"train\")"
   ]
  },
  {
   "cell_type": "code",
   "execution_count": 217,
   "metadata": {},
   "outputs": [],
   "source": [
    "class_name = os.listdir(test_dir)"
   ]
  },
  {
   "cell_type": "code",
   "execution_count": 218,
   "metadata": {},
   "outputs": [
    {
     "name": "stdout",
     "output_type": "stream",
     "text": [
      "['dogs', 'cats', '.DS_Store']\n"
     ]
    }
   ],
   "source": [
    "print (class_name)"
   ]
  },
  {
   "cell_type": "code",
   "execution_count": 219,
   "metadata": {},
   "outputs": [],
   "source": [
    "class_name.remove('.DS_Store')"
   ]
  },
  {
   "cell_type": "code",
   "execution_count": 220,
   "metadata": {},
   "outputs": [],
   "source": [
    "train_image = []\n",
    "train_label = []"
   ]
  },
  {
   "cell_type": "code",
   "execution_count": 221,
   "metadata": {},
   "outputs": [],
   "source": [
    "test_image = []\n",
    "test_label = []"
   ]
  },
  {
   "cell_type": "code",
   "execution_count": 222,
   "metadata": {},
   "outputs": [],
   "source": [
    "val_image = []\n",
    "val_label = []"
   ]
  },
  {
   "cell_type": "code",
   "execution_count": 223,
   "metadata": {},
   "outputs": [
    {
     "name": "stdout",
     "output_type": "stream",
     "text": [
      "[[0. 1.]\n",
      " [1. 0.]]\n"
     ]
    },
    {
     "name": "stderr",
     "output_type": "stream",
     "text": [
      "/Users/joannakang/anaconda3/lib/python3.7/site-packages/sklearn/preprocessing/_encoders.py:415: FutureWarning: The handling of integer data will change in version 0.22. Currently, the categories are determined based on the range [0, max(values)], while in the future they will be determined based on the unique values.\n",
      "If you want the future behaviour and silence this warning, you can specify \"categories='auto'\".\n",
      "In case you used a LabelEncoder before this OneHotEncoder to convert the categories to integers, then you can now use the OneHotEncoder directly.\n",
      "  warnings.warn(msg, FutureWarning)\n"
     ]
    }
   ],
   "source": [
    "label_encoder = LabelEncoder()\n",
    "integer_encoded = label_encoder.fit_transform(class_name)\n",
    "onehot_encoder = OneHotEncoder(sparse=False)\n",
    "integer_encoded = integer_encoded.reshape(len(integer_encoded), 1)\n",
    "onehot_encoded = onehot_encoder.fit_transform(integer_encoded)\n",
    "\n",
    "print(onehot_encoded)"
   ]
  },
  {
   "cell_type": "code",
   "execution_count": 224,
   "metadata": {},
   "outputs": [],
   "source": [
    "for i in range(len(class_name)):\n",
    "    path = os.path.join(train_dir, class_name[i])\n",
    "    img_list = os.listdir(path)\n",
    "    for j in img_list:\n",
    "        img = os.path.join(path, j)\n",
    "        img = cv2.imread(img, cv2.IMREAD_COLOR)\n",
    "        img = cv2.cvtColor(img, cv2.COLOR_BGR2RGB)\n",
    "        img = cv2.resize(img, (width, height), interpolation = cv2.INTER_CUBIC) #interporlation = 공백값을 어떻게 메울 것인가, inter cubic : 주변의 평균값으로 맞춘다\n",
    "        img = img.reshape((width, height, 3)) #reshape = 데이터의 차원을 맞춰주는 것 (흑백은 흑백의 형태로 ??)\n",
    "        train_image.append(img)\n",
    "        train_label.append(onehot_encoded[i])"
   ]
  },
  {
   "cell_type": "code",
   "execution_count": 225,
   "metadata": {},
   "outputs": [],
   "source": [
    "for i in range(len(class_name)):\n",
    "    path = os.path.join(test_dir, class_name[i])\n",
    "    img_list = os.listdir(path)\n",
    "    for j in img_list: \n",
    "        img = os.path.join(path,j)\n",
    "        img = cv2.imread(img, cv2.IMREAD_COLOR)\n",
    "        img = cv2.cvtColor(img, cv2.COLOR_BGR2RGB)\n",
    "        img = cv2.resize(img, (width, height), interpolation = cv2.INTER_CUBIC)\n",
    "        img = img.reshape((width, height, 3))\n",
    "        test_image.append(img)\n",
    "        test_label.append(onehot_encoded[i])        "
   ]
  },
  {
   "cell_type": "code",
   "execution_count": 226,
   "metadata": {},
   "outputs": [],
   "source": [
    "for i in range(len(class_name)):\n",
    "    path = os.path.join(test_dir, class_name[i])\n",
    "    img_list = os.listdir(path)\n",
    "    for j in img_list: \n",
    "        img = os.path.join(path,j)\n",
    "        img = cv2.imread(img, cv2.IMREAD_COLOR)\n",
    "        img = cv2.cvtColor(img, cv2.COLOR_BGR2RGB)\n",
    "        img = cv2.resize(img, (width, height), interpolation = cv2.INTER_CUBIC)\n",
    "        img = img.reshape((width, height, 3))\n",
    "        val_image.append(img)\n",
    "        val_label.append(onehot_encoded[i])   "
   ]
  },
  {
   "cell_type": "code",
   "execution_count": 227,
   "metadata": {},
   "outputs": [
    {
     "name": "stdout",
     "output_type": "stream",
     "text": [
      "200\n",
      "200\n",
      "28\n",
      "28\n",
      "28\n",
      "28\n"
     ]
    }
   ],
   "source": [
    "print(len(train_image))\n",
    "print(len(train_label))\n",
    "print(len(test_image))\n",
    "print(len(test_label))\n",
    "print(len(val_image))\n",
    "print(len(val_label))"
   ]
  },
  {
   "cell_type": "code",
   "execution_count": 228,
   "metadata": {},
   "outputs": [],
   "source": [
    "train_image, val_image, train_label, val_label = train_test_split(train_image, train_label, test_size=0.33, random_state=42)"
   ]
  },
  {
   "cell_type": "code",
   "execution_count": 246,
   "metadata": {},
   "outputs": [
    {
     "name": "stdout",
     "output_type": "stream",
     "text": [
      "(134, 150, 150, 3)\n",
      "(66, 150, 150, 3)\n",
      "(28, 150, 150, 3)\n"
     ]
    }
   ],
   "source": [
    "train_image = np.array(train_image)\n",
    "train_label = np.array(train_label)\n",
    "test_image = np.array(test_image)\n",
    "test_label = np.array(test_label)\n",
    "val_image = np.array(val_image)\n",
    "val_label = np.array(val_label)\n",
    "print(train_image.shape)\n",
    "print(val_image.shape)\n",
    "print(test_image.shape)"
   ]
  },
  {
   "cell_type": "code",
   "execution_count": 247,
   "metadata": {},
   "outputs": [],
   "source": [
    "model = Sequential()\n",
    "\n",
    "model.add(Conv2D(64, (3, 3), activation = 'relu', input_shape = (150, 150, train_image.shape[3])))\n",
    "model.add(MaxPooling2D((2, 2)))\n",
    "model.add(Conv2D(34, (3, 3), activation = 'relu'))\n",
    "model.add(MaxPooling2D((2, 2)))\n",
    "model.add(Conv2D(32, (3, 3), activation = 'relu'))\n",
    "model.add(MaxPooling2D((2, 2)))\n",
    "model.add(Flatten())\n",
    "\n",
    "model.add(Dense(32, activation = 'relu'))\n",
    "model.add(Dense(16, activation = 'relu'))\n",
    "model.add(Dense(train_label.shape[1], activation = 'softmax'))"
   ]
  },
  {
   "cell_type": "code",
   "execution_count": 248,
   "metadata": {},
   "outputs": [
    {
     "name": "stdout",
     "output_type": "stream",
     "text": [
      "Model: \"sequential_8\"\n",
      "_________________________________________________________________\n",
      "Layer (type)                 Output Shape              Param #   \n",
      "=================================================================\n",
      "conv2d_13 (Conv2D)           (None, 148, 148, 64)      1792      \n",
      "_________________________________________________________________\n",
      "max_pooling2d_13 (MaxPooling (None, 74, 74, 64)        0         \n",
      "_________________________________________________________________\n",
      "conv2d_14 (Conv2D)           (None, 72, 72, 34)        19618     \n",
      "_________________________________________________________________\n",
      "max_pooling2d_14 (MaxPooling (None, 36, 36, 34)        0         \n",
      "_________________________________________________________________\n",
      "conv2d_15 (Conv2D)           (None, 34, 34, 32)        9824      \n",
      "_________________________________________________________________\n",
      "max_pooling2d_15 (MaxPooling (None, 17, 17, 32)        0         \n",
      "_________________________________________________________________\n",
      "flatten_5 (Flatten)          (None, 9248)              0         \n",
      "_________________________________________________________________\n",
      "dense_11 (Dense)             (None, 32)                295968    \n",
      "_________________________________________________________________\n",
      "dense_12 (Dense)             (None, 16)                528       \n",
      "_________________________________________________________________\n",
      "dense_13 (Dense)             (None, 2)                 34        \n",
      "=================================================================\n",
      "Total params: 327,764\n",
      "Trainable params: 327,764\n",
      "Non-trainable params: 0\n",
      "_________________________________________________________________\n"
     ]
    }
   ],
   "source": [
    "model.summary()"
   ]
  },
  {
   "cell_type": "code",
   "execution_count": 249,
   "metadata": {},
   "outputs": [],
   "source": [
    "model.compile(optimizer='Adam',\n",
    "              loss='binary_crossentropy',\n",
    "              metrics=['accuracy'])"
   ]
  },
  {
   "cell_type": "code",
   "execution_count": 250,
   "metadata": {},
   "outputs": [],
   "source": [
    "loss_type = 'mean_squared_error', 'binary_crossentropy', 'categorical_crossentropy'"
   ]
  },
  {
   "cell_type": "code",
   "execution_count": 251,
   "metadata": {},
   "outputs": [
    {
     "name": "stdout",
     "output_type": "stream",
     "text": [
      "Train on 134 samples, validate on 66 samples\n",
      "Epoch 1/10\n",
      "134/134 [==============================] - 4s 29ms/step - loss: 1.6510 - accuracy: 0.5373 - val_loss: 0.8770 - val_accuracy: 0.4697\n",
      "Epoch 2/10\n",
      "134/134 [==============================] - 3s 25ms/step - loss: 0.6213 - accuracy: 0.6567 - val_loss: 0.7594 - val_accuracy: 0.5152\n",
      "Epoch 3/10\n",
      "134/134 [==============================] - 3s 25ms/step - loss: 0.4580 - accuracy: 0.7836 - val_loss: 2.0256 - val_accuracy: 0.5303\n",
      "Epoch 4/10\n",
      "134/134 [==============================] - 3s 25ms/step - loss: 0.9065 - accuracy: 0.7463 - val_loss: 1.0700 - val_accuracy: 0.4697\n",
      "Epoch 5/10\n",
      "134/134 [==============================] - 3s 25ms/step - loss: 0.4015 - accuracy: 0.8134 - val_loss: 1.0481 - val_accuracy: 0.5000\n",
      "Epoch 6/10\n",
      "134/134 [==============================] - 3s 25ms/step - loss: 0.3327 - accuracy: 0.8284 - val_loss: 1.8495 - val_accuracy: 0.4697\n",
      "Epoch 7/10\n",
      "134/134 [==============================] - 3s 25ms/step - loss: 0.2063 - accuracy: 0.9328 - val_loss: 1.4604 - val_accuracy: 0.4394\n",
      "Epoch 8/10\n",
      "134/134 [==============================] - 3s 25ms/step - loss: 0.2564 - accuracy: 0.8955 - val_loss: 1.9229 - val_accuracy: 0.4091\n",
      "Epoch 9/10\n",
      "134/134 [==============================] - 3s 26ms/step - loss: 0.1939 - accuracy: 0.9179 - val_loss: 3.2907 - val_accuracy: 0.4394\n",
      "Epoch 10/10\n",
      "134/134 [==============================] - 4s 27ms/step - loss: 0.3183 - accuracy: 0.8955 - val_loss: 1.5719 - val_accuracy: 0.4848\n"
     ]
    }
   ],
   "source": [
    "history = model.fit(x = train_image, y = train_label, validation_data = (val_image, val_label), batch_size = 5, epochs = 10)"
   ]
  },
  {
   "cell_type": "code",
   "execution_count": 252,
   "metadata": {},
   "outputs": [
    {
     "name": "stdout",
     "output_type": "stream",
     "text": [
      "28/28 [==============================] - 0s 9ms/step\n",
      "[0.3356654644012451, 0.8214285969734192]\n"
     ]
    }
   ],
   "source": [
    "loss_and_accuracy = model.evaluate(x = test_input, y = test_label)\n",
    "print(loss_and_accuracy)"
   ]
  },
  {
   "cell_type": "code",
   "execution_count": 253,
   "metadata": {},
   "outputs": [
    {
     "data": {
      "image/png": "[encoded data removed]",
      "text/plain": [
       "<Figure size 432x288 with 1 Axes>"
      ]
     },
     "metadata": {
      "needs_background": "light"
     },
     "output_type": "display_data"
    },
    {
     "data": {
      "image/png": "[encoded data removed]",
      "text/plain": [
       "<Figure size 432x288 with 1 Axes>"
      ]
     },
     "metadata": {
      "needs_background": "light"
     },
     "output_type": "display_data"
    }
   ],
   "source": [
    "plt.rcParams['lines.linewidth'] = 2\n",
    "\n",
    "acc = history.history['accuracy']\n",
    "val_acc = history.history['val_accuracy']\n",
    "loss = history.history['loss']\n",
    "val_loss = history.history['val_loss']\n",
    "\n",
    "epochs = range(len(acc))\n",
    "\n",
    "plt.plot(epochs, acc, 'b', label='Training acc')\n",
    "plt.plot(epochs, val_acc, 'g', label='Validation acc')\n",
    "plt.title('Training and validation accuracy')\n",
    "plt.legend()\n",
    "\n",
    "plt.figure()\n",
    "\n",
    "plt.plot(epochs, loss, 'b', label='Training loss')\n",
    "plt.plot(epochs, val_loss, 'g', label='Validation loss')\n",
    "plt.title('Training and validation loss')\n",
    "plt.legend()\n",
    "plt.show()"
   ]
  }
 ],
 "metadata": {
  "kernelspec": {
   "display_name": "Python 3",
   "language": "python",
   "name": "python3"
  },
  "language_info": {
   "codemirror_mode": {
    "name": "ipython",
    "version": 3
   },
   "file_extension": ".py",
   "mimetype": "text/x-python",
   "name": "python",
   "nbconvert_exporter": "python",
   "pygments_lexer": "ipython3",
   "version": "3.7.3"
  }
 },
 "nbformat": 4,
 "nbformat_minor": 2
}
